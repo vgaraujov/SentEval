{
 "cells": [
  {
   "cell_type": "code",
   "execution_count": 2,
   "metadata": {
    "collapsed": true,
    "colab": {
     "base_uri": "https://localhost:8080/"
    },
    "id": "gcS_HfF0jtDb",
    "executionInfo": {
     "status": "ok",
     "timestamp": 1695730190583,
     "user_tz": -120,
     "elapsed": 24856,
     "user": {
      "displayName": "Kushal Tatariya",
      "userId": "02875399616543221813"
     }
    },
    "outputId": "347c138e-079b-4073-c845-c2cf9c42141b",
    "ExecuteTime": {
     "end_time": "2024-01-19T14:22:27.930735622Z",
     "start_time": "2024-01-19T14:22:27.925716860Z"
    }
   },
   "outputs": [],
   "source": [
    "import pandas as pd\n",
    "import pickle\n",
    "import seaborn as sns\n",
    "from glob import glob\n",
    "sns.set_theme(style=\"whitegrid\")"
   ]
  },
  {
   "cell_type": "code",
   "execution_count": 3,
   "outputs": [],
   "source": [
    "def read_pickle(model, lang, layer, pooling):\n",
    "    folder = '/home/kushal/SentEval/examples/'\n",
    "    if model == 'pixel':\n",
    "        filename = model+'_p='+pooling+'_l='+layer+'_lg='+lang+'_s=1111.pickle'\n",
    "    else:\n",
    "        filename = model+'_p='+pooling+'_l='+layer+'_lg='+lang+'_s=1111.csv.pickle'\n",
    "    with open(folder + filename, 'rb') as handle:\n",
    "    #with open(filename, 'rb') as handle:\n",
    "        data = pickle.load(handle)\n",
    "    df_list = []\n",
    "    df_scores = {}\n",
    "    for key, index in data.items():\n",
    "        # print(key)\n",
    "        score_dict = {'DevAcc': index['devacc'], 'Acc': index['acc'], 'NDev': index['ndev'], 'NTest': index['ntest']}\n",
    "        list_dict = {'indexes':list(index['indexes']), 'targets':list(index['targets']), 'predictions':list(index['predictions'])}\n",
    "        df_l = pd.DataFrame.from_dict(list_dict)\n",
    "        df_scores[key]=score_dict\n",
    "        df_list.append(df_l)\n",
    "    df = pd.DataFrame.from_dict(df_scores, orient='index')\n",
    "    df['Model'] = model\n",
    "    return df, df_list\n"
   ],
   "metadata": {
    "id": "rMcK4X5LjtDe",
    "executionInfo": {
     "status": "ok",
     "timestamp": 1695730193888,
     "user_tz": -120,
     "elapsed": 467,
     "user": {
      "displayName": "Kushal Tatariya",
      "userId": "02875399616543221813"
     }
    },
    "ExecuteTime": {
     "end_time": "2024-01-19T14:22:28.922884638Z",
     "start_time": "2024-01-19T14:22:28.917363795Z"
    }
   }
  },
  {
   "cell_type": "code",
   "source": [
    "datab = []\n",
    "datam = []\n",
    "# datap = []\n",
    "for i in range(1,13):\n",
    "  datab.append(read_pickle('bert', 'Hindi', str(i), 'mean')[0]['Acc'])\n",
    "  datam.append(read_pickle('mbert', 'Hindi', str(i), 'mean')[0]['Acc'])\n",
    "  # datap.append(read_pickle('pixel', 'Tamil', str(i), 'mean')[0]['Acc'])\n",
    "\n",
    "print(read_pickle('bert', 'Tamil', str(i), 'mean')[0])"
   ],
   "metadata": {
    "id": "wBjCNKjQsjqO",
    "executionInfo": {
     "status": "ok",
     "timestamp": 1695733982575,
     "user_tz": -120,
     "elapsed": 13165,
     "user": {
      "displayName": "Kushal Tatariya",
      "userId": "02875399616543221813"
     }
    },
    "ExecuteTime": {
     "end_time": "2024-01-19T14:22:30.745414965Z",
     "start_time": "2024-01-19T14:22:29.854908985Z"
    }
   },
   "execution_count": 4,
   "outputs": [
    {
     "name": "stdout",
     "output_type": "stream",
     "text": [
      "              DevAcc    Acc  NDev  NTest Model\n",
      "Ta_Case        58.23  61.67    79    120  bert\n",
      "Ta_Gender      70.89  65.00    79    120  bert\n",
      "Ta_Mood        97.37  97.46    76    118  bert\n",
      "Ta_Number      80.00  70.00    80    120  bert\n",
      "Ta_NumType     78.26  90.00    23     50  bert\n",
      "Ta_Person      92.50  99.17    80    120  bert\n",
      "Ta_PunctType   97.50  95.83    80    120  bert\n",
      "Ta_Tense       44.44  48.60    72    107  bert\n",
      "Ta_VerbForm    58.75  40.83    80    120  bert\n"
     ]
    }
   ]
  },
  {
   "cell_type": "code",
   "source": [
    "dfb = pd.concat(datab, axis=1)\n",
    "dfb.columns = list(range(1,13))\n",
    "\n",
    "dfm = pd.concat(datam, axis=1)\n",
    "dfm.columns = list(range(1,13))\n",
    "\n",
    "# dfp = pd.concat(datap, axis=1)\n",
    "# dfp.columns = list(range(1,13))\n",
    "\n",
    "dfb_aux = dfb.T\n",
    "dfb_aux['Model'] = 'bert'\n",
    "dfm_aux = dfm.T\n",
    "dfm_aux['Model'] = 'mbert'\n",
    "# dfp_aux = dfp.T\n",
    "# dfp_aux['Model'] = 'pixel'\n",
    "all_list = [dfb_aux, dfm_aux,\n",
    "            # dfp_aux\n",
    "            ]\n",
    "dev_df = pd.concat(all_list)\n"
   ],
   "metadata": {
    "id": "fSCUQEfTtTez",
    "executionInfo": {
     "status": "ok",
     "timestamp": 1695734010463,
     "user_tz": -120,
     "elapsed": 331,
     "user": {
      "displayName": "Kushal Tatariya",
      "userId": "02875399616543221813"
     }
    },
    "ExecuteTime": {
     "end_time": "2024-01-19T14:22:31.877243437Z",
     "start_time": "2024-01-19T14:22:31.875136217Z"
    }
   },
   "execution_count": 5,
   "outputs": []
  },
  {
   "cell_type": "code",
   "source": [
    "dev_df"
   ],
   "metadata": {
    "colab": {
     "base_uri": "https://localhost:8080/",
     "height": 802
    },
    "id": "r81QG0h-sd7_",
    "executionInfo": {
     "status": "ok",
     "timestamp": 1695734017234,
     "user_tz": -120,
     "elapsed": 299,
     "user": {
      "displayName": "Kushal Tatariya",
      "userId": "02875399616543221813"
     }
    },
    "outputId": "12c88a27-3fce-49c0-afc2-1814fc0c4104",
    "ExecuteTime": {
     "end_time": "2024-01-19T14:22:33.326437784Z",
     "start_time": "2024-01-19T14:22:33.297425079Z"
    }
   },
   "execution_count": 6,
   "outputs": [
    {
     "data": {
      "text/plain": "    Hi_Aspect  Hi_Case  Hi_Gender  Hi_Mood  Hi_Number  Hi_NumType  Hi_Person  \\\n1       92.07    62.95      79.26    98.12      88.35       89.13      99.88   \n2       92.07    63.36      79.62    98.12      88.41       89.13      99.88   \n3       92.07    65.62      80.57    98.12      88.41       89.13      99.88   \n4       92.14    66.92      81.46    98.12      88.47       89.13      99.88   \n5       92.71    68.53      81.76    98.12      89.30       89.13      99.88   \n6       92.21    68.47      82.17    98.12      88.89       89.13      99.88   \n7       92.49    68.35      81.64    98.12      89.42       89.13      99.88   \n8       92.57    68.23      82.00    98.04      89.54       89.13      99.88   \n9       92.57    68.05      81.28    98.12      88.59       89.13      99.88   \n10      92.85    69.30      81.40    98.12      89.13       89.13      99.88   \n11      93.71    69.60      81.70    98.12      88.59       89.13      99.88   \n12      92.57    69.24      80.81    98.12      89.19       89.13      99.88   \n1       94.42    73.75      87.58    98.19      91.74       93.36      99.88   \n2       94.57    73.99      87.11    98.12      91.27       92.35      99.88   \n3       94.71    74.58      87.28    98.12      92.39       93.56      99.76   \n4       94.85    75.65      87.46    98.34      92.93       94.37      99.76   \n5       95.21    77.14      86.33    98.27      92.81       94.16      99.70   \n6       95.71    79.28      86.75    98.49      93.52       93.76      99.76   \n7       94.85    79.51      86.33    98.34      92.99       94.57      99.88   \n8       94.71    79.04      86.69    98.27      92.99       94.97      99.82   \n9       94.64    78.21      88.83    98.12      92.99       94.77      99.76   \n10      94.42    77.43      88.35    98.12      94.00       93.76      99.76   \n11      94.28    77.08      89.19    98.19      93.52       90.34      99.58   \n12      93.92    76.43      88.83    98.04      93.40       91.75      99.70   \n\n    Hi_PronType  Hi_Tense  Hi_VerbForm  Hi_Voice  Model  \n1         62.89     73.19        73.40     91.38   bert  \n2         63.32     73.72        73.46     91.27   bert  \n3         63.32     74.56        74.35     91.98   bert  \n4         63.66     74.64        74.64     91.50   bert  \n5         64.09     74.79        74.94     91.68   bert  \n6         64.34     75.17        74.70     91.80   bert  \n7         64.26     75.17        73.63     92.04   bert  \n8         64.51     74.41        75.06     91.92   bert  \n9         64.51     75.17        73.87     91.80   bert  \n10        63.74     75.55        75.83     91.86   bert  \n11        63.83     74.79        75.30     91.92   bert  \n12        64.00     74.18        75.12     91.80   bert  \n1         79.40     96.80        82.01     92.22  mbert  \n2         78.89     96.80        82.13     92.45  mbert  \n3         77.87     96.27        83.97     93.29  mbert  \n4         78.64     95.89        83.55     93.94  mbert  \n5         79.06     96.65        83.14     93.23  mbert  \n6         79.49     96.12        84.03     93.70  mbert  \n7         80.00     95.28        84.62     93.23  mbert  \n8         79.40     94.67        84.20     93.46  mbert  \n9         80.77     94.59        84.26     92.57  mbert  \n10        78.98     94.90        84.14     92.75  mbert  \n11        77.45     93.75        83.85     92.81  mbert  \n12        75.15     92.92        82.13     92.69  mbert  ",
      "text/html": "<div>\n<style scoped>\n    .dataframe tbody tr th:only-of-type {\n        vertical-align: middle;\n    }\n\n    .dataframe tbody tr th {\n        vertical-align: top;\n    }\n\n    .dataframe thead th {\n        text-align: right;\n    }\n</style>\n<table border=\"1\" class=\"dataframe\">\n  <thead>\n    <tr style=\"text-align: right;\">\n      <th></th>\n      <th>Hi_Aspect</th>\n      <th>Hi_Case</th>\n      <th>Hi_Gender</th>\n      <th>Hi_Mood</th>\n      <th>Hi_Number</th>\n      <th>Hi_NumType</th>\n      <th>Hi_Person</th>\n      <th>Hi_PronType</th>\n      <th>Hi_Tense</th>\n      <th>Hi_VerbForm</th>\n      <th>Hi_Voice</th>\n      <th>Model</th>\n    </tr>\n  </thead>\n  <tbody>\n    <tr>\n      <th>1</th>\n      <td>92.07</td>\n      <td>62.95</td>\n      <td>79.26</td>\n      <td>98.12</td>\n      <td>88.35</td>\n      <td>89.13</td>\n      <td>99.88</td>\n      <td>62.89</td>\n      <td>73.19</td>\n      <td>73.40</td>\n      <td>91.38</td>\n      <td>bert</td>\n    </tr>\n    <tr>\n      <th>2</th>\n      <td>92.07</td>\n      <td>63.36</td>\n      <td>79.62</td>\n      <td>98.12</td>\n      <td>88.41</td>\n      <td>89.13</td>\n      <td>99.88</td>\n      <td>63.32</td>\n      <td>73.72</td>\n      <td>73.46</td>\n      <td>91.27</td>\n      <td>bert</td>\n    </tr>\n    <tr>\n      <th>3</th>\n      <td>92.07</td>\n      <td>65.62</td>\n      <td>80.57</td>\n      <td>98.12</td>\n      <td>88.41</td>\n      <td>89.13</td>\n      <td>99.88</td>\n      <td>63.32</td>\n      <td>74.56</td>\n      <td>74.35</td>\n      <td>91.98</td>\n      <td>bert</td>\n    </tr>\n    <tr>\n      <th>4</th>\n      <td>92.14</td>\n      <td>66.92</td>\n      <td>81.46</td>\n      <td>98.12</td>\n      <td>88.47</td>\n      <td>89.13</td>\n      <td>99.88</td>\n      <td>63.66</td>\n      <td>74.64</td>\n      <td>74.64</td>\n      <td>91.50</td>\n      <td>bert</td>\n    </tr>\n    <tr>\n      <th>5</th>\n      <td>92.71</td>\n      <td>68.53</td>\n      <td>81.76</td>\n      <td>98.12</td>\n      <td>89.30</td>\n      <td>89.13</td>\n      <td>99.88</td>\n      <td>64.09</td>\n      <td>74.79</td>\n      <td>74.94</td>\n      <td>91.68</td>\n      <td>bert</td>\n    </tr>\n    <tr>\n      <th>6</th>\n      <td>92.21</td>\n      <td>68.47</td>\n      <td>82.17</td>\n      <td>98.12</td>\n      <td>88.89</td>\n      <td>89.13</td>\n      <td>99.88</td>\n      <td>64.34</td>\n      <td>75.17</td>\n      <td>74.70</td>\n      <td>91.80</td>\n      <td>bert</td>\n    </tr>\n    <tr>\n      <th>7</th>\n      <td>92.49</td>\n      <td>68.35</td>\n      <td>81.64</td>\n      <td>98.12</td>\n      <td>89.42</td>\n      <td>89.13</td>\n      <td>99.88</td>\n      <td>64.26</td>\n      <td>75.17</td>\n      <td>73.63</td>\n      <td>92.04</td>\n      <td>bert</td>\n    </tr>\n    <tr>\n      <th>8</th>\n      <td>92.57</td>\n      <td>68.23</td>\n      <td>82.00</td>\n      <td>98.04</td>\n      <td>89.54</td>\n      <td>89.13</td>\n      <td>99.88</td>\n      <td>64.51</td>\n      <td>74.41</td>\n      <td>75.06</td>\n      <td>91.92</td>\n      <td>bert</td>\n    </tr>\n    <tr>\n      <th>9</th>\n      <td>92.57</td>\n      <td>68.05</td>\n      <td>81.28</td>\n      <td>98.12</td>\n      <td>88.59</td>\n      <td>89.13</td>\n      <td>99.88</td>\n      <td>64.51</td>\n      <td>75.17</td>\n      <td>73.87</td>\n      <td>91.80</td>\n      <td>bert</td>\n    </tr>\n    <tr>\n      <th>10</th>\n      <td>92.85</td>\n      <td>69.30</td>\n      <td>81.40</td>\n      <td>98.12</td>\n      <td>89.13</td>\n      <td>89.13</td>\n      <td>99.88</td>\n      <td>63.74</td>\n      <td>75.55</td>\n      <td>75.83</td>\n      <td>91.86</td>\n      <td>bert</td>\n    </tr>\n    <tr>\n      <th>11</th>\n      <td>93.71</td>\n      <td>69.60</td>\n      <td>81.70</td>\n      <td>98.12</td>\n      <td>88.59</td>\n      <td>89.13</td>\n      <td>99.88</td>\n      <td>63.83</td>\n      <td>74.79</td>\n      <td>75.30</td>\n      <td>91.92</td>\n      <td>bert</td>\n    </tr>\n    <tr>\n      <th>12</th>\n      <td>92.57</td>\n      <td>69.24</td>\n      <td>80.81</td>\n      <td>98.12</td>\n      <td>89.19</td>\n      <td>89.13</td>\n      <td>99.88</td>\n      <td>64.00</td>\n      <td>74.18</td>\n      <td>75.12</td>\n      <td>91.80</td>\n      <td>bert</td>\n    </tr>\n    <tr>\n      <th>1</th>\n      <td>94.42</td>\n      <td>73.75</td>\n      <td>87.58</td>\n      <td>98.19</td>\n      <td>91.74</td>\n      <td>93.36</td>\n      <td>99.88</td>\n      <td>79.40</td>\n      <td>96.80</td>\n      <td>82.01</td>\n      <td>92.22</td>\n      <td>mbert</td>\n    </tr>\n    <tr>\n      <th>2</th>\n      <td>94.57</td>\n      <td>73.99</td>\n      <td>87.11</td>\n      <td>98.12</td>\n      <td>91.27</td>\n      <td>92.35</td>\n      <td>99.88</td>\n      <td>78.89</td>\n      <td>96.80</td>\n      <td>82.13</td>\n      <td>92.45</td>\n      <td>mbert</td>\n    </tr>\n    <tr>\n      <th>3</th>\n      <td>94.71</td>\n      <td>74.58</td>\n      <td>87.28</td>\n      <td>98.12</td>\n      <td>92.39</td>\n      <td>93.56</td>\n      <td>99.76</td>\n      <td>77.87</td>\n      <td>96.27</td>\n      <td>83.97</td>\n      <td>93.29</td>\n      <td>mbert</td>\n    </tr>\n    <tr>\n      <th>4</th>\n      <td>94.85</td>\n      <td>75.65</td>\n      <td>87.46</td>\n      <td>98.34</td>\n      <td>92.93</td>\n      <td>94.37</td>\n      <td>99.76</td>\n      <td>78.64</td>\n      <td>95.89</td>\n      <td>83.55</td>\n      <td>93.94</td>\n      <td>mbert</td>\n    </tr>\n    <tr>\n      <th>5</th>\n      <td>95.21</td>\n      <td>77.14</td>\n      <td>86.33</td>\n      <td>98.27</td>\n      <td>92.81</td>\n      <td>94.16</td>\n      <td>99.70</td>\n      <td>79.06</td>\n      <td>96.65</td>\n      <td>83.14</td>\n      <td>93.23</td>\n      <td>mbert</td>\n    </tr>\n    <tr>\n      <th>6</th>\n      <td>95.71</td>\n      <td>79.28</td>\n      <td>86.75</td>\n      <td>98.49</td>\n      <td>93.52</td>\n      <td>93.76</td>\n      <td>99.76</td>\n      <td>79.49</td>\n      <td>96.12</td>\n      <td>84.03</td>\n      <td>93.70</td>\n      <td>mbert</td>\n    </tr>\n    <tr>\n      <th>7</th>\n      <td>94.85</td>\n      <td>79.51</td>\n      <td>86.33</td>\n      <td>98.34</td>\n      <td>92.99</td>\n      <td>94.57</td>\n      <td>99.88</td>\n      <td>80.00</td>\n      <td>95.28</td>\n      <td>84.62</td>\n      <td>93.23</td>\n      <td>mbert</td>\n    </tr>\n    <tr>\n      <th>8</th>\n      <td>94.71</td>\n      <td>79.04</td>\n      <td>86.69</td>\n      <td>98.27</td>\n      <td>92.99</td>\n      <td>94.97</td>\n      <td>99.82</td>\n      <td>79.40</td>\n      <td>94.67</td>\n      <td>84.20</td>\n      <td>93.46</td>\n      <td>mbert</td>\n    </tr>\n    <tr>\n      <th>9</th>\n      <td>94.64</td>\n      <td>78.21</td>\n      <td>88.83</td>\n      <td>98.12</td>\n      <td>92.99</td>\n      <td>94.77</td>\n      <td>99.76</td>\n      <td>80.77</td>\n      <td>94.59</td>\n      <td>84.26</td>\n      <td>92.57</td>\n      <td>mbert</td>\n    </tr>\n    <tr>\n      <th>10</th>\n      <td>94.42</td>\n      <td>77.43</td>\n      <td>88.35</td>\n      <td>98.12</td>\n      <td>94.00</td>\n      <td>93.76</td>\n      <td>99.76</td>\n      <td>78.98</td>\n      <td>94.90</td>\n      <td>84.14</td>\n      <td>92.75</td>\n      <td>mbert</td>\n    </tr>\n    <tr>\n      <th>11</th>\n      <td>94.28</td>\n      <td>77.08</td>\n      <td>89.19</td>\n      <td>98.19</td>\n      <td>93.52</td>\n      <td>90.34</td>\n      <td>99.58</td>\n      <td>77.45</td>\n      <td>93.75</td>\n      <td>83.85</td>\n      <td>92.81</td>\n      <td>mbert</td>\n    </tr>\n    <tr>\n      <th>12</th>\n      <td>93.92</td>\n      <td>76.43</td>\n      <td>88.83</td>\n      <td>98.04</td>\n      <td>93.40</td>\n      <td>91.75</td>\n      <td>99.70</td>\n      <td>75.15</td>\n      <td>92.92</td>\n      <td>82.13</td>\n      <td>92.69</td>\n      <td>mbert</td>\n    </tr>\n  </tbody>\n</table>\n</div>"
     },
     "execution_count": 6,
     "metadata": {},
     "output_type": "execute_result"
    }
   ]
  },
  {
   "cell_type": "code",
   "source": [
    "sns.lineplot(data=dev_df, x=dev_df.index, y='Hi_Voice', hue='Model')\n"
   ],
   "metadata": {
    "colab": {
     "base_uri": "https://localhost:8080/",
     "height": 451
    },
    "id": "2Hp-xBj6wd8j",
    "executionInfo": {
     "status": "ok",
     "timestamp": 1695734048806,
     "user_tz": -120,
     "elapsed": 1763,
     "user": {
      "displayName": "Kushal Tatariya",
      "userId": "02875399616543221813"
     }
    },
    "outputId": "f6af4cd3-88fb-441c-d9f0-349e43a0884a",
    "ExecuteTime": {
     "end_time": "2024-01-19T14:33:03.483902951Z",
     "start_time": "2024-01-19T14:33:03.322225778Z"
    }
   },
   "execution_count": 8,
   "outputs": [
    {
     "name": "stderr",
     "output_type": "stream",
     "text": [
      "/home/kushal/anaconda3/envs/pixel-env/lib/python3.11/site-packages/seaborn/_oldcore.py:1119: FutureWarning: use_inf_as_na option is deprecated and will be removed in a future version. Convert inf values to NaN before operating instead.\n",
      "  with pd.option_context('mode.use_inf_as_na', True):\n",
      "/home/kushal/anaconda3/envs/pixel-env/lib/python3.11/site-packages/seaborn/_oldcore.py:1119: FutureWarning: use_inf_as_na option is deprecated and will be removed in a future version. Convert inf values to NaN before operating instead.\n",
      "  with pd.option_context('mode.use_inf_as_na', True):\n"
     ]
    },
    {
     "data": {
      "text/plain": "<Axes: ylabel='Hi_Voice'>"
     },
     "execution_count": 8,
     "metadata": {},
     "output_type": "execute_result"
    },
    {
     "data": {
      "text/plain": "<Figure size 640x480 with 1 Axes>",
      "image/png": "[encoded data removed]"
     },
     "metadata": {},
     "output_type": "display_data"
    }
   ]
  },
  {
   "cell_type": "code",
   "execution_count": 7,
   "outputs": [
    {
     "output_type": "execute_result",
     "data": {
      "text/plain": [
       "                       DevAcc    Acc   NDev  NTest Model\n",
       "Length                  94.08  94.02   9996   9996  bert\n",
       "WordContent             83.04  83.06  10000  10000  bert\n",
       "Depth                   42.79  42.60  10000  10000  bert\n",
       "TopConstituents         80.43  80.41  10000  10000  bert\n",
       "BigramShift             90.48  89.98  10000  10000  bert\n",
       "Tense                   90.41  88.93  10000  10000  bert\n",
       "SubjNumber              87.13  85.95  10000  10000  bert\n",
       "ObjNumber               83.83  85.38  10000  10000  bert\n",
       "OddManOut               65.27  64.99  10000  10000  bert\n",
       "CoordinationInversion   69.49  68.92  10002  10002  bert"
      ],
      "text/html": [
       "\n",
       "  <div id=\"df-7ea73c40-55bc-4a1a-b513-b854968e7705\" class=\"colab-df-container\">\n",
       "    <div>\n",
       "<style scoped>\n",
       "    .dataframe tbody tr th:only-of-type {\n",
       "        vertical-align: middle;\n",
       "    }\n",
       "\n",
       "    .dataframe tbody tr th {\n",
       "        vertical-align: top;\n",
       "    }\n",
       "\n",
       "    .dataframe thead th {\n",
       "        text-align: right;\n",
       "    }\n",
       "</style>\n",
       "<table border=\"1\" class=\"dataframe\">\n",
       "  <thead>\n",
       "    <tr style=\"text-align: right;\">\n",
       "      <th></th>\n",
       "      <th>DevAcc</th>\n",
       "      <th>Acc</th>\n",
       "      <th>NDev</th>\n",
       "      <th>NTest</th>\n",
       "      <th>Model</th>\n",
       "    </tr>\n",
       "  </thead>\n",
       "  <tbody>\n",
       "    <tr>\n",
       "      <th>Length</th>\n",
       "      <td>94.08</td>\n",
       "      <td>94.02</td>\n",
       "      <td>9996</td>\n",
       "      <td>9996</td>\n",
       "      <td>bert</td>\n",
       "    </tr>\n",
       "    <tr>\n",
       "      <th>WordContent</th>\n",
       "      <td>83.04</td>\n",
       "      <td>83.06</td>\n",
       "      <td>10000</td>\n",
       "      <td>10000</td>\n",
       "      <td>bert</td>\n",
       "    </tr>\n",
       "    <tr>\n",
       "      <th>Depth</th>\n",
       "      <td>42.79</td>\n",
       "      <td>42.60</td>\n",
       "      <td>10000</td>\n",
       "      <td>10000</td>\n",
       "      <td>bert</td>\n",
       "    </tr>\n",
       "    <tr>\n",
       "      <th>TopConstituents</th>\n",
       "      <td>80.43</td>\n",
       "      <td>80.41</td>\n",
       "      <td>10000</td>\n",
       "      <td>10000</td>\n",
       "      <td>bert</td>\n",
       "    </tr>\n",
       "    <tr>\n",
       "      <th>BigramShift</th>\n",
       "      <td>90.48</td>\n",
       "      <td>89.98</td>\n",
       "      <td>10000</td>\n",
       "      <td>10000</td>\n",
       "      <td>bert</td>\n",
       "    </tr>\n",
       "    <tr>\n",
       "      <th>Tense</th>\n",
       "      <td>90.41</td>\n",
       "      <td>88.93</td>\n",
       "      <td>10000</td>\n",
       "      <td>10000</td>\n",
       "      <td>bert</td>\n",
       "    </tr>\n",
       "    <tr>\n",
       "      <th>SubjNumber</th>\n",
       "      <td>87.13</td>\n",
       "      <td>85.95</td>\n",
       "      <td>10000</td>\n",
       "      <td>10000</td>\n",
       "      <td>bert</td>\n",
       "    </tr>\n",
       "    <tr>\n",
       "      <th>ObjNumber</th>\n",
       "      <td>83.83</td>\n",
       "      <td>85.38</td>\n",
       "      <td>10000</td>\n",
       "      <td>10000</td>\n",
       "      <td>bert</td>\n",
       "    </tr>\n",
       "    <tr>\n",
       "      <th>OddManOut</th>\n",
       "      <td>65.27</td>\n",
       "      <td>64.99</td>\n",
       "      <td>10000</td>\n",
       "      <td>10000</td>\n",
       "      <td>bert</td>\n",
       "    </tr>\n",
       "    <tr>\n",
       "      <th>CoordinationInversion</th>\n",
       "      <td>69.49</td>\n",
       "      <td>68.92</td>\n",
       "      <td>10002</td>\n",
       "      <td>10002</td>\n",
       "      <td>bert</td>\n",
       "    </tr>\n",
       "  </tbody>\n",
       "</table>\n",
       "</div>\n",
       "    <div class=\"colab-df-buttons\">\n",
       "\n",
       "  <div class=\"colab-df-container\">\n",
       "    <button class=\"colab-df-convert\" onclick=\"convertToInteractive('df-7ea73c40-55bc-4a1a-b513-b854968e7705')\"\n",
       "            title=\"Convert this dataframe to an interactive table.\"\n",
       "            style=\"display:none;\">\n",
       "\n",
       "  <svg xmlns=\"http://www.w3.org/2000/svg\" height=\"24px\" viewBox=\"0 -960 960 960\">\n",
       "    <path d=\"M120-120v-720h720v720H120Zm60-500h600v-160H180v160Zm220 220h160v-160H400v160Zm0 220h160v-160H400v160ZM180-400h160v-160H180v160Zm440 0h160v-160H620v160ZM180-180h160v-160H180v160Zm440 0h160v-160H620v160Z\"/>\n",
       "  </svg>\n",
       "    </button>\n",
       "\n",
       "  <style>\n",
       "    .colab-df-container {\n",
       "      display:flex;\n",
       "      gap: 12px;\n",
       "    }\n",
       "\n",
       "    .colab-df-convert {\n",
       "      background-color: #E8F0FE;\n",
       "      border: none;\n",
       "      border-radius: 50%;\n",
       "      cursor: pointer;\n",
       "      display: none;\n",
       "      fill: #1967D2;\n",
       "      height: 32px;\n",
       "      padding: 0 0 0 0;\n",
       "      width: 32px;\n",
       "    }\n",
       "\n",
       "    .colab-df-convert:hover {\n",
       "      background-color: #E2EBFA;\n",
       "      box-shadow: 0px 1px 2px rgba(60, 64, 67, 0.3), 0px 1px 3px 1px rgba(60, 64, 67, 0.15);\n",
       "      fill: #174EA6;\n",
       "    }\n",
       "\n",
       "    .colab-df-buttons div {\n",
       "      margin-bottom: 4px;\n",
       "    }\n",
       "\n",
       "    [theme=dark] .colab-df-convert {\n",
       "      background-color: #3B4455;\n",
       "      fill: #D2E3FC;\n",
       "    }\n",
       "\n",
       "    [theme=dark] .colab-df-convert:hover {\n",
       "      background-color: #434B5C;\n",
       "      box-shadow: 0px 1px 3px 1px rgba(0, 0, 0, 0.15);\n",
       "      filter: drop-shadow(0px 1px 2px rgba(0, 0, 0, 0.3));\n",
       "      fill: #FFFFFF;\n",
       "    }\n",
       "  </style>\n",
       "\n",
       "    <script>\n",
       "      const buttonEl =\n",
       "        document.querySelector('#df-7ea73c40-55bc-4a1a-b513-b854968e7705 button.colab-df-convert');\n",
       "      buttonEl.style.display =\n",
       "        google.colab.kernel.accessAllowed ? 'block' : 'none';\n",
       "\n",
       "      async function convertToInteractive(key) {\n",
       "        const element = document.querySelector('#df-7ea73c40-55bc-4a1a-b513-b854968e7705');\n",
       "        const dataTable =\n",
       "          await google.colab.kernel.invokeFunction('convertToInteractive',\n",
       "                                                    [key], {});\n",
       "        if (!dataTable) return;\n",
       "\n",
       "        const docLinkHtml = 'Like what you see? Visit the ' +\n",
       "          '<a target=\"_blank\" href=https://colab.research.google.com/notebooks/data_table.ipynb>data table notebook</a>'\n",
       "          + ' to learn more about interactive tables.';\n",
       "        element.innerHTML = '';\n",
       "        dataTable['output_type'] = 'display_data';\n",
       "        await google.colab.output.renderOutput(dataTable, element);\n",
       "        const docLink = document.createElement('div');\n",
       "        docLink.innerHTML = docLinkHtml;\n",
       "        element.appendChild(docLink);\n",
       "      }\n",
       "    </script>\n",
       "  </div>\n",
       "\n",
       "\n",
       "<div id=\"df-c86b39d7-f068-4249-b8d6-93577f7617f7\">\n",
       "  <button class=\"colab-df-quickchart\" onclick=\"quickchart('df-c86b39d7-f068-4249-b8d6-93577f7617f7')\"\n",
       "            title=\"Suggest charts.\"\n",
       "            style=\"display:none;\">\n",
       "\n",
       "<svg xmlns=\"http://www.w3.org/2000/svg\" height=\"24px\"viewBox=\"0 0 24 24\"\n",
       "     width=\"24px\">\n",
       "    <g>\n",
       "        <path d=\"M19 3H5c-1.1 0-2 .9-2 2v14c0 1.1.9 2 2 2h14c1.1 0 2-.9 2-2V5c0-1.1-.9-2-2-2zM9 17H7v-7h2v7zm4 0h-2V7h2v10zm4 0h-2v-4h2v4z\"/>\n",
       "    </g>\n",
       "</svg>\n",
       "  </button>\n",
       "\n",
       "<style>\n",
       "  .colab-df-quickchart {\n",
       "      --bg-color: #E8F0FE;\n",
       "      --fill-color: #1967D2;\n",
       "      --hover-bg-color: #E2EBFA;\n",
       "      --hover-fill-color: #174EA6;\n",
       "      --disabled-fill-color: #AAA;\n",
       "      --disabled-bg-color: #DDD;\n",
       "  }\n",
       "\n",
       "  [theme=dark] .colab-df-quickchart {\n",
       "      --bg-color: #3B4455;\n",
       "      --fill-color: #D2E3FC;\n",
       "      --hover-bg-color: #434B5C;\n",
       "      --hover-fill-color: #FFFFFF;\n",
       "      --disabled-bg-color: #3B4455;\n",
       "      --disabled-fill-color: #666;\n",
       "  }\n",
       "\n",
       "  .colab-df-quickchart {\n",
       "    background-color: var(--bg-color);\n",
       "    border: none;\n",
       "    border-radius: 50%;\n",
       "    cursor: pointer;\n",
       "    display: none;\n",
       "    fill: var(--fill-color);\n",
       "    height: 32px;\n",
       "    padding: 0;\n",
       "    width: 32px;\n",
       "  }\n",
       "\n",
       "  .colab-df-quickchart:hover {\n",
       "    background-color: var(--hover-bg-color);\n",
       "    box-shadow: 0 1px 2px rgba(60, 64, 67, 0.3), 0 1px 3px 1px rgba(60, 64, 67, 0.15);\n",
       "    fill: var(--button-hover-fill-color);\n",
       "  }\n",
       "\n",
       "  .colab-df-quickchart-complete:disabled,\n",
       "  .colab-df-quickchart-complete:disabled:hover {\n",
       "    background-color: var(--disabled-bg-color);\n",
       "    fill: var(--disabled-fill-color);\n",
       "    box-shadow: none;\n",
       "  }\n",
       "\n",
       "  .colab-df-spinner {\n",
       "    border: 2px solid var(--fill-color);\n",
       "    border-color: transparent;\n",
       "    border-bottom-color: var(--fill-color);\n",
       "    animation:\n",
       "      spin 1s steps(1) infinite;\n",
       "  }\n",
       "\n",
       "  @keyframes spin {\n",
       "    0% {\n",
       "      border-color: transparent;\n",
       "      border-bottom-color: var(--fill-color);\n",
       "      border-left-color: var(--fill-color);\n",
       "    }\n",
       "    20% {\n",
       "      border-color: transparent;\n",
       "      border-left-color: var(--fill-color);\n",
       "      border-top-color: var(--fill-color);\n",
       "    }\n",
       "    30% {\n",
       "      border-color: transparent;\n",
       "      border-left-color: var(--fill-color);\n",
       "      border-top-color: var(--fill-color);\n",
       "      border-right-color: var(--fill-color);\n",
       "    }\n",
       "    40% {\n",
       "      border-color: transparent;\n",
       "      border-right-color: var(--fill-color);\n",
       "      border-top-color: var(--fill-color);\n",
       "    }\n",
       "    60% {\n",
       "      border-color: transparent;\n",
       "      border-right-color: var(--fill-color);\n",
       "    }\n",
       "    80% {\n",
       "      border-color: transparent;\n",
       "      border-right-color: var(--fill-color);\n",
       "      border-bottom-color: var(--fill-color);\n",
       "    }\n",
       "    90% {\n",
       "      border-color: transparent;\n",
       "      border-bottom-color: var(--fill-color);\n",
       "    }\n",
       "  }\n",
       "</style>\n",
       "\n",
       "  <script>\n",
       "    async function quickchart(key) {\n",
       "      const quickchartButtonEl =\n",
       "        document.querySelector('#' + key + ' button');\n",
       "      quickchartButtonEl.disabled = true;  // To prevent multiple clicks.\n",
       "      quickchartButtonEl.classList.add('colab-df-spinner');\n",
       "      try {\n",
       "        const charts = await google.colab.kernel.invokeFunction(\n",
       "            'suggestCharts', [key], {});\n",
       "      } catch (error) {\n",
       "        console.error('Error during call to suggestCharts:', error);\n",
       "      }\n",
       "      quickchartButtonEl.classList.remove('colab-df-spinner');\n",
       "      quickchartButtonEl.classList.add('colab-df-quickchart-complete');\n",
       "    }\n",
       "    (() => {\n",
       "      let quickchartButtonEl =\n",
       "        document.querySelector('#df-c86b39d7-f068-4249-b8d6-93577f7617f7 button');\n",
       "      quickchartButtonEl.style.display =\n",
       "        google.colab.kernel.accessAllowed ? 'block' : 'none';\n",
       "    })();\n",
       "  </script>\n",
       "</div>\n",
       "    </div>\n",
       "  </div>\n"
      ]
     },
     "metadata": {},
     "execution_count": 7
    }
   ],
   "source": [
    "df, test = read_pickle('bert', '4','all','mean')\n",
    "df"
   ],
   "metadata": {
    "ExecuteTime": {
     "start_time": "2023-08-09T10:45:25.366498Z",
     "end_time": "2023-08-09T10:45:25.515645Z"
    },
    "colab": {
     "base_uri": "https://localhost:8080/",
     "height": 363
    },
    "id": "dntdU8uyjtDe",
    "executionInfo": {
     "status": "ok",
     "timestamp": 1695651172496,
     "user_tz": -120,
     "elapsed": 1074,
     "user": {
      "displayName": "Kushal Tatariya",
      "userId": "02875399616543221813"
     }
    },
    "outputId": "a2dd38a5-4e43-4569-f150-9e2ceeacaa96"
   }
  },
  {
   "cell_type": "code",
   "source": [
    "df_p, test_p = read_pickle('bert', 'arabic','all','mean')\n",
    "df_p"
   ],
   "metadata": {
    "colab": {
     "base_uri": "https://localhost:8080/",
     "height": 1000
    },
    "id": "-EnjQbAZr7C4",
    "executionInfo": {
     "status": "ok",
     "timestamp": 1695298874285,
     "user_tz": -120,
     "elapsed": 424,
     "user": {
      "displayName": "Kushal Tatariya",
      "userId": "02875399616543221813"
     }
    },
    "outputId": "138e4d5d-0ada-4183-e76e-07e4f7b7f8c4",
    "ExecuteTime": {
     "end_time": "2024-01-17T14:43:43.121293518Z",
     "start_time": "2024-01-17T14:43:43.088427674Z"
    }
   },
   "execution_count": 12,
   "outputs": [
    {
     "ename": "FileNotFoundError",
     "evalue": "[Errno 2] No such file or directory: '/home/kushal/SentEval/examples/bert_p=mean_l=all_lg=arabic_s=1111.csv.pickle'",
     "output_type": "error",
     "traceback": [
      "\u001B[0;31m---------------------------------------------------------------------------\u001B[0m",
      "\u001B[0;31mFileNotFoundError\u001B[0m                         Traceback (most recent call last)",
      "Cell \u001B[0;32mIn[12], line 1\u001B[0m\n\u001B[0;32m----> 1\u001B[0m df_p, test_p \u001B[38;5;241m=\u001B[39m \u001B[43mread_pickle\u001B[49m\u001B[43m(\u001B[49m\u001B[38;5;124;43m'\u001B[39;49m\u001B[38;5;124;43mbert\u001B[39;49m\u001B[38;5;124;43m'\u001B[39;49m\u001B[43m,\u001B[49m\u001B[43m \u001B[49m\u001B[38;5;124;43m'\u001B[39;49m\u001B[38;5;124;43marabic\u001B[39;49m\u001B[38;5;124;43m'\u001B[39;49m\u001B[43m,\u001B[49m\u001B[38;5;124;43m'\u001B[39;49m\u001B[38;5;124;43mall\u001B[39;49m\u001B[38;5;124;43m'\u001B[39;49m\u001B[43m,\u001B[49m\u001B[38;5;124;43m'\u001B[39;49m\u001B[38;5;124;43mmean\u001B[39;49m\u001B[38;5;124;43m'\u001B[39;49m\u001B[43m)\u001B[49m\n\u001B[1;32m      2\u001B[0m df_p\n",
      "Cell \u001B[0;32mIn[7], line 4\u001B[0m, in \u001B[0;36mread_pickle\u001B[0;34m(model, lang, layer, pooling)\u001B[0m\n\u001B[1;32m      2\u001B[0m folder \u001B[38;5;241m=\u001B[39m \u001B[38;5;124m'\u001B[39m\u001B[38;5;124m/home/kushal/SentEval/examples/\u001B[39m\u001B[38;5;124m'\u001B[39m\n\u001B[1;32m      3\u001B[0m filename \u001B[38;5;241m=\u001B[39m model\u001B[38;5;241m+\u001B[39m\u001B[38;5;124m'\u001B[39m\u001B[38;5;124m_p=\u001B[39m\u001B[38;5;124m'\u001B[39m\u001B[38;5;241m+\u001B[39mpooling\u001B[38;5;241m+\u001B[39m\u001B[38;5;124m'\u001B[39m\u001B[38;5;124m_l=\u001B[39m\u001B[38;5;124m'\u001B[39m\u001B[38;5;241m+\u001B[39mlayer\u001B[38;5;241m+\u001B[39m\u001B[38;5;124m'\u001B[39m\u001B[38;5;124m_lg=\u001B[39m\u001B[38;5;124m'\u001B[39m\u001B[38;5;241m+\u001B[39mlang\u001B[38;5;241m+\u001B[39m\u001B[38;5;124m'\u001B[39m\u001B[38;5;124m_s=1111.csv.pickle\u001B[39m\u001B[38;5;124m'\u001B[39m\n\u001B[0;32m----> 4\u001B[0m \u001B[38;5;28;01mwith\u001B[39;00m \u001B[38;5;28;43mopen\u001B[39;49m\u001B[43m(\u001B[49m\u001B[43mfolder\u001B[49m\u001B[43m \u001B[49m\u001B[38;5;241;43m+\u001B[39;49m\u001B[43m \u001B[49m\u001B[43mfilename\u001B[49m\u001B[43m,\u001B[49m\u001B[43m \u001B[49m\u001B[38;5;124;43m'\u001B[39;49m\u001B[38;5;124;43mrb\u001B[39;49m\u001B[38;5;124;43m'\u001B[39;49m\u001B[43m)\u001B[49m \u001B[38;5;28;01mas\u001B[39;00m handle:\n\u001B[1;32m      5\u001B[0m \u001B[38;5;66;03m#with open(filename, 'rb') as handle:\u001B[39;00m\n\u001B[1;32m      6\u001B[0m     data \u001B[38;5;241m=\u001B[39m pickle\u001B[38;5;241m.\u001B[39mload(handle)\n\u001B[1;32m      7\u001B[0m df_list \u001B[38;5;241m=\u001B[39m []\n",
      "File \u001B[0;32m~/anaconda3/envs/pixel-env/lib/python3.11/site-packages/IPython/core/interactiveshell.py:284\u001B[0m, in \u001B[0;36m_modified_open\u001B[0;34m(file, *args, **kwargs)\u001B[0m\n\u001B[1;32m    277\u001B[0m \u001B[38;5;28;01mif\u001B[39;00m file \u001B[38;5;129;01min\u001B[39;00m {\u001B[38;5;241m0\u001B[39m, \u001B[38;5;241m1\u001B[39m, \u001B[38;5;241m2\u001B[39m}:\n\u001B[1;32m    278\u001B[0m     \u001B[38;5;28;01mraise\u001B[39;00m \u001B[38;5;167;01mValueError\u001B[39;00m(\n\u001B[1;32m    279\u001B[0m         \u001B[38;5;124mf\u001B[39m\u001B[38;5;124m\"\u001B[39m\u001B[38;5;124mIPython won\u001B[39m\u001B[38;5;124m'\u001B[39m\u001B[38;5;124mt let you open fd=\u001B[39m\u001B[38;5;132;01m{\u001B[39;00mfile\u001B[38;5;132;01m}\u001B[39;00m\u001B[38;5;124m by default \u001B[39m\u001B[38;5;124m\"\u001B[39m\n\u001B[1;32m    280\u001B[0m         \u001B[38;5;124m\"\u001B[39m\u001B[38;5;124mas it is likely to crash IPython. If you know what you are doing, \u001B[39m\u001B[38;5;124m\"\u001B[39m\n\u001B[1;32m    281\u001B[0m         \u001B[38;5;124m\"\u001B[39m\u001B[38;5;124myou can use builtins\u001B[39m\u001B[38;5;124m'\u001B[39m\u001B[38;5;124m open.\u001B[39m\u001B[38;5;124m\"\u001B[39m\n\u001B[1;32m    282\u001B[0m     )\n\u001B[0;32m--> 284\u001B[0m \u001B[38;5;28;01mreturn\u001B[39;00m \u001B[43mio_open\u001B[49m\u001B[43m(\u001B[49m\u001B[43mfile\u001B[49m\u001B[43m,\u001B[49m\u001B[43m \u001B[49m\u001B[38;5;241;43m*\u001B[39;49m\u001B[43margs\u001B[49m\u001B[43m,\u001B[49m\u001B[43m \u001B[49m\u001B[38;5;241;43m*\u001B[39;49m\u001B[38;5;241;43m*\u001B[39;49m\u001B[43mkwargs\u001B[49m\u001B[43m)\u001B[49m\n",
      "\u001B[0;31mFileNotFoundError\u001B[0m: [Errno 2] No such file or directory: '/home/kushal/SentEval/examples/bert_p=mean_l=all_lg=arabic_s=1111.csv.pickle'"
     ]
    }
   ]
  },
  {
   "cell_type": "code",
   "source": [
    "folder = '/content/drive/MyDrive/Pixel_SentEval/task_0_preds/pickle/'\n",
    "filename = 'pixel_p=cls_l=all_t=0_s=1111.pickle'\n",
    "with open(folder + filename, 'rb') as handle:\n",
    "    data = pickle.load(handle)"
   ],
   "metadata": {
    "id": "DcVn-ZWzjzxZ",
    "executionInfo": {
     "status": "ok",
     "timestamp": 1695296390567,
     "user_tz": -120,
     "elapsed": 2,
     "user": {
      "displayName": "Kushal Tatariya",
      "userId": "02875399616543221813"
     }
    }
   },
   "execution_count": 12,
   "outputs": []
  },
  {
   "cell_type": "code",
   "source": [
    "data.keys()"
   ],
   "metadata": {
    "colab": {
     "base_uri": "https://localhost:8080/"
    },
    "id": "Ni2pAEA2l-9U",
    "executionInfo": {
     "status": "ok",
     "timestamp": 1695298000040,
     "user_tz": -120,
     "elapsed": 299,
     "user": {
      "displayName": "Kushal Tatariya",
      "userId": "02875399616543221813"
     }
    },
    "outputId": "e38f0796-6e41-4c46-fa42-88ccea7a28d8"
   },
   "execution_count": 53,
   "outputs": [
    {
     "output_type": "execute_result",
     "data": {
      "text/plain": [
       "dict_keys(['CR', 'MR', 'MPQA', 'SUBJ', 'SST2', 'SST5', 'TREC'])"
      ]
     },
     "metadata": {},
     "execution_count": 53
    }
   ]
  },
  {
   "cell_type": "code",
   "source": [
    "data['CR'].keys()"
   ],
   "metadata": {
    "colab": {
     "base_uri": "https://localhost:8080/"
    },
    "id": "ET2E4TH2mEq1",
    "executionInfo": {
     "status": "ok",
     "timestamp": 1695296780570,
     "user_tz": -120,
     "elapsed": 9,
     "user": {
      "displayName": "Kushal Tatariya",
      "userId": "02875399616543221813"
     }
    },
    "outputId": "4a935e94-c13f-4a23-beef-a4fdf8b58d8d"
   },
   "execution_count": 22,
   "outputs": [
    {
     "output_type": "execute_result",
     "data": {
      "text/plain": [
       "dict_keys(['devacc', 'acc', 'ndev', 'ntest', 'indexes', 'targets', 'predictions'])"
      ]
     },
     "metadata": {},
     "execution_count": 22
    }
   ]
  },
  {
   "cell_type": "code",
   "source": [
    "df = pd.DataFrame"
   ],
   "metadata": {
    "id": "Dwvn13oMmROn",
    "executionInfo": {
     "status": "ok",
     "timestamp": 1695296177362,
     "user_tz": -120,
     "elapsed": 250,
     "user": {
      "displayName": "Kushal Tatariya",
      "userId": "02875399616543221813"
     }
    }
   },
   "execution_count": 7,
   "outputs": []
  },
  {
   "cell_type": "code",
   "source": [
    "df_scores = {}\n",
    "for key, index in data.items():\n",
    "    print(key)\n",
    "    score_dict = {'DevAcc': index['devacc'], 'Acc': index['acc'], 'NDev': index['ndev'], 'NTest': index['ntest']}\n",
    "    # df_s = pd.DataFrame.from_dict(score_dict)\n",
    "    df_scores[key]=score_dict\n"
   ],
   "metadata": {
    "colab": {
     "base_uri": "https://localhost:8080/"
    },
    "id": "nkeyg1LOhsFh",
    "executionInfo": {
     "status": "ok",
     "timestamp": 1695297862313,
     "user_tz": -120,
     "elapsed": 341,
     "user": {
      "displayName": "Kushal Tatariya",
      "userId": "02875399616543221813"
     }
    },
    "outputId": "c3b59f82-3ef7-4461-dd93-94c4e695abc7"
   },
   "execution_count": 47,
   "outputs": [
    {
     "output_type": "stream",
     "name": "stdout",
     "text": [
      "CR\n",
      "MR\n",
      "MPQA\n",
      "SUBJ\n",
      "SST2\n",
      "SST5\n",
      "TREC\n"
     ]
    }
   ]
  },
  {
   "cell_type": "code",
   "source": [
    "df_scores"
   ],
   "metadata": {
    "colab": {
     "base_uri": "https://localhost:8080/"
    },
    "id": "i5lm0AIsiojX",
    "executionInfo": {
     "status": "ok",
     "timestamp": 1695297864361,
     "user_tz": -120,
     "elapsed": 316,
     "user": {
      "displayName": "Kushal Tatariya",
      "userId": "02875399616543221813"
     }
    },
    "outputId": "f22e4744-0000-462a-9de8-3393e8c697f4"
   },
   "execution_count": 48,
   "outputs": [
    {
     "output_type": "execute_result",
     "data": {
      "text/plain": [
       "{'CR': {'DevAcc': 74.1, 'Acc': 71.84, 'NDev': 3775, 'NTest': 3775},\n",
       " 'MR': {'DevAcc': 70.28, 'Acc': 69.43, 'NDev': 10662, 'NTest': 10662},\n",
       " 'MPQA': {'DevAcc': 79.42, 'Acc': 79.26, 'NDev': 10606, 'NTest': 10606},\n",
       " 'SUBJ': {'DevAcc': 89.89, 'Acc': 89.23, 'NDev': 10000, 'NTest': 10000},\n",
       " 'SST2': {'DevAcc': 76.49, 'Acc': 74.41, 'NDev': 872, 'NTest': 1821},\n",
       " 'SST5': {'DevAcc': 38.69, 'Acc': 38.73, 'NDev': 1101, 'NTest': 2210},\n",
       " 'TREC': {'DevAcc': 65.57, 'Acc': 71.2, 'NDev': 5452, 'NTest': 500}}"
      ]
     },
     "metadata": {},
     "execution_count": 48
    }
   ]
  },
  {
   "cell_type": "code",
   "source": [
    "df"
   ],
   "metadata": {
    "colab": {
     "base_uri": "https://localhost:8080/",
     "height": 390
    },
    "id": "w5HbkVzGjYf7",
    "executionInfo": {
     "status": "ok",
     "timestamp": 1695297435210,
     "user_tz": -120,
     "elapsed": 18,
     "user": {
      "displayName": "Kushal Tatariya",
      "userId": "02875399616543221813"
     }
    },
    "outputId": "2a07d88d-2c9b-42c8-9163-642597646fe9"
   },
   "execution_count": 45,
   "outputs": [
    {
     "output_type": "execute_result",
     "data": {
      "text/plain": [
       "                                                  CR  \\\n",
       "0  {'DevAcc': 74.1, 'Acc': 71.84, 'NDev': 3775, '...   \n",
       "1                                                NaN   \n",
       "2                                                NaN   \n",
       "3                                                NaN   \n",
       "4                                                NaN   \n",
       "5                                                NaN   \n",
       "6                                                NaN   \n",
       "\n",
       "                                                  MR  \\\n",
       "0                                                NaN   \n",
       "1  {'DevAcc': 70.28, 'Acc': 69.43, 'NDev': 10662,...   \n",
       "2                                                NaN   \n",
       "3                                                NaN   \n",
       "4                                                NaN   \n",
       "5                                                NaN   \n",
       "6                                                NaN   \n",
       "\n",
       "                                                MPQA  \\\n",
       "0                                                NaN   \n",
       "1                                                NaN   \n",
       "2  {'DevAcc': 79.42, 'Acc': 79.26, 'NDev': 10606,...   \n",
       "3                                                NaN   \n",
       "4                                                NaN   \n",
       "5                                                NaN   \n",
       "6                                                NaN   \n",
       "\n",
       "                                                SUBJ  \\\n",
       "0                                                NaN   \n",
       "1                                                NaN   \n",
       "2                                                NaN   \n",
       "3  {'DevAcc': 89.89, 'Acc': 89.23, 'NDev': 10000,...   \n",
       "4                                                NaN   \n",
       "5                                                NaN   \n",
       "6                                                NaN   \n",
       "\n",
       "                                                SST2  \\\n",
       "0                                                NaN   \n",
       "1                                                NaN   \n",
       "2                                                NaN   \n",
       "3                                                NaN   \n",
       "4  {'DevAcc': 76.49, 'Acc': 74.41, 'NDev': 872, '...   \n",
       "5                                                NaN   \n",
       "6                                                NaN   \n",
       "\n",
       "                                                SST5  \\\n",
       "0                                                NaN   \n",
       "1                                                NaN   \n",
       "2                                                NaN   \n",
       "3                                                NaN   \n",
       "4                                                NaN   \n",
       "5  {'DevAcc': 38.69, 'Acc': 38.73, 'NDev': 1101, ...   \n",
       "6                                                NaN   \n",
       "\n",
       "                                                TREC  \n",
       "0                                                NaN  \n",
       "1                                                NaN  \n",
       "2                                                NaN  \n",
       "3                                                NaN  \n",
       "4                                                NaN  \n",
       "5                                                NaN  \n",
       "6  {'DevAcc': 65.57, 'Acc': 71.2, 'NDev': 5452, '...  "
      ],
      "text/html": [
       "\n",
       "  <div id=\"df-df8b20e4-0b5c-46dd-babe-f0ecd06f9f6d\" class=\"colab-df-container\">\n",
       "    <div>\n",
       "<style scoped>\n",
       "    .dataframe tbody tr th:only-of-type {\n",
       "        vertical-align: middle;\n",
       "    }\n",
       "\n",
       "    .dataframe tbody tr th {\n",
       "        vertical-align: top;\n",
       "    }\n",
       "\n",
       "    .dataframe thead th {\n",
       "        text-align: right;\n",
       "    }\n",
       "</style>\n",
       "<table border=\"1\" class=\"dataframe\">\n",
       "  <thead>\n",
       "    <tr style=\"text-align: right;\">\n",
       "      <th></th>\n",
       "      <th>CR</th>\n",
       "      <th>MR</th>\n",
       "      <th>MPQA</th>\n",
       "      <th>SUBJ</th>\n",
       "      <th>SST2</th>\n",
       "      <th>SST5</th>\n",
       "      <th>TREC</th>\n",
       "    </tr>\n",
       "  </thead>\n",
       "  <tbody>\n",
       "    <tr>\n",
       "      <th>0</th>\n",
       "      <td>{'DevAcc': 74.1, 'Acc': 71.84, 'NDev': 3775, '...</td>\n",
       "      <td>NaN</td>\n",
       "      <td>NaN</td>\n",
       "      <td>NaN</td>\n",
       "      <td>NaN</td>\n",
       "      <td>NaN</td>\n",
       "      <td>NaN</td>\n",
       "    </tr>\n",
       "    <tr>\n",
       "      <th>1</th>\n",
       "      <td>NaN</td>\n",
       "      <td>{'DevAcc': 70.28, 'Acc': 69.43, 'NDev': 10662,...</td>\n",
       "      <td>NaN</td>\n",
       "      <td>NaN</td>\n",
       "      <td>NaN</td>\n",
       "      <td>NaN</td>\n",
       "      <td>NaN</td>\n",
       "    </tr>\n",
       "    <tr>\n",
       "      <th>2</th>\n",
       "      <td>NaN</td>\n",
       "      <td>NaN</td>\n",
       "      <td>{'DevAcc': 79.42, 'Acc': 79.26, 'NDev': 10606,...</td>\n",
       "      <td>NaN</td>\n",
       "      <td>NaN</td>\n",
       "      <td>NaN</td>\n",
       "      <td>NaN</td>\n",
       "    </tr>\n",
       "    <tr>\n",
       "      <th>3</th>\n",
       "      <td>NaN</td>\n",
       "      <td>NaN</td>\n",
       "      <td>NaN</td>\n",
       "      <td>{'DevAcc': 89.89, 'Acc': 89.23, 'NDev': 10000,...</td>\n",
       "      <td>NaN</td>\n",
       "      <td>NaN</td>\n",
       "      <td>NaN</td>\n",
       "    </tr>\n",
       "    <tr>\n",
       "      <th>4</th>\n",
       "      <td>NaN</td>\n",
       "      <td>NaN</td>\n",
       "      <td>NaN</td>\n",
       "      <td>NaN</td>\n",
       "      <td>{'DevAcc': 76.49, 'Acc': 74.41, 'NDev': 872, '...</td>\n",
       "      <td>NaN</td>\n",
       "      <td>NaN</td>\n",
       "    </tr>\n",
       "    <tr>\n",
       "      <th>5</th>\n",
       "      <td>NaN</td>\n",
       "      <td>NaN</td>\n",
       "      <td>NaN</td>\n",
       "      <td>NaN</td>\n",
       "      <td>NaN</td>\n",
       "      <td>{'DevAcc': 38.69, 'Acc': 38.73, 'NDev': 1101, ...</td>\n",
       "      <td>NaN</td>\n",
       "    </tr>\n",
       "    <tr>\n",
       "      <th>6</th>\n",
       "      <td>NaN</td>\n",
       "      <td>NaN</td>\n",
       "      <td>NaN</td>\n",
       "      <td>NaN</td>\n",
       "      <td>NaN</td>\n",
       "      <td>NaN</td>\n",
       "      <td>{'DevAcc': 65.57, 'Acc': 71.2, 'NDev': 5452, '...</td>\n",
       "    </tr>\n",
       "  </tbody>\n",
       "</table>\n",
       "</div>\n",
       "    <div class=\"colab-df-buttons\">\n",
       "\n",
       "  <div class=\"colab-df-container\">\n",
       "    <button class=\"colab-df-convert\" onclick=\"convertToInteractive('df-df8b20e4-0b5c-46dd-babe-f0ecd06f9f6d')\"\n",
       "            title=\"Convert this dataframe to an interactive table.\"\n",
       "            style=\"display:none;\">\n",
       "\n",
       "  <svg xmlns=\"http://www.w3.org/2000/svg\" height=\"24px\" viewBox=\"0 -960 960 960\">\n",
       "    <path d=\"M120-120v-720h720v720H120Zm60-500h600v-160H180v160Zm220 220h160v-160H400v160Zm0 220h160v-160H400v160ZM180-400h160v-160H180v160Zm440 0h160v-160H620v160ZM180-180h160v-160H180v160Zm440 0h160v-160H620v160Z\"/>\n",
       "  </svg>\n",
       "    </button>\n",
       "\n",
       "  <style>\n",
       "    .colab-df-container {\n",
       "      display:flex;\n",
       "      gap: 12px;\n",
       "    }\n",
       "\n",
       "    .colab-df-convert {\n",
       "      background-color: #E8F0FE;\n",
       "      border: none;\n",
       "      border-radius: 50%;\n",
       "      cursor: pointer;\n",
       "      display: none;\n",
       "      fill: #1967D2;\n",
       "      height: 32px;\n",
       "      padding: 0 0 0 0;\n",
       "      width: 32px;\n",
       "    }\n",
       "\n",
       "    .colab-df-convert:hover {\n",
       "      background-color: #E2EBFA;\n",
       "      box-shadow: 0px 1px 2px rgba(60, 64, 67, 0.3), 0px 1px 3px 1px rgba(60, 64, 67, 0.15);\n",
       "      fill: #174EA6;\n",
       "    }\n",
       "\n",
       "    .colab-df-buttons div {\n",
       "      margin-bottom: 4px;\n",
       "    }\n",
       "\n",
       "    [theme=dark] .colab-df-convert {\n",
       "      background-color: #3B4455;\n",
       "      fill: #D2E3FC;\n",
       "    }\n",
       "\n",
       "    [theme=dark] .colab-df-convert:hover {\n",
       "      background-color: #434B5C;\n",
       "      box-shadow: 0px 1px 3px 1px rgba(0, 0, 0, 0.15);\n",
       "      filter: drop-shadow(0px 1px 2px rgba(0, 0, 0, 0.3));\n",
       "      fill: #FFFFFF;\n",
       "    }\n",
       "  </style>\n",
       "\n",
       "    <script>\n",
       "      const buttonEl =\n",
       "        document.querySelector('#df-df8b20e4-0b5c-46dd-babe-f0ecd06f9f6d button.colab-df-convert');\n",
       "      buttonEl.style.display =\n",
       "        google.colab.kernel.accessAllowed ? 'block' : 'none';\n",
       "\n",
       "      async function convertToInteractive(key) {\n",
       "        const element = document.querySelector('#df-df8b20e4-0b5c-46dd-babe-f0ecd06f9f6d');\n",
       "        const dataTable =\n",
       "          await google.colab.kernel.invokeFunction('convertToInteractive',\n",
       "                                                    [key], {});\n",
       "        if (!dataTable) return;\n",
       "\n",
       "        const docLinkHtml = 'Like what you see? Visit the ' +\n",
       "          '<a target=\"_blank\" href=https://colab.research.google.com/notebooks/data_table.ipynb>data table notebook</a>'\n",
       "          + ' to learn more about interactive tables.';\n",
       "        element.innerHTML = '';\n",
       "        dataTable['output_type'] = 'display_data';\n",
       "        await google.colab.output.renderOutput(dataTable, element);\n",
       "        const docLink = document.createElement('div');\n",
       "        docLink.innerHTML = docLinkHtml;\n",
       "        element.appendChild(docLink);\n",
       "      }\n",
       "    </script>\n",
       "  </div>\n",
       "\n",
       "\n",
       "<div id=\"df-6c552c4c-6a6e-43e8-a39e-319542029b89\">\n",
       "  <button class=\"colab-df-quickchart\" onclick=\"quickchart('df-6c552c4c-6a6e-43e8-a39e-319542029b89')\"\n",
       "            title=\"Suggest charts.\"\n",
       "            style=\"display:none;\">\n",
       "\n",
       "<svg xmlns=\"http://www.w3.org/2000/svg\" height=\"24px\"viewBox=\"0 0 24 24\"\n",
       "     width=\"24px\">\n",
       "    <g>\n",
       "        <path d=\"M19 3H5c-1.1 0-2 .9-2 2v14c0 1.1.9 2 2 2h14c1.1 0 2-.9 2-2V5c0-1.1-.9-2-2-2zM9 17H7v-7h2v7zm4 0h-2V7h2v10zm4 0h-2v-4h2v4z\"/>\n",
       "    </g>\n",
       "</svg>\n",
       "  </button>\n",
       "\n",
       "<style>\n",
       "  .colab-df-quickchart {\n",
       "      --bg-color: #E8F0FE;\n",
       "      --fill-color: #1967D2;\n",
       "      --hover-bg-color: #E2EBFA;\n",
       "      --hover-fill-color: #174EA6;\n",
       "      --disabled-fill-color: #AAA;\n",
       "      --disabled-bg-color: #DDD;\n",
       "  }\n",
       "\n",
       "  [theme=dark] .colab-df-quickchart {\n",
       "      --bg-color: #3B4455;\n",
       "      --fill-color: #D2E3FC;\n",
       "      --hover-bg-color: #434B5C;\n",
       "      --hover-fill-color: #FFFFFF;\n",
       "      --disabled-bg-color: #3B4455;\n",
       "      --disabled-fill-color: #666;\n",
       "  }\n",
       "\n",
       "  .colab-df-quickchart {\n",
       "    background-color: var(--bg-color);\n",
       "    border: none;\n",
       "    border-radius: 50%;\n",
       "    cursor: pointer;\n",
       "    display: none;\n",
       "    fill: var(--fill-color);\n",
       "    height: 32px;\n",
       "    padding: 0;\n",
       "    width: 32px;\n",
       "  }\n",
       "\n",
       "  .colab-df-quickchart:hover {\n",
       "    background-color: var(--hover-bg-color);\n",
       "    box-shadow: 0 1px 2px rgba(60, 64, 67, 0.3), 0 1px 3px 1px rgba(60, 64, 67, 0.15);\n",
       "    fill: var(--button-hover-fill-color);\n",
       "  }\n",
       "\n",
       "  .colab-df-quickchart-complete:disabled,\n",
       "  .colab-df-quickchart-complete:disabled:hover {\n",
       "    background-color: var(--disabled-bg-color);\n",
       "    fill: var(--disabled-fill-color);\n",
       "    box-shadow: none;\n",
       "  }\n",
       "\n",
       "  .colab-df-spinner {\n",
       "    border: 2px solid var(--fill-color);\n",
       "    border-color: transparent;\n",
       "    border-bottom-color: var(--fill-color);\n",
       "    animation:\n",
       "      spin 1s steps(1) infinite;\n",
       "  }\n",
       "\n",
       "  @keyframes spin {\n",
       "    0% {\n",
       "      border-color: transparent;\n",
       "      border-bottom-color: var(--fill-color);\n",
       "      border-left-color: var(--fill-color);\n",
       "    }\n",
       "    20% {\n",
       "      border-color: transparent;\n",
       "      border-left-color: var(--fill-color);\n",
       "      border-top-color: var(--fill-color);\n",
       "    }\n",
       "    30% {\n",
       "      border-color: transparent;\n",
       "      border-left-color: var(--fill-color);\n",
       "      border-top-color: var(--fill-color);\n",
       "      border-right-color: var(--fill-color);\n",
       "    }\n",
       "    40% {\n",
       "      border-color: transparent;\n",
       "      border-right-color: var(--fill-color);\n",
       "      border-top-color: var(--fill-color);\n",
       "    }\n",
       "    60% {\n",
       "      border-color: transparent;\n",
       "      border-right-color: var(--fill-color);\n",
       "    }\n",
       "    80% {\n",
       "      border-color: transparent;\n",
       "      border-right-color: var(--fill-color);\n",
       "      border-bottom-color: var(--fill-color);\n",
       "    }\n",
       "    90% {\n",
       "      border-color: transparent;\n",
       "      border-bottom-color: var(--fill-color);\n",
       "    }\n",
       "  }\n",
       "</style>\n",
       "\n",
       "  <script>\n",
       "    async function quickchart(key) {\n",
       "      const quickchartButtonEl =\n",
       "        document.querySelector('#' + key + ' button');\n",
       "      quickchartButtonEl.disabled = true;  // To prevent multiple clicks.\n",
       "      quickchartButtonEl.classList.add('colab-df-spinner');\n",
       "      try {\n",
       "        const charts = await google.colab.kernel.invokeFunction(\n",
       "            'suggestCharts', [key], {});\n",
       "      } catch (error) {\n",
       "        console.error('Error during call to suggestCharts:', error);\n",
       "      }\n",
       "      quickchartButtonEl.classList.remove('colab-df-spinner');\n",
       "      quickchartButtonEl.classList.add('colab-df-quickchart-complete');\n",
       "    }\n",
       "    (() => {\n",
       "      let quickchartButtonEl =\n",
       "        document.querySelector('#df-6c552c4c-6a6e-43e8-a39e-319542029b89 button');\n",
       "      quickchartButtonEl.style.display =\n",
       "        google.colab.kernel.accessAllowed ? 'block' : 'none';\n",
       "    })();\n",
       "  </script>\n",
       "</div>\n",
       "    </div>\n",
       "  </div>\n"
      ]
     },
     "metadata": {},
     "execution_count": 45
    }
   ]
  },
  {
   "cell_type": "code",
   "source": [],
   "metadata": {
    "id": "CDlTYvs2l72q"
   },
   "execution_count": null,
   "outputs": []
  }
 ],
 "metadata": {
  "kernelspec": {
   "display_name": "Python 3",
   "language": "python",
   "name": "python3"
  },
  "language_info": {
   "codemirror_mode": {
    "name": "ipython",
    "version": 2
   },
   "file_extension": ".py",
   "mimetype": "text/x-python",
   "name": "python",
   "nbconvert_exporter": "python",
   "pygments_lexer": "ipython2",
   "version": "2.7.6"
  },
  "colab": {
   "provenance": []
  }
 },
 "nbformat": 4,
 "nbformat_minor": 0
}
