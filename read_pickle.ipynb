{
 "cells": [
  {
   "cell_type": "code",
   "execution_count": 1,
   "metadata": {
    "ExecuteTime": {
     "end_time": "2024-05-03T11:19:36.884826996Z",
     "start_time": "2024-05-03T11:19:36.837096254Z"
    },
    "colab": {
     "base_uri": "https://localhost:8080/"
    },
    "executionInfo": {
     "elapsed": 24856,
     "status": "ok",
     "timestamp": 1695730190583,
     "user": {
      "displayName": "Kushal Tatariya",
      "userId": "02875399616543221813"
     },
     "user_tz": -120
    },
    "id": "gcS_HfF0jtDb",
    "outputId": "347c138e-079b-4073-c845-c2cf9c42141b"
   },
   "outputs": [],
   "source": [
    "import pandas as pd\n",
    "import pickle\n",
    "import seaborn as sns\n",
    "import matplotlib as plt\n",
    "from glob import glob\n",
    "sns.set_theme(style=\"whitegrid\")"
   ]
  },
  {
   "cell_type": "code",
   "execution_count": 2,
   "metadata": {
    "ExecuteTime": {
     "end_time": "2024-05-03T11:19:38.767584014Z",
     "start_time": "2024-05-03T11:19:38.744324588Z"
    },
    "executionInfo": {
     "elapsed": 467,
     "status": "ok",
     "timestamp": 1695730193888,
     "user": {
      "displayName": "Kushal Tatariya",
      "userId": "02875399616543221813"
     },
     "user_tz": -120
    },
    "id": "rMcK4X5LjtDe"
   },
   "outputs": [],
   "source": [
    "def read_pickle(model, lang, layer, seed):\n",
    "    folder = '/home/kushal/SentEval/examples/' + model + '/'\n",
    "    if lang == \"English\":\n",
    "        filename = f\"{model}_p=mean_l={layer}_t=4_s={seed}.pickle\"\n",
    "    else:\n",
    "        filename = f\"{model}_p=mean_l={layer}_lg={lang}_s={seed}.pickle\"\n",
    "\n",
    "    with open(folder + filename, 'rb') as handle:\n",
    "    #with open(filename, 'rb') as handle:\n",
    "        data = pickle.load(handle)\n",
    "    df_list = []\n",
    "    df_scores = {}\n",
    "    for key, index in data.items():\n",
    "        # print(key)\n",
    "        score_dict = {'DevAcc': index['devacc'], 'Acc': index['acc'], 'NDev': index['ndev'], 'NTest': index['ntest']}\n",
    "        list_dict = {'indexes':list(index['indexes']), 'targets':list(index['targets']), 'predictions':list(index['predictions'])}\n",
    "        df_l = pd.DataFrame.from_dict(list_dict)\n",
    "        df_scores[key]=score_dict\n",
    "        df_list.append(df_l)\n",
    "    df = pd.DataFrame.from_dict(df_scores, orient='index')\n",
    "    df['Model'] = model\n",
    "    return df, df_list"
   ]
  },
  {
   "cell_type": "code",
   "execution_count": 3,
   "metadata": {
    "ExecuteTime": {
     "end_time": "2024-05-03T11:46:31.190123089Z",
     "start_time": "2024-05-03T11:46:31.139894427Z"
    },
    "executionInfo": {
     "elapsed": 13165,
     "status": "ok",
     "timestamp": 1695733982575,
     "user": {
      "displayName": "Kushal Tatariya",
      "userId": "02875399616543221813"
     },
     "user_tz": -120
    },
    "id": "wBjCNKjQsjqO"
   },
   "outputs": [],
   "source": [
    "def return_df_eng(seed):\n",
    "\n",
    "    datab = []\n",
    "    datam = []\n",
    "    datap = []\n",
    "    datamp = []\n",
    "    datav = []\n",
    "    datapw = []\n",
    "    datapb = []\n",
    "    # datap_r = []\n",
    "    # datapw_r = []\n",
    "    # datapb_r = []\n",
    "    \n",
    "    lang = \"English\"\n",
    "    \n",
    "    for i in range(1,13):\n",
    "        datab.append(read_pickle('bert', lang, str(i), seed)[0]['DevAcc'])\n",
    "        # datam.append(read_pickle('mbert', lang, str(i), 'mean')[0]['DevAcc'])\n",
    "        datap.append(read_pickle('pixel', lang, str(i), seed)[0]['DevAcc'])\n",
    "        # datamp.append(read_pickle('mpixel', lang, str(i), 'mean')[0]['DevAcc'])\n",
    "        datav.append(read_pickle('vit-mae', lang, str(i), seed)[0]['DevAcc'])\n",
    "        datapw.append(read_pickle('pixel-words', lang, str(i), seed)[0]['DevAcc'])\n",
    "        datapb.append(read_pickle('pixel-bigrams', lang, str(i), seed)[0]['DevAcc'])\n",
    "        # datap_r.append(read_pickle('pixel-r', lang, str(i), seed)[0]['DevAcc'])\n",
    "        # datapw_r.append(read_pickle('pixel-words-r', lang, str(i), seed)[0]['DevAcc'])\n",
    "        # datapb_r.append(read_pickle('pixel-bigrams-r', lang, str(i), seed)[0]['DevAcc'])\n",
    "    \n",
    "    tasks = read_pickle('pixel', lang, '1', seed)[0].index\n",
    "    datasets = read_pickle('pixel', lang, '1', seed)[1]\n",
    "    baselines = {}\n",
    "    for i in range(len(tasks)):\n",
    "        data = datasets[i]\n",
    "        labels = data['targets'].value_counts()\n",
    "        majority_baseline = labels.max()/labels.sum()*100\n",
    "        baselines[tasks[i]] = majority_baseline\n",
    "            \n",
    "    baselines = pd.DataFrame.from_dict(baselines, orient='index')\n",
    "    baseline = []\n",
    "    baseline.append(baselines)\n",
    "    baseline.append(baselines)\n",
    "    baseline.append(baselines)\n",
    "    baseline.append(baselines)\n",
    "    baseline.append(baselines)\n",
    "    baseline.append(baselines)\n",
    "    baseline.append(baselines)\n",
    "    baseline.append(baselines)\n",
    "    baseline.append(baselines)\n",
    "    baseline.append(baselines)\n",
    "    baseline.append(baselines)\n",
    "    baseline.append(baselines)\n",
    "    \n",
    "    dfb = pd.concat(datab, axis=1)\n",
    "    dfb.columns = list(range(1,13))\n",
    "    \n",
    "    # dfm = pd.concat(datam, axis=1)\n",
    "    # dfm.columns = list(range(1,13))\n",
    "    \n",
    "    dfp = pd.concat(datap, axis=1)\n",
    "    dfp.columns = list(range(1,13))\n",
    "    \n",
    "    # dfmp = pd.concat(datamp, axis=1)\n",
    "    # dfmp.columns = list(range(1,13))\n",
    "    \n",
    "    dfv = pd.concat(datav, axis=1)\n",
    "    dfv.columns = list(range(1,13))\n",
    "    \n",
    "    dfpw = pd.concat(datapw, axis=1)\n",
    "    dfpw.columns = list(range(1,13))\n",
    "    \n",
    "    dfpb = pd.concat(datapb, axis=1)\n",
    "    dfpb.columns = list(range(1,13))\n",
    "    \n",
    "    # dfp_r = pd.concat(datap_r, axis=1)\n",
    "    # dfp_r.columns = list(range(1,13))\n",
    "    # \n",
    "    # dfpw_r = pd.concat(datapw_r, axis=1)\n",
    "    # dfpw_r.columns = list(range(1,13))\n",
    "    # \n",
    "    # dfpb_r = pd.concat(datapb_r, axis=1)\n",
    "    # dfpb_r.columns = list(range(1,13))\n",
    "    \n",
    "    dfbase = pd.concat(baseline, axis=1)\n",
    "    dfbase.columns = list(range(1,13))\n",
    "    \n",
    "    dfb_aux = dfb.T\n",
    "    dfb_aux['Model'] = 'bert'\n",
    "    # dfm_aux = dfm.T\n",
    "    # dfm_aux['Model'] = 'mbert'\n",
    "    dfp_aux = dfp.T\n",
    "    dfp_aux['Model'] = 'pixel'\n",
    "    # dfmp_aux = dfmp.T\n",
    "    # dfmp_aux['Model'] = 'mpixel'\n",
    "    dfv_aux = dfv.T\n",
    "    dfv_aux['Model'] = 'vit-mae'\n",
    "    dfpw_aux = dfpw.T\n",
    "    dfpw_aux['Model'] = 'pixel-words'\n",
    "    dfpb_aux = dfpb.T\n",
    "    dfpb_aux['Model'] = 'pixel-bigrams'\n",
    "    # dfp_r_aux = dfp_r.T\n",
    "    # dfp_r_aux['Model'] = 'pixel-r'\n",
    "    # dfpw_r_aux = dfpw_r.T\n",
    "    # dfpw_r_aux['Model'] = 'pixel-words-r'\n",
    "    # dfpb_r_aux = dfpb_r.T\n",
    "    # dfpb_r_aux['Model'] = 'pixel-bigrams-r'\n",
    "    dfbase_aux = dfbase.T\n",
    "    dfbase_aux['Model'] = 'baseline'\n",
    "    all_list = [dfb_aux, \n",
    "                dfv_aux,\n",
    "                dfp_aux,\n",
    "                # dfm_aux, \n",
    "                # dfmp_aux, \n",
    "                dfpw_aux,\n",
    "                dfpb_aux,\n",
    "                # dfp_r_aux,\n",
    "                # dfpw_r_aux,\n",
    "                # dfpb_r_aux,\n",
    "                dfbase_aux]\n",
    "    dev_df = pd.concat(all_list)\n",
    "    \n",
    "    return dev_df"
   ]
  },
  {
   "cell_type": "code",
   "execution_count": 4,
   "metadata": {
    "ExecuteTime": {
     "end_time": "2024-05-03T11:33:57.763834794Z",
     "start_time": "2024-05-03T11:33:57.732786213Z"
    },
    "collapsed": false,
    "jupyter": {
     "outputs_hidden": false
    }
   },
   "outputs": [],
   "source": [
    "def return_df_eng_r():\n",
    "    \n",
    "    seed = \"1111\"\n",
    "\n",
    "    datab = []\n",
    "    datam = []\n",
    "    # datap = []\n",
    "    # datamp = []\n",
    "    datav = []\n",
    "    # datapw = []\n",
    "    # datapb = []\n",
    "    datap_r = []\n",
    "    datapw_r = []\n",
    "    datapb_r = []\n",
    "    \n",
    "    lang = \"English\"\n",
    "    \n",
    "    for i in range(1,13):\n",
    "        datab.append(read_pickle('bert', lang, str(i), seed)[0]['DevAcc'])\n",
    "        # datam.append(read_pickle('mbert', lang, str(i), 'mean')[0]['DevAcc'])\n",
    "        # datap.append(read_pickle('pixel', lang, str(i), seed)[0]['DevAcc'])\n",
    "        # datamp.append(read_pickle('mpixel', lang, str(i), 'mean')[0]['DevAcc'])\n",
    "        datav.append(read_pickle('vit-mae', lang, str(i), seed)[0]['DevAcc'])\n",
    "        # datapw.append(read_pickle('pixel-words', lang, str(i), seed)[0]['DevAcc'])\n",
    "        # datapb.append(read_pickle('pixel-bigrams', lang, str(i), seed)[0]['DevAcc'])\n",
    "        datap_r.append(read_pickle('pixel-r', lang, str(i), seed)[0]['DevAcc'])\n",
    "        datapw_r.append(read_pickle('pixel-words-r', lang, str(i), seed)[0]['DevAcc'])\n",
    "        datapb_r.append(read_pickle('pixel-bigrams-r', lang, str(i), seed)[0]['DevAcc'])\n",
    "    \n",
    "    tasks = read_pickle('pixel', lang, '1', seed)[0].index\n",
    "    datasets = read_pickle('pixel', lang, '1', seed)[1]\n",
    "    baselines = {}\n",
    "    for i in range(len(tasks)):\n",
    "        data = datasets[i]\n",
    "        labels = data['targets'].value_counts()\n",
    "        majority_baseline = labels.max()/labels.sum()*100\n",
    "        baselines[tasks[i]] = majority_baseline\n",
    "            \n",
    "    baselines = pd.DataFrame.from_dict(baselines, orient='index')\n",
    "    baseline = []\n",
    "    baseline.append(baselines)\n",
    "    baseline.append(baselines)\n",
    "    baseline.append(baselines)\n",
    "    baseline.append(baselines)\n",
    "    baseline.append(baselines)\n",
    "    baseline.append(baselines)\n",
    "    baseline.append(baselines)\n",
    "    baseline.append(baselines)\n",
    "    baseline.append(baselines)\n",
    "    baseline.append(baselines)\n",
    "    baseline.append(baselines)\n",
    "    baseline.append(baselines)\n",
    "    \n",
    "    dfb = pd.concat(datab, axis=1)\n",
    "    dfb.columns = list(range(1,13))\n",
    "    \n",
    "    # dfm = pd.concat(datam, axis=1)\n",
    "    # dfm.columns = list(range(1,13))\n",
    "    \n",
    "    # dfp = pd.concat(datap, axis=1)\n",
    "    # dfp.columns = list(range(1,13))\n",
    "    \n",
    "    # dfmp = pd.concat(datamp, axis=1)\n",
    "    # dfmp.columns = list(range(1,13))\n",
    "    \n",
    "    dfv = pd.concat(datav, axis=1)\n",
    "    dfv.columns = list(range(1,13))\n",
    "    \n",
    "    # dfpw = pd.concat(datapw, axis=1)\n",
    "    # dfpw.columns = list(range(1,13))\n",
    "    # \n",
    "    # dfpb = pd.concat(datapb, axis=1)\n",
    "    # dfpb.columns = list(range(1,13))\n",
    "    \n",
    "    dfp_r = pd.concat(datap_r, axis=1)\n",
    "    dfp_r.columns = list(range(1,13))\n",
    "    \n",
    "    dfpw_r = pd.concat(datapw_r, axis=1)\n",
    "    dfpw_r.columns = list(range(1,13))\n",
    "    \n",
    "    dfpb_r = pd.concat(datapb_r, axis=1)\n",
    "    dfpb_r.columns = list(range(1,13))\n",
    "    \n",
    "    dfbase = pd.concat(baseline, axis=1)\n",
    "    dfbase.columns = list(range(1,13))\n",
    "    \n",
    "    dfb_aux = dfb.T\n",
    "    dfb_aux['Model'] = 'bert'\n",
    "    # dfm_aux = dfm.T\n",
    "    # dfm_aux['Model'] = 'mbert'\n",
    "    # dfp_aux = dfp.T\n",
    "    # dfp_aux['Model'] = 'pixel'\n",
    "    # dfmp_aux = dfmp.T\n",
    "    # dfmp_aux['Model'] = 'mpixel'\n",
    "    dfv_aux = dfv.T\n",
    "    dfv_aux['Model'] = 'vit-mae'\n",
    "    # dfpw_aux = dfpw.T\n",
    "    # dfpw_aux['Model'] = 'pixel-words'\n",
    "    # dfpb_aux = dfpb.T\n",
    "    # dfpb_aux['Model'] = 'pixel-bigrams'\n",
    "    dfp_r_aux = dfp_r.T\n",
    "    dfp_r_aux['Model'] = 'pixel-r'\n",
    "    dfpw_r_aux = dfpw_r.T\n",
    "    dfpw_r_aux['Model'] = 'pixel-words-r'\n",
    "    dfpb_r_aux = dfpb_r.T\n",
    "    dfpb_r_aux['Model'] = 'pixel-bigrams-r'\n",
    "    dfbase_aux = dfbase.T\n",
    "    dfbase_aux['Model'] = 'baseline'\n",
    "    all_list = [dfb_aux, \n",
    "                # dfp_aux,\n",
    "                # dfm_aux, \n",
    "                # dfmp_aux, \n",
    "                dfv_aux,\n",
    "                # dfpw_aux,\n",
    "                # dfpb_aux,\n",
    "                dfp_r_aux,\n",
    "                dfpw_r_aux,\n",
    "                dfpb_r_aux,\n",
    "                dfbase_aux]\n",
    "    dev_df = pd.concat(all_list)\n",
    "    \n",
    "    return dev_df"
   ]
  },
  {
   "cell_type": "code",
   "execution_count": 5,
   "metadata": {
    "ExecuteTime": {
     "end_time": "2024-04-19T08:56:50.411811587Z",
     "start_time": "2024-04-19T08:56:50.395513111Z"
    },
    "collapsed": false,
    "jupyter": {
     "outputs_hidden": false
    }
   },
   "outputs": [],
   "source": [
    "def return_df(lang, seed):\n",
    "\n",
    "    datab = []\n",
    "    datam = []\n",
    "    datap = []\n",
    "    datamp = []\n",
    "    datax = []\n",
    "    datav = []\n",
    "    \n",
    "    lang = lang\n",
    "    \n",
    "    for i in range(1,13):\n",
    "        datab.append(read_pickle('bert', lang, str(i), seed)[0]['DevAcc'])\n",
    "        datam.append(read_pickle('mbert', lang, str(i), seed)[0]['DevAcc'])\n",
    "        datap.append(read_pickle('pixel', lang, str(i), seed)[0]['DevAcc'])\n",
    "        datamp.append(read_pickle('mpixel', lang, str(i), seed)[0]['DevAcc'])\n",
    "        datax.append(read_pickle('xlmr', lang, str(i), seed)[0]['DevAcc'])\n",
    "        datav.append(read_pickle('vit-mae', lang, str(i), seed)[0]['DevAcc'])\n",
    "        \n",
    "    \n",
    "    tasks = read_pickle('pixel', lang, '1', seed)[0].index\n",
    "    datasets = read_pickle('pixel', lang, '1', seed)[1]\n",
    "    baselines = {}\n",
    "    for i in range(len(tasks)):\n",
    "        data = datasets[i]\n",
    "        labels = data['targets'].value_counts()\n",
    "        majority_baseline = labels.max()/labels.sum()*100\n",
    "        baselines[tasks[i]] = majority_baseline\n",
    "            \n",
    "    baselines = pd.DataFrame.from_dict(baselines, orient='index')\n",
    "    baseline = []\n",
    "    baseline.append(baselines)\n",
    "    baseline.append(baselines)\n",
    "    baseline.append(baselines)\n",
    "    baseline.append(baselines)\n",
    "    baseline.append(baselines)\n",
    "    baseline.append(baselines)\n",
    "    baseline.append(baselines)\n",
    "    baseline.append(baselines)\n",
    "    baseline.append(baselines)\n",
    "    baseline.append(baselines)\n",
    "    baseline.append(baselines)\n",
    "    baseline.append(baselines)\n",
    "    \n",
    "    dfb = pd.concat(datab, axis=1)\n",
    "    dfb.columns = list(range(1,13))\n",
    "    \n",
    "    dfm = pd.concat(datam, axis=1)\n",
    "    dfm.columns = list(range(1,13))\n",
    "    \n",
    "    dfp = pd.concat(datap, axis=1)\n",
    "    dfp.columns = list(range(1,13))\n",
    "    \n",
    "    dfmp = pd.concat(datamp, axis=1)\n",
    "    dfmp.columns = list(range(1,13))\n",
    "    \n",
    "    dfx = pd.concat(datax, axis=1)\n",
    "    dfx.columns = list(range(1,13))\n",
    "    \n",
    "    dfv = pd.concat(datav, axis=1)\n",
    "    dfv.columns = list(range(1,13))\n",
    "    \n",
    "    dfbase = pd.concat(baseline, axis=1)\n",
    "    dfbase.columns = list(range(1,13))\n",
    "    \n",
    "    \n",
    "    dfb_aux = dfb.T\n",
    "    dfb_aux['Model'] = 'bert'\n",
    "    dfm_aux = dfm.T\n",
    "    dfm_aux['Model'] = 'mbert'\n",
    "    dfp_aux = dfp.T\n",
    "    dfp_aux['Model'] = 'pixel'\n",
    "    dfmp_aux = dfmp.T\n",
    "    dfmp_aux['Model'] = 'mpixel'\n",
    "    dfx_aux = dfx.T\n",
    "    dfx_aux['Model'] = 'xlmr'\n",
    "    dfv_aux = dfv.T\n",
    "    dfv_aux['Model'] = 'vit-mae'\n",
    "    dfbase_aux = dfbase.T\n",
    "    dfbase_aux['Model'] = 'baseline'\n",
    "    all_list = [dfb_aux, dfp_aux,\n",
    "                dfm_aux, dfmp_aux, \n",
    "                dfx_aux, dfv_aux,\n",
    "                dfbase_aux]\n",
    "    dev_df = pd.concat(all_list)\n",
    "    \n",
    "    return dev_df"
   ]
  },
  {
   "cell_type": "code",
   "execution_count": 6,
   "metadata": {
    "ExecuteTime": {
     "end_time": "2024-04-24T14:52:37.884309294Z",
     "start_time": "2024-04-24T14:52:37.819377255Z"
    },
    "collapsed": false,
    "jupyter": {
     "outputs_hidden": false
    }
   },
   "outputs": [],
   "source": [
    "def return_df_visual():\n",
    "\n",
    "    datab = []\n",
    "    datap = []\n",
    "    \n",
    "    lang = \"Visual\"\n",
    "    \n",
    "    for i in range(1,13):\n",
    "        datab.append(read_pickle('bert', lang, str(i), \"1111\")[0]['DevAcc'])\n",
    "        datap.append(read_pickle('pixel', lang, str(i), \"1111\")[0]['DevAcc'])\n",
    "        \n",
    "    \n",
    "    tasks = read_pickle('pixel', lang, '1', \"1111\")[0].index\n",
    "    datasets = read_pickle('pixel', lang, '1', \"1111\")[1]\n",
    "    baselines = {}\n",
    "    for i in range(len(tasks)):\n",
    "        data = datasets[i]\n",
    "        labels = data['targets'].value_counts()\n",
    "        majority_baseline = labels.max()/labels.sum()*100\n",
    "        baselines[tasks[i]] = majority_baseline\n",
    "            \n",
    "    baselines = pd.DataFrame.from_dict(baselines, orient='index')\n",
    "    baseline = []\n",
    "    baseline.append(baselines)\n",
    "    baseline.append(baselines)\n",
    "    baseline.append(baselines)\n",
    "    baseline.append(baselines)\n",
    "    baseline.append(baselines)\n",
    "    baseline.append(baselines)\n",
    "    baseline.append(baselines)\n",
    "    baseline.append(baselines)\n",
    "    baseline.append(baselines)\n",
    "    baseline.append(baselines)\n",
    "    baseline.append(baselines)\n",
    "    baseline.append(baselines)\n",
    "    \n",
    "    dfb = pd.concat(datab, axis=1)\n",
    "    dfb.columns = list(range(1,13))\n",
    "    \n",
    "    dfp = pd.concat(datap, axis=1)\n",
    "    dfp.columns = list(range(1,13))\n",
    "    \n",
    "    dfbase = pd.concat(baseline, axis=1)\n",
    "    dfbase.columns = list(range(1,13))\n",
    "    \n",
    "    \n",
    "    dfb_aux = dfb.T\n",
    "    dfb_aux['Model'] = 'bert'\n",
    "    dfp_aux = dfp.T\n",
    "    dfp_aux['Model'] = 'pixel'\n",
    "    dfbase_aux = dfbase.T\n",
    "    dfbase_aux['Model'] = 'baseline'\n",
    "    all_list = [dfb_aux, dfp_aux,\n",
    "                dfbase_aux]\n",
    "    dev_df = pd.concat(all_list)\n",
    "    \n",
    "    return dev_df"
   ]
  },
  {
   "cell_type": "code",
   "execution_count": 7,
   "metadata": {
    "ExecuteTime": {
     "end_time": "2024-04-19T08:57:28.836547950Z",
     "start_time": "2024-04-19T08:57:28.822589140Z"
    },
    "collapsed": false,
    "jupyter": {
     "outputs_hidden": false
    }
   },
   "outputs": [],
   "source": [
    "def return_df_pixel_hindi(lang, seed):\n",
    "\n",
    "    datab = []\n",
    "    datam = []\n",
    "    datap = []\n",
    "    datamp = []\n",
    "    datax = []\n",
    "    datav = []\n",
    "    dataph = []\n",
    "    \n",
    "    lang = lang\n",
    "    \n",
    "    for i in range(1,13):\n",
    "        datab.append(read_pickle('bert', lang, str(i), seed)[0]['DevAcc'])\n",
    "        datam.append(read_pickle('mbert', lang, str(i), seed)[0]['DevAcc'])\n",
    "        datap.append(read_pickle('pixel', lang, str(i), seed)[0]['DevAcc'])\n",
    "        datamp.append(read_pickle('mpixel', lang, str(i), seed)[0]['DevAcc'])\n",
    "        datax.append(read_pickle('xlmr', lang, str(i), seed)[0]['DevAcc'])\n",
    "        datav.append(read_pickle('vit-mae', lang, str(i), seed)[0]['DevAcc'])\n",
    "        dataph.append(read_pickle('pixel-hindi', lang, str(i), seed)[0]['DevAcc'])\n",
    "        \n",
    "    \n",
    "    tasks = read_pickle('pixel', lang, '1', seed)[0].index\n",
    "    datasets = read_pickle('pixel', lang, '1', seed)[1]\n",
    "    baselines = {}\n",
    "    for i in range(len(tasks)):\n",
    "        data = datasets[i]\n",
    "        labels = data['targets'].value_counts()\n",
    "        majority_baseline = labels.max()/labels.sum()*100\n",
    "        baselines[tasks[i]] = majority_baseline\n",
    "            \n",
    "    baselines = pd.DataFrame.from_dict(baselines, orient='index')\n",
    "    baseline = []\n",
    "    baseline.append(baselines)\n",
    "    baseline.append(baselines)\n",
    "    baseline.append(baselines)\n",
    "    baseline.append(baselines)\n",
    "    baseline.append(baselines)\n",
    "    baseline.append(baselines)\n",
    "    baseline.append(baselines)\n",
    "    baseline.append(baselines)\n",
    "    baseline.append(baselines)\n",
    "    baseline.append(baselines)\n",
    "    baseline.append(baselines)\n",
    "    baseline.append(baselines)\n",
    "    \n",
    "    dfb = pd.concat(datab, axis=1)\n",
    "    dfb.columns = list(range(1,13))\n",
    "    \n",
    "    dfm = pd.concat(datam, axis=1)\n",
    "    dfm.columns = list(range(1,13))\n",
    "    \n",
    "    dfp = pd.concat(datap, axis=1)\n",
    "    dfp.columns = list(range(1,13))\n",
    "    \n",
    "    dfmp = pd.concat(datamp, axis=1)\n",
    "    dfmp.columns = list(range(1,13))\n",
    "    \n",
    "    dfx = pd.concat(datax, axis=1)\n",
    "    dfx.columns = list(range(1,13))\n",
    "    \n",
    "    dfv = pd.concat(datav, axis=1)\n",
    "    dfv.columns = list(range(1,13))\n",
    "    \n",
    "    dfph = pd.concat(dataph, axis=1)\n",
    "    dfph.columns = list(range(1,13))\n",
    "    \n",
    "    dfbase = pd.concat(baseline, axis=1)\n",
    "    dfbase.columns = list(range(1,13))\n",
    "    \n",
    "    \n",
    "    dfb_aux = dfb.T\n",
    "    dfb_aux['Model'] = 'bert'\n",
    "    dfm_aux = dfm.T\n",
    "    dfm_aux['Model'] = 'mbert'\n",
    "    dfp_aux = dfp.T\n",
    "    dfp_aux['Model'] = 'pixel'\n",
    "    dfmp_aux = dfmp.T\n",
    "    dfmp_aux['Model'] = 'mpixel'\n",
    "    dfx_aux = dfx.T\n",
    "    dfx_aux['Model'] = 'xlmr'\n",
    "    dfv_aux = dfv.T\n",
    "    dfv_aux['Model'] = 'vit-mae'\n",
    "    dfph_aux = dfph.T\n",
    "    dfph_aux['Model'] = 'pixel-hindi'\n",
    "    dfbase_aux = dfbase.T\n",
    "    dfbase_aux['Model'] = 'baseline'\n",
    "    all_list = [dfb_aux, dfp_aux,\n",
    "                dfm_aux, dfmp_aux, \n",
    "                dfx_aux, dfv_aux,\n",
    "                dfph_aux, dfbase_aux]\n",
    "    dev_df = pd.concat(all_list)\n",
    "    \n",
    "    return dev_df"
   ]
  },
  {
   "cell_type": "code",
   "execution_count": 8,
   "metadata": {
    "ExecuteTime": {
     "end_time": "2024-04-19T09:52:45.402498610Z",
     "start_time": "2024-04-19T09:52:45.380072980Z"
    },
    "collapsed": false,
    "jupyter": {
     "outputs_hidden": false
    }
   },
   "outputs": [],
   "source": [
    "def return_df_seeds(lang, seed):\n",
    "\n",
    "    datab = []\n",
    "    datam = []\n",
    "    datap = []\n",
    "    datamp = []\n",
    "    datax = []\n",
    "    datav = []\n",
    "    \n",
    "    lang = lang\n",
    "    \n",
    "    for i in range(1,13):\n",
    "        # datab.append(read_pickle('bert', lang, str(i), seed)[0]['DevAcc'])\n",
    "        # datam.append(read_pickle('mbert', lang, str(i), seed)[0]['DevAcc'])\n",
    "        datap.append(read_pickle('pixel', lang, str(i), seed)[0]['DevAcc'])\n",
    "        # datamp.append(read_pickle('mpixel', lang, str(i), seed)[0]['DevAcc'])\n",
    "        # datax.append(read_pickle('xlmr', lang, str(i), seed)[0]['DevAcc'])\n",
    "        # datav.append(read_pickle('vit-mae', lang, str(i), seed)[0]['DevAcc'])\n",
    "        \n",
    "    \n",
    "    tasks = read_pickle('pixel', lang, '1', seed)[0].index\n",
    "    datasets = read_pickle('pixel', lang, '1', seed)[1]\n",
    "    baselines = {}\n",
    "    for i in range(len(tasks)):\n",
    "        data = datasets[i]\n",
    "        labels = data['targets'].value_counts()\n",
    "        majority_baseline = labels.max()/labels.sum()*100\n",
    "        baselines[tasks[i]] = majority_baseline\n",
    "            \n",
    "    baselines = pd.DataFrame.from_dict(baselines, orient='index')\n",
    "    baseline = []\n",
    "    baseline.append(baselines)\n",
    "    baseline.append(baselines)\n",
    "    baseline.append(baselines)\n",
    "    baseline.append(baselines)\n",
    "    baseline.append(baselines)\n",
    "    baseline.append(baselines)\n",
    "    baseline.append(baselines)\n",
    "    baseline.append(baselines)\n",
    "    baseline.append(baselines)\n",
    "    baseline.append(baselines)\n",
    "    baseline.append(baselines)\n",
    "    baseline.append(baselines)\n",
    "    \n",
    "    # dfb = pd.concat(datab, axis=1)\n",
    "    # dfb.columns = list(range(1,13))\n",
    "    # \n",
    "    # dfm = pd.concat(datam, axis=1)\n",
    "    # dfm.columns = list(range(1,13))\n",
    "    # \n",
    "    dfp = pd.concat(datap, axis=1)\n",
    "    dfp.columns = list(range(1,13))\n",
    "    \n",
    "    # dfmp = pd.concat(datamp, axis=1)\n",
    "    # dfmp.columns = list(range(1,13))\n",
    "    # \n",
    "    # dfx = pd.concat(datax, axis=1)\n",
    "    # dfx.columns = list(range(1,13))\n",
    "    # \n",
    "    # dfv = pd.concat(datav, axis=1)\n",
    "    # dfv.columns = list(range(1,13))\n",
    "    \n",
    "    dfbase = pd.concat(baseline, axis=1)\n",
    "    dfbase.columns = list(range(1,13))\n",
    "    \n",
    "    \n",
    "    # dfb_aux = dfb.T\n",
    "    # dfb_aux['Model'] = 'bert'\n",
    "    # dfm_aux = dfm.T\n",
    "    # dfm_aux['Model'] = 'mbert'\n",
    "    dfp_aux = dfp.T\n",
    "    dfp_aux['Model'] = 'pixel'\n",
    "    # dfmp_aux = dfmp.T\n",
    "    # dfmp_aux['Model'] = 'mpixel'\n",
    "    # dfx_aux = dfx.T\n",
    "    # dfx_aux['Model'] = 'xlmr'\n",
    "    # dfv_aux = dfv.T\n",
    "    # dfv_aux['Model'] = 'vit-mae'\n",
    "    dfbase_aux = dfbase.T\n",
    "    dfbase_aux['Model'] = 'baseline'\n",
    "    all_list = [\n",
    "                # dfb_aux, \n",
    "                dfp_aux]\n",
    "                # dfm_aux, dfmp_aux, \n",
    "                # dfx_aux, dfv_aux,\n",
    "                # dfbase_aux]\n",
    "    dev_df = pd.concat(all_list)\n",
    "    \n",
    "    return dev_df"
   ]
  },
  {
   "cell_type": "code",
   "execution_count": 9,
   "metadata": {
    "ExecuteTime": {
     "end_time": "2024-04-19T09:53:35.790899758Z",
     "start_time": "2024-04-19T09:53:35.742504568Z"
    },
    "collapsed": false,
    "jupyter": {
     "outputs_hidden": false
    }
   },
   "outputs": [],
   "source": [
    "def return_df_seeds_models(lang):\n",
    "    seed = 1111\n",
    "    datab = []\n",
    "    datam = []\n",
    "    datap_1 = []\n",
    "    datap_2 = []\n",
    "    datap_3 = []\n",
    "    datamp = []\n",
    "    datax = []\n",
    "    datav = []\n",
    "    \n",
    "    lang = lang\n",
    "    \n",
    "    for i in range(1,13):\n",
    "        datab.append(read_pickle('bert', lang, str(i), seed)[0]['DevAcc'])\n",
    "        datam.append(read_pickle('mbert', lang, str(i), seed)[0]['DevAcc'])\n",
    "        \n",
    "        datap_1.append(read_pickle('pixel', lang, str(i), seed)[0]['DevAcc'])\n",
    "        datap_2.append(read_pickle('pixel', lang, str(i), \"8446\")[0]['DevAcc'])\n",
    "        datap_3.append(read_pickle('pixel', lang, str(i), \"32873\")[0]['DevAcc'])\n",
    "        \n",
    "        datamp.append(read_pickle('mpixel', lang, str(i), seed)[0]['DevAcc'])\n",
    "        datax.append(read_pickle('xlmr', lang, str(i), seed)[0]['DevAcc'])\n",
    "        datav.append(read_pickle('vit-mae', lang, str(i), seed)[0]['DevAcc'])\n",
    "        \n",
    "    \n",
    "    tasks = read_pickle('pixel', lang, '1', seed)[0].index\n",
    "    datasets = read_pickle('pixel', lang, '1', seed)[1]\n",
    "    baselines = {}\n",
    "    for i in range(len(tasks)):\n",
    "        data = datasets[i]\n",
    "        labels = data['targets'].value_counts()\n",
    "        majority_baseline = labels.max()/labels.sum()*100\n",
    "        baselines[tasks[i]] = majority_baseline\n",
    "            \n",
    "    baselines = pd.DataFrame.from_dict(baselines, orient='index')\n",
    "    baseline = []\n",
    "    baseline.append(baselines)\n",
    "    baseline.append(baselines)\n",
    "    baseline.append(baselines)\n",
    "    baseline.append(baselines)\n",
    "    baseline.append(baselines)\n",
    "    baseline.append(baselines)\n",
    "    baseline.append(baselines)\n",
    "    baseline.append(baselines)\n",
    "    baseline.append(baselines)\n",
    "    baseline.append(baselines)\n",
    "    baseline.append(baselines)\n",
    "    baseline.append(baselines)\n",
    "    \n",
    "    dfb = pd.concat(datab, axis=1)\n",
    "    dfb.columns = list(range(1,13))\n",
    "\n",
    "    dfm = pd.concat(datam, axis=1)\n",
    "    dfm.columns = list(range(1,13))\n",
    "    \n",
    "    dfp_1 = pd.concat(datap_1, axis=1)\n",
    "    dfp_1.columns = list(range(1,13))\n",
    "    \n",
    "    dfp_2 = pd.concat(datap_2, axis=1)\n",
    "    dfp_2.columns = list(range(1,13))\n",
    "    \n",
    "    dfp_3 = pd.concat(datap_3, axis=1)\n",
    "    dfp_3.columns = list(range(1,13))\n",
    "    \n",
    "    dfmp = pd.concat(datamp, axis=1)\n",
    "    dfmp.columns = list(range(1,13))\n",
    "\n",
    "    dfx = pd.concat(datax, axis=1)\n",
    "    dfx.columns = list(range(1,13))\n",
    "\n",
    "    dfv = pd.concat(datav, axis=1)\n",
    "    dfv.columns = list(range(1,13))\n",
    "    \n",
    "    dfbase = pd.concat(baseline, axis=1)\n",
    "    dfbase.columns = list(range(1,13))\n",
    "    \n",
    "    \n",
    "    dfb_aux = dfb.T\n",
    "    dfb_aux['Model'] = 'bert'\n",
    "    dfm_aux = dfm.T\n",
    "    dfm_aux['Model'] = 'mbert'\n",
    "    dfp_1_aux = dfp_1.T\n",
    "    dfp_1_aux['Model'] = 'pixel'\n",
    "    dfp_2_aux = dfp_2.T\n",
    "    dfp_2_aux['Model'] = 'pixel'\n",
    "    dfp_3_aux = dfp_3.T\n",
    "    dfp_3_aux['Model'] = 'pixel'\n",
    "    dfmp_aux = dfmp.T\n",
    "    dfmp_aux['Model'] = 'mpixel'\n",
    "    dfx_aux = dfx.T\n",
    "    dfx_aux['Model'] = 'xlmr'\n",
    "    dfv_aux = dfv.T\n",
    "    dfv_aux['Model'] = 'vit-mae'\n",
    "    dfbase_aux = dfbase.T\n",
    "    dfbase_aux['Model'] = 'baseline'\n",
    "    all_list = [\n",
    "                dfb_aux, \n",
    "                dfp_1_aux,\n",
    "                dfp_2_aux,\n",
    "                dfp_3_aux,\n",
    "                dfm_aux, dfmp_aux, \n",
    "                dfx_aux, dfv_aux,\n",
    "                dfbase_aux]\n",
    "    dev_df = pd.concat(all_list)\n",
    "    \n",
    "    return dev_df"
   ]
  },
  {
   "cell_type": "code",
   "execution_count": 10,
   "metadata": {
    "ExecuteTime": {
     "end_time": "2024-04-19T09:58:17.155429374Z",
     "start_time": "2024-04-19T09:58:17.110640285Z"
    },
    "collapsed": false,
    "jupyter": {
     "outputs_hidden": false
    }
   },
   "outputs": [],
   "source": [
    "def return_df_seeds_models_eng(lang):\n",
    "    seed = 1111\n",
    "    datab = []\n",
    "    # datam = []\n",
    "    datap_1 = []\n",
    "    datap_2 = []\n",
    "    datap_3 = []\n",
    "    # datamp = []\n",
    "    # datax = []\n",
    "    datav = []\n",
    "    \n",
    "    lang = lang\n",
    "    \n",
    "    for i in range(1,13):\n",
    "        datab.append(read_pickle('bert', lang, str(i), seed)[0]['DevAcc'])\n",
    "        # datam.append(read_pickle('mbert', lang, str(i), seed)[0]['DevAcc'])\n",
    "        \n",
    "        datap_1.append(read_pickle('pixel', lang, str(i), seed)[0]['DevAcc'])\n",
    "        datap_2.append(read_pickle('pixel', lang, str(i), \"8446\")[0]['DevAcc'])\n",
    "        datap_3.append(read_pickle('pixel', lang, str(i), \"32873\")[0]['DevAcc'])\n",
    "        \n",
    "        # datamp.append(read_pickle('mpixel', lang, str(i), seed)[0]['DevAcc'])\n",
    "        # datax.append(read_pickle('xlmr', lang, str(i), seed)[0]['DevAcc'])\n",
    "        datav.append(read_pickle('vit-mae', lang, str(i), seed)[0]['DevAcc'])\n",
    "        \n",
    "    \n",
    "    tasks = read_pickle('pixel', lang, '1', seed)[0].index\n",
    "    datasets = read_pickle('pixel', lang, '1', seed)[1]\n",
    "    baselines = {}\n",
    "    for i in range(len(tasks)):\n",
    "        data = datasets[i]\n",
    "        labels = data['targets'].value_counts()\n",
    "        majority_baseline = labels.max()/labels.sum()*100\n",
    "        baselines[tasks[i]] = majority_baseline\n",
    "            \n",
    "    baselines = pd.DataFrame.from_dict(baselines, orient='index')\n",
    "    baseline = []\n",
    "    baseline.append(baselines)\n",
    "    baseline.append(baselines)\n",
    "    baseline.append(baselines)\n",
    "    baseline.append(baselines)\n",
    "    baseline.append(baselines)\n",
    "    baseline.append(baselines)\n",
    "    baseline.append(baselines)\n",
    "    baseline.append(baselines)\n",
    "    baseline.append(baselines)\n",
    "    baseline.append(baselines)\n",
    "    baseline.append(baselines)\n",
    "    baseline.append(baselines)\n",
    "    \n",
    "    dfb = pd.concat(datab, axis=1)\n",
    "    dfb.columns = list(range(1,13))\n",
    "\n",
    "    # dfm = pd.concat(datam, axis=1)\n",
    "    # dfm.columns = list(range(1,13))\n",
    "    \n",
    "    dfp_1 = pd.concat(datap_1, axis=1)\n",
    "    dfp_1.columns = list(range(1,13))\n",
    "    \n",
    "    dfp_2 = pd.concat(datap_2, axis=1)\n",
    "    dfp_2.columns = list(range(1,13))\n",
    "    \n",
    "    dfp_3 = pd.concat(datap_3, axis=1)\n",
    "    dfp_3.columns = list(range(1,13))\n",
    "    \n",
    "    # dfmp = pd.concat(datamp, axis=1)\n",
    "    # dfmp.columns = list(range(1,13))\n",
    "    # \n",
    "    # dfx = pd.concat(datax, axis=1)\n",
    "    # dfx.columns = list(range(1,13))\n",
    "\n",
    "    dfv = pd.concat(datav, axis=1)\n",
    "    dfv.columns = list(range(1,13))\n",
    "    \n",
    "    dfbase = pd.concat(baseline, axis=1)\n",
    "    dfbase.columns = list(range(1,13))\n",
    "    \n",
    "    \n",
    "    dfb_aux = dfb.T\n",
    "    dfb_aux['Model'] = 'bert'\n",
    "    # dfm_aux = dfm.T\n",
    "    # dfm_aux['Model'] = 'mbert'\n",
    "    dfp_1_aux = dfp_1.T\n",
    "    dfp_1_aux['Model'] = 'pixel'\n",
    "    dfp_2_aux = dfp_2.T\n",
    "    dfp_2_aux['Model'] = 'pixel'\n",
    "    dfp_3_aux = dfp_3.T\n",
    "    dfp_3_aux['Model'] = 'pixel'\n",
    "    # dfmp_aux = dfmp.T\n",
    "    # dfmp_aux['Model'] = 'mpixel'\n",
    "    # dfx_aux = dfx.T\n",
    "    # dfx_aux['Model'] = 'xlmr'\n",
    "    dfv_aux = dfv.T\n",
    "    dfv_aux['Model'] = 'vit-mae'\n",
    "    dfbase_aux = dfbase.T\n",
    "    dfbase_aux['Model'] = 'baseline'\n",
    "    all_list = [\n",
    "                dfb_aux, \n",
    "                dfp_1_aux,\n",
    "                dfp_2_aux,\n",
    "                dfp_3_aux,\n",
    "                # dfm_aux, dfmp_aux, \n",
    "                # dfx_aux, \n",
    "                dfv_aux,\n",
    "                dfbase_aux]\n",
    "    dev_df = pd.concat(all_list)\n",
    "    \n",
    "    return dev_df"
   ]
  },
  {
   "cell_type": "code",
   "execution_count": 19,
   "metadata": {
    "ExecuteTime": {
     "end_time": "2024-04-19T09:53:37.068370725Z",
     "start_time": "2024-04-19T09:53:37.060917072Z"
    },
    "collapsed": false,
    "jupyter": {
     "outputs_hidden": false
    }
   },
   "outputs": [],
   "source": [
    "language = \"Hindi\""
   ]
  },
  {
   "cell_type": "code",
   "execution_count": 10,
   "metadata": {
    "ExecuteTime": {
     "end_time": "2024-04-19T08:57:37.564975191Z",
     "start_time": "2024-04-19T08:57:34.543749180Z"
    },
    "collapsed": false,
    "jupyter": {
     "outputs_hidden": false
    }
   },
   "outputs": [
    {
     "data": {
      "text/plain": [
       "Text(0.5, 0, 'Layer')"
      ]
     },
     "execution_count": 10,
     "metadata": {},
     "output_type": "execute_result"
    },
    {
     "data": {
      "image/png": "[encoded data removed]",
      "text/plain": [
       "<Figure size 640x480 with 1 Axes>"
      ]
     },
     "metadata": {},
     "output_type": "display_data"
    }
   ],
   "source": [
    "dev_df = return_df_pixel_hindi(language, \"1111\")\n",
    "\n",
    "ax = sns.lineplot(data=dev_df, x=dev_df.index, y=dev_df.columns[6], hue='Model')\n",
    "ax.set_xticks(range(1, 13))\n",
    "# ax.set_yticks(range(0,101,10))\n",
    "ax.set_xlabel('Layer')"
   ]
  },
  {
   "cell_type": "code",
   "execution_count": 12,
   "metadata": {
    "ExecuteTime": {
     "end_time": "2024-04-19T09:52:54.270380154Z",
     "start_time": "2024-04-19T09:52:53.782975600Z"
    },
    "executionInfo": {
     "elapsed": 331,
     "status": "ok",
     "timestamp": 1695734010463,
     "user": {
      "displayName": "Kushal Tatariya",
      "userId": "02875399616543221813"
     },
     "user_tz": -120
    },
    "id": "fSCUQEfTtTez"
   },
   "outputs": [],
   "source": [
    "dev_df_1111 = return_df_seeds(language, '1111')\n",
    "dev_df_1111['Seed'] = '1111'"
   ]
  },
  {
   "cell_type": "code",
   "execution_count": 13,
   "metadata": {
    "ExecuteTime": {
     "end_time": "2024-04-19T09:52:55.336420177Z",
     "start_time": "2024-04-19T09:52:54.846263210Z"
    },
    "collapsed": false,
    "jupyter": {
     "outputs_hidden": false
    }
   },
   "outputs": [],
   "source": [
    "dev_df_8446 = return_df_seeds(language, '8446')\n",
    "dev_df_8446['Seed'] = '8446'"
   ]
  },
  {
   "cell_type": "code",
   "execution_count": 14,
   "metadata": {
    "ExecuteTime": {
     "end_time": "2024-04-19T09:52:56.635262934Z",
     "start_time": "2024-04-19T09:52:56.088404168Z"
    },
    "collapsed": false,
    "jupyter": {
     "outputs_hidden": false
    }
   },
   "outputs": [],
   "source": [
    "dev_df_32873 = return_df_seeds(language, '32873')\n",
    "dev_df_32873['Seed'] = '32873'"
   ]
  },
  {
   "cell_type": "code",
   "execution_count": null,
   "metadata": {
    "collapsed": false,
    "jupyter": {
     "outputs_hidden": false
    }
   },
   "outputs": [],
   "source": [
    "df_seeds = pd.concat([dev_df_1111, dev_df_8446, dev_df_32873])\n",
    "df_seeds"
   ]
  },
  {
   "cell_type": "code",
   "execution_count": 6,
   "metadata": {
    "ExecuteTime": {
     "end_time": "2024-04-24T14:54:01.610944692Z",
     "start_time": "2024-04-24T14:54:01.135576130Z"
    },
    "collapsed": false,
    "jupyter": {
     "outputs_hidden": false
    }
   },
   "outputs": [],
   "source": [
    "dev_df = return_df_visual()"
   ]
  },
  {
   "cell_type": "code",
   "execution_count": null,
   "metadata": {
    "collapsed": false,
    "jupyter": {
     "outputs_hidden": false
    }
   },
   "outputs": [],
   "source": [
    "ax = sns.lineplot(data=df_seeds, x=df_seeds.index, y=df_seeds.columns[8], hue='Seed')\n",
    "ax.set_xticks(range(1,13))\n",
    "# ax.set_yticks(range(0,101,10))\n",
    "ax.set_xlabel('Layer')"
   ]
  },
  {
   "cell_type": "code",
   "execution_count": null,
   "metadata": {
    "collapsed": false,
    "jupyter": {
     "outputs_hidden": false
    }
   },
   "outputs": [],
   "source": [
    "language = \"English\"\n",
    "# dev_df = return_df_seeds_models(language)\n",
    "dev_df = return_df_seeds_models_eng(language)\n",
    "\n",
    "dev_df"
   ]
  },
  {
   "cell_type": "code",
   "execution_count": 12,
   "metadata": {
    "ExecuteTime": {
     "end_time": "2024-05-03T12:01:17.955044857Z",
     "start_time": "2024-05-03T12:01:06.903568756Z"
    },
    "collapsed": false,
    "jupyter": {
     "outputs_hidden": false
    }
   },
   "outputs": [
    {
     "data": {
      "text/html": [
       "<div>\n",
       "<style scoped>\n",
       "    .dataframe tbody tr th:only-of-type {\n",
       "        vertical-align: middle;\n",
       "    }\n",
       "\n",
       "    .dataframe tbody tr th {\n",
       "        vertical-align: top;\n",
       "    }\n",
       "\n",
       "    .dataframe thead th {\n",
       "        text-align: right;\n",
       "    }\n",
       "</style>\n",
       "<table border=\"1\" class=\"dataframe\">\n",
       "  <thead>\n",
       "    <tr style=\"text-align: right;\">\n",
       "      <th></th>\n",
       "      <th>Length</th>\n",
       "      <th>WordContent</th>\n",
       "      <th>Depth</th>\n",
       "      <th>TopConstituents</th>\n",
       "      <th>BigramShift</th>\n",
       "      <th>Tense</th>\n",
       "      <th>SubjNumber</th>\n",
       "      <th>ObjNumber</th>\n",
       "      <th>OddManOut</th>\n",
       "      <th>CoordinationInversion</th>\n",
       "      <th>Model</th>\n",
       "    </tr>\n",
       "  </thead>\n",
       "  <tbody>\n",
       "    <tr>\n",
       "      <th>1</th>\n",
       "      <td>97.210000</td>\n",
       "      <td>93.33</td>\n",
       "      <td>37.21</td>\n",
       "      <td>73.78</td>\n",
       "      <td>52.54</td>\n",
       "      <td>87.44</td>\n",
       "      <td>82.69</td>\n",
       "      <td>81.33</td>\n",
       "      <td>53.35</td>\n",
       "      <td>56.47</td>\n",
       "      <td>bert</td>\n",
       "    </tr>\n",
       "    <tr>\n",
       "      <th>2</th>\n",
       "      <td>96.540000</td>\n",
       "      <td>91.72</td>\n",
       "      <td>39.99</td>\n",
       "      <td>76.72</td>\n",
       "      <td>71.37</td>\n",
       "      <td>88.40</td>\n",
       "      <td>84.22</td>\n",
       "      <td>82.96</td>\n",
       "      <td>54.23</td>\n",
       "      <td>60.73</td>\n",
       "      <td>bert</td>\n",
       "    </tr>\n",
       "    <tr>\n",
       "      <th>3</th>\n",
       "      <td>94.760000</td>\n",
       "      <td>89.17</td>\n",
       "      <td>40.96</td>\n",
       "      <td>78.31</td>\n",
       "      <td>82.55</td>\n",
       "      <td>89.12</td>\n",
       "      <td>83.74</td>\n",
       "      <td>82.92</td>\n",
       "      <td>55.62</td>\n",
       "      <td>61.73</td>\n",
       "      <td>bert</td>\n",
       "    </tr>\n",
       "    <tr>\n",
       "      <th>4</th>\n",
       "      <td>94.290000</td>\n",
       "      <td>86.42</td>\n",
       "      <td>42.15</td>\n",
       "      <td>80.07</td>\n",
       "      <td>84.88</td>\n",
       "      <td>89.28</td>\n",
       "      <td>84.64</td>\n",
       "      <td>82.89</td>\n",
       "      <td>56.95</td>\n",
       "      <td>62.34</td>\n",
       "      <td>bert</td>\n",
       "    </tr>\n",
       "    <tr>\n",
       "      <th>5</th>\n",
       "      <td>93.010000</td>\n",
       "      <td>83.02</td>\n",
       "      <td>43.03</td>\n",
       "      <td>80.54</td>\n",
       "      <td>87.07</td>\n",
       "      <td>89.46</td>\n",
       "      <td>85.11</td>\n",
       "      <td>83.58</td>\n",
       "      <td>59.48</td>\n",
       "      <td>62.74</td>\n",
       "      <td>bert</td>\n",
       "    </tr>\n",
       "    <tr>\n",
       "      <th>...</th>\n",
       "      <td>...</td>\n",
       "      <td>...</td>\n",
       "      <td>...</td>\n",
       "      <td>...</td>\n",
       "      <td>...</td>\n",
       "      <td>...</td>\n",
       "      <td>...</td>\n",
       "      <td>...</td>\n",
       "      <td>...</td>\n",
       "      <td>...</td>\n",
       "      <td>...</td>\n",
       "    </tr>\n",
       "    <tr>\n",
       "      <th>8</th>\n",
       "      <td>16.666667</td>\n",
       "      <td>0.10</td>\n",
       "      <td>17.88</td>\n",
       "      <td>5.00</td>\n",
       "      <td>50.00</td>\n",
       "      <td>50.00</td>\n",
       "      <td>50.00</td>\n",
       "      <td>50.00</td>\n",
       "      <td>50.13</td>\n",
       "      <td>50.00</td>\n",
       "      <td>baseline</td>\n",
       "    </tr>\n",
       "    <tr>\n",
       "      <th>9</th>\n",
       "      <td>16.666667</td>\n",
       "      <td>0.10</td>\n",
       "      <td>17.88</td>\n",
       "      <td>5.00</td>\n",
       "      <td>50.00</td>\n",
       "      <td>50.00</td>\n",
       "      <td>50.00</td>\n",
       "      <td>50.00</td>\n",
       "      <td>50.13</td>\n",
       "      <td>50.00</td>\n",
       "      <td>baseline</td>\n",
       "    </tr>\n",
       "    <tr>\n",
       "      <th>10</th>\n",
       "      <td>16.666667</td>\n",
       "      <td>0.10</td>\n",
       "      <td>17.88</td>\n",
       "      <td>5.00</td>\n",
       "      <td>50.00</td>\n",
       "      <td>50.00</td>\n",
       "      <td>50.00</td>\n",
       "      <td>50.00</td>\n",
       "      <td>50.13</td>\n",
       "      <td>50.00</td>\n",
       "      <td>baseline</td>\n",
       "    </tr>\n",
       "    <tr>\n",
       "      <th>11</th>\n",
       "      <td>16.666667</td>\n",
       "      <td>0.10</td>\n",
       "      <td>17.88</td>\n",
       "      <td>5.00</td>\n",
       "      <td>50.00</td>\n",
       "      <td>50.00</td>\n",
       "      <td>50.00</td>\n",
       "      <td>50.00</td>\n",
       "      <td>50.13</td>\n",
       "      <td>50.00</td>\n",
       "      <td>baseline</td>\n",
       "    </tr>\n",
       "    <tr>\n",
       "      <th>12</th>\n",
       "      <td>16.666667</td>\n",
       "      <td>0.10</td>\n",
       "      <td>17.88</td>\n",
       "      <td>5.00</td>\n",
       "      <td>50.00</td>\n",
       "      <td>50.00</td>\n",
       "      <td>50.00</td>\n",
       "      <td>50.00</td>\n",
       "      <td>50.13</td>\n",
       "      <td>50.00</td>\n",
       "      <td>baseline</td>\n",
       "    </tr>\n",
       "  </tbody>\n",
       "</table>\n",
       "<p>72 rows × 11 columns</p>\n",
       "</div>"
      ],
      "text/plain": [
       "       Length  WordContent  Depth  TopConstituents  BigramShift  Tense  \\\n",
       "1   97.210000        93.33  37.21            73.78        52.54  87.44   \n",
       "2   96.540000        91.72  39.99            76.72        71.37  88.40   \n",
       "3   94.760000        89.17  40.96            78.31        82.55  89.12   \n",
       "4   94.290000        86.42  42.15            80.07        84.88  89.28   \n",
       "5   93.010000        83.02  43.03            80.54        87.07  89.46   \n",
       "..        ...          ...    ...              ...          ...    ...   \n",
       "8   16.666667         0.10  17.88             5.00        50.00  50.00   \n",
       "9   16.666667         0.10  17.88             5.00        50.00  50.00   \n",
       "10  16.666667         0.10  17.88             5.00        50.00  50.00   \n",
       "11  16.666667         0.10  17.88             5.00        50.00  50.00   \n",
       "12  16.666667         0.10  17.88             5.00        50.00  50.00   \n",
       "\n",
       "    SubjNumber  ObjNumber  OddManOut  CoordinationInversion     Model  \n",
       "1        82.69      81.33      53.35                  56.47      bert  \n",
       "2        84.22      82.96      54.23                  60.73      bert  \n",
       "3        83.74      82.92      55.62                  61.73      bert  \n",
       "4        84.64      82.89      56.95                  62.34      bert  \n",
       "5        85.11      83.58      59.48                  62.74      bert  \n",
       "..         ...        ...        ...                    ...       ...  \n",
       "8        50.00      50.00      50.13                  50.00  baseline  \n",
       "9        50.00      50.00      50.13                  50.00  baseline  \n",
       "10       50.00      50.00      50.13                  50.00  baseline  \n",
       "11       50.00      50.00      50.13                  50.00  baseline  \n",
       "12       50.00      50.00      50.13                  50.00  baseline  \n",
       "\n",
       "[72 rows x 11 columns]"
      ]
     },
     "execution_count": 12,
     "metadata": {},
     "output_type": "execute_result"
    }
   ],
   "source": [
    "dev_df = return_df_eng(\"1111\")\n",
    "dev_df"
   ]
  },
  {
   "cell_type": "code",
   "execution_count": 18,
   "metadata": {
    "ExecuteTime": {
     "end_time": "2024-05-03T12:04:23.235144471Z",
     "start_time": "2024-05-03T12:04:22.951047794Z"
    },
    "colab": {
     "base_uri": "https://localhost:8080/",
     "height": 451
    },
    "executionInfo": {
     "elapsed": 1763,
     "status": "ok",
     "timestamp": 1695734048806,
     "user": {
      "displayName": "Kushal Tatariya",
      "userId": "02875399616543221813"
     },
     "user_tz": -120
    },
    "id": "2Hp-xBj6wd8j",
    "outputId": "f6af4cd3-88fb-441c-d9f0-349e43a0884a"
   },
   "outputs": [
    {
     "data": {
      "text/plain": [
       "Text(0.5, 0, 'Layer')"
      ]
     },
     "execution_count": 18,
     "metadata": {},
     "output_type": "execute_result"
    },
    {
     "data": {
      "image/png": "[encoded data removed]",
      "text/plain": [
       "<Figure size 640x480 with 1 Axes>"
      ]
     },
     "metadata": {},
     "output_type": "display_data"
    }
   ],
   "source": [
    "ax = sns.lineplot(data=dev_df, x=dev_df.index, y=dev_df.columns[4], hue='Model')\n",
    "ax.set_xticks(range(1,13))\n",
    "ax.set_yticks(range(0,101,10))\n",
    "ax.set_xlabel('Layer')"
   ]
  },
  {
   "cell_type": "markdown",
   "metadata": {
    "collapsed": false,
    "jupyter": {
     "outputs_hidden": false
    }
   },
   "source": [
    "## Checking the predictions"
   ]
  },
  {
   "cell_type": "code",
   "execution_count": 3,
   "metadata": {
    "ExecuteTime": {
     "end_time": "2024-02-21T17:06:44.604619417Z",
     "start_time": "2024-02-21T17:06:44.413933187Z"
    },
    "collapsed": false,
    "jupyter": {
     "outputs_hidden": false
    }
   },
   "outputs": [],
   "source": [
    "from sklearn.metrics import confusion_matrix"
   ]
  },
  {
   "cell_type": "code",
   "execution_count": 88,
   "metadata": {
    "ExecuteTime": {
     "end_time": "2024-02-23T16:59:01.835569374Z",
     "start_time": "2024-02-23T16:59:01.784540574Z"
    },
    "collapsed": false,
    "jupyter": {
     "outputs_hidden": false
    }
   },
   "outputs": [
    {
     "data": {
      "text/plain": [
       "0.715917745620716"
      ]
     },
     "execution_count": 88,
     "metadata": {},
     "output_type": "execute_result"
    }
   ],
   "source": [
    "results = read_pickle('pixel', 'Hindi', '1', 'mean')\n",
    "results[1][0].targets.value_counts().max()/results[1][0].targets.value_counts().sum()"
   ]
  },
  {
   "cell_type": "code",
   "execution_count": 76,
   "metadata": {
    "ExecuteTime": {
     "end_time": "2024-02-23T14:36:15.071928837Z",
     "start_time": "2024-02-23T14:36:15.054713927Z"
    },
    "collapsed": false,
    "jupyter": {
     "outputs_hidden": false
    }
   },
   "outputs": [],
   "source": [
    "task = results[1][-2]"
   ]
  },
  {
   "cell_type": "code",
   "execution_count": 77,
   "metadata": {
    "ExecuteTime": {
     "end_time": "2024-02-23T14:36:15.613439065Z",
     "start_time": "2024-02-23T14:36:15.591270472Z"
    },
    "collapsed": false,
    "jupyter": {
     "outputs_hidden": false
    }
   },
   "outputs": [],
   "source": [
    "df_confusion = pd.crosstab(task['targets'], task['predictions'], rownames=['Actual'], colnames=['Predicted'], margins=True)\n",
    "# df_confusion = pd.crosstab(tense['targets'], tense['predictions'])"
   ]
  },
  {
   "cell_type": "code",
   "execution_count": 78,
   "metadata": {
    "ExecuteTime": {
     "end_time": "2024-02-23T14:36:16.596957309Z",
     "start_time": "2024-02-23T14:36:16.593085096Z"
    },
    "collapsed": false,
    "jupyter": {
     "outputs_hidden": false
    }
   },
   "outputs": [
    {
     "data": {
      "text/html": [
       "<div>\n",
       "<style scoped>\n",
       "    .dataframe tbody tr th:only-of-type {\n",
       "        vertical-align: middle;\n",
       "    }\n",
       "\n",
       "    .dataframe tbody tr th {\n",
       "        vertical-align: top;\n",
       "    }\n",
       "\n",
       "    .dataframe thead th {\n",
       "        text-align: right;\n",
       "    }\n",
       "</style>\n",
       "<table border=\"1\" class=\"dataframe\">\n",
       "  <thead>\n",
       "    <tr style=\"text-align: right;\">\n",
       "      <th>Predicted</th>\n",
       "      <th>0</th>\n",
       "      <th>1</th>\n",
       "      <th>All</th>\n",
       "    </tr>\n",
       "    <tr>\n",
       "      <th>Actual</th>\n",
       "      <th></th>\n",
       "      <th></th>\n",
       "      <th></th>\n",
       "    </tr>\n",
       "  </thead>\n",
       "  <tbody>\n",
       "    <tr>\n",
       "      <th>0</th>\n",
       "      <td>4626</td>\n",
       "      <td>2</td>\n",
       "      <td>4628</td>\n",
       "    </tr>\n",
       "    <tr>\n",
       "      <th>1</th>\n",
       "      <td>4785</td>\n",
       "      <td>3</td>\n",
       "      <td>4788</td>\n",
       "    </tr>\n",
       "    <tr>\n",
       "      <th>All</th>\n",
       "      <td>9411</td>\n",
       "      <td>5</td>\n",
       "      <td>9416</td>\n",
       "    </tr>\n",
       "  </tbody>\n",
       "</table>\n",
       "</div>"
      ],
      "text/plain": [
       "Predicted     0  1   All\n",
       "Actual                  \n",
       "0          4626  2  4628\n",
       "1          4785  3  4788\n",
       "All        9411  5  9416"
      ]
     },
     "execution_count": 78,
     "metadata": {},
     "output_type": "execute_result"
    }
   ],
   "source": [
    "df_confusion"
   ]
  },
  {
   "cell_type": "code",
   "execution_count": 16,
   "metadata": {
    "ExecuteTime": {
     "end_time": "2024-02-21T17:07:38.737575704Z",
     "start_time": "2024-02-21T17:07:38.729145570Z"
    },
    "collapsed": false,
    "jupyter": {
     "outputs_hidden": false
    }
   },
   "outputs": [],
   "source": [
    "labels = df_confusion.to_numpy()"
   ]
  },
  {
   "cell_type": "code",
   "execution_count": 33,
   "metadata": {
    "ExecuteTime": {
     "end_time": "2024-02-21T17:13:08.575551056Z",
     "start_time": "2024-02-21T17:13:08.408113483Z"
    },
    "collapsed": false,
    "jupyter": {
     "outputs_hidden": false
    }
   },
   "outputs": [
    {
     "data": {
      "text/plain": [
       "<Axes: xlabel='targets'>"
      ]
     },
     "execution_count": 33,
     "metadata": {},
     "output_type": "execute_result"
    },
    {
     "data": {
      "image/png": "[encoded data removed]",
      "text/plain": [
       "<Figure size 640x480 with 1 Axes>"
      ]
     },
     "metadata": {},
     "output_type": "display_data"
    }
   ],
   "source": [
    "# create a lineplot from df_confusion\n",
    "sns.lineplot(data=df_confusion)"
   ]
  },
  {
   "cell_type": "code",
   "execution_count": 10,
   "metadata": {
    "ExecuteTime": {
     "end_time": "2024-02-21T17:06:48.906725776Z",
     "start_time": "2024-02-21T17:06:48.703774698Z"
    },
    "collapsed": false,
    "jupyter": {
     "outputs_hidden": false
    }
   },
   "outputs": [
    {
     "data": {
      "text/plain": [
       "<Axes: xlabel='Predicted', ylabel='Actual'>"
      ]
     },
     "execution_count": 10,
     "metadata": {},
     "output_type": "execute_result"
    },
    {
     "data": {
      "image/png": "[encoded data removed]",
      "text/plain": [
       "<Figure size 640x480 with 2 Axes>"
      ]
     },
     "metadata": {},
     "output_type": "display_data"
    }
   ],
   "source": [
    "sns.heatmap(df_confusion, cmap=sns.light_palette(\"seagreen\", as_cmap=True), annot=labels, fmt=\"d\")"
   ]
  },
  {
   "cell_type": "code",
   "execution_count": null,
   "metadata": {
    "collapsed": false,
    "jupyter": {
     "outputs_hidden": false
    }
   },
   "outputs": [],
   "source": []
  }
 ],
 "metadata": {
  "colab": {
   "provenance": []
  },
  "kernelspec": {
   "display_name": "Python 3 (ipykernel)",
   "language": "python",
   "name": "python3"
  },
  "language_info": {
   "codemirror_mode": {
    "name": "ipython",
    "version": 3
   },
   "file_extension": ".py",
   "mimetype": "text/x-python",
   "name": "python",
   "nbconvert_exporter": "python",
   "pygments_lexer": "ipython3",
   "version": "3.11.4"
  }
 },
 "nbformat": 4,
 "nbformat_minor": 4
}
