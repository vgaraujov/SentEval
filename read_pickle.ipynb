{
 "cells": [
  {
   "cell_type": "code",
   "execution_count": 11,
   "metadata": {
    "colab": {
     "base_uri": "https://localhost:8080/"
    },
    "collapsed": true,
    "executionInfo": {
     "elapsed": 24856,
     "status": "ok",
     "timestamp": 1695730190583,
     "user": {
      "displayName": "Kushal Tatariya",
      "userId": "02875399616543221813"
     },
     "user_tz": -120
    },
    "id": "gcS_HfF0jtDb",
    "outputId": "347c138e-079b-4073-c845-c2cf9c42141b",
    "ExecuteTime": {
     "end_time": "2024-04-25T11:59:59.414110079Z",
     "start_time": "2024-04-25T11:59:59.364139156Z"
    }
   },
   "outputs": [],
   "source": [
    "import pandas as pd\n",
    "import pickle\n",
    "import seaborn as sns\n",
    "import matplotlib as plt\n",
    "from glob import glob\n",
    "sns.set_theme(style=\"whitegrid\")"
   ]
  },
  {
   "cell_type": "code",
   "execution_count": 12,
   "metadata": {
    "executionInfo": {
     "elapsed": 467,
     "status": "ok",
     "timestamp": 1695730193888,
     "user": {
      "displayName": "Kushal Tatariya",
      "userId": "02875399616543221813"
     },
     "user_tz": -120
    },
    "id": "rMcK4X5LjtDe",
    "ExecuteTime": {
     "end_time": "2024-04-25T12:00:00.190776119Z",
     "start_time": "2024-04-25T12:00:00.171972175Z"
    }
   },
   "outputs": [],
   "source": [
    "def read_pickle(model, lang, layer, seed):\n",
    "    folder = '/home/kushal/SentEval/examples/' + model + '/'\n",
    "    if lang == \"English\":\n",
    "        filename = f\"{model}_p=mean_l={layer}_t=4_s={seed}.pickle\"\n",
    "    else:\n",
    "        filename = f\"{model}_p=mean_l={layer}_lg={lang}_s={seed}.pickle\"\n",
    "\n",
    "    with open(folder + filename, 'rb') as handle:\n",
    "    #with open(filename, 'rb') as handle:\n",
    "        data = pickle.load(handle)\n",
    "    df_list = []\n",
    "    df_scores = {}\n",
    "    for key, index in data.items():\n",
    "        # print(key)\n",
    "        score_dict = {'DevAcc': index['devacc'], 'Acc': index['acc'], 'NDev': index['ndev'], 'NTest': index['ntest']}\n",
    "        list_dict = {'indexes':list(index['indexes']), 'targets':list(index['targets']), 'predictions':list(index['predictions'])}\n",
    "        df_l = pd.DataFrame.from_dict(list_dict)\n",
    "        df_scores[key]=score_dict\n",
    "        df_list.append(df_l)\n",
    "    df = pd.DataFrame.from_dict(df_scores, orient='index')\n",
    "    df['Model'] = model\n",
    "    return df, df_list"
   ]
  },
  {
   "cell_type": "code",
   "execution_count": 13,
   "metadata": {
    "executionInfo": {
     "elapsed": 13165,
     "status": "ok",
     "timestamp": 1695733982575,
     "user": {
      "displayName": "Kushal Tatariya",
      "userId": "02875399616543221813"
     },
     "user_tz": -120
    },
    "id": "wBjCNKjQsjqO",
    "ExecuteTime": {
     "end_time": "2024-04-25T12:00:01.748099378Z",
     "start_time": "2024-04-25T12:00:01.726605450Z"
    }
   },
   "outputs": [],
   "source": [
    "def return_df_eng(seed):\n",
    "\n",
    "    datab = []\n",
    "    datam = []\n",
    "    datap = []\n",
    "    datamp = []\n",
    "    datav = []\n",
    "    datapw = []\n",
    "    \n",
    "    lang = \"English\"\n",
    "    \n",
    "    for i in range(1,13):\n",
    "        datab.append(read_pickle('bert', lang, str(i), seed)[0]['DevAcc'])\n",
    "        # datam.append(read_pickle('mbert', lang, str(i), 'mean')[0]['DevAcc'])\n",
    "        datap.append(read_pickle('pixel', lang, str(i), seed)[0]['DevAcc'])\n",
    "        # datamp.append(read_pickle('mpixel', lang, str(i), 'mean')[0]['DevAcc'])\n",
    "        datav.append(read_pickle('vit-mae', lang, str(i), seed)[0]['DevAcc'])\n",
    "        datapw.append(read_pickle('pixel-words', lang, str(i), seed)[0]['DevAcc'])\n",
    "        \n",
    "    \n",
    "    tasks = read_pickle('pixel', lang, '1', seed)[0].index\n",
    "    datasets = read_pickle('pixel', lang, '1', seed)[1]\n",
    "    baselines = {}\n",
    "    for i in range(len(tasks)):\n",
    "        data = datasets[i]\n",
    "        labels = data['targets'].value_counts()\n",
    "        majority_baseline = labels.max()/labels.sum()*100\n",
    "        baselines[tasks[i]] = majority_baseline\n",
    "            \n",
    "    baselines = pd.DataFrame.from_dict(baselines, orient='index')\n",
    "    baseline = []\n",
    "    baseline.append(baselines)\n",
    "    baseline.append(baselines)\n",
    "    baseline.append(baselines)\n",
    "    baseline.append(baselines)\n",
    "    baseline.append(baselines)\n",
    "    baseline.append(baselines)\n",
    "    baseline.append(baselines)\n",
    "    baseline.append(baselines)\n",
    "    baseline.append(baselines)\n",
    "    baseline.append(baselines)\n",
    "    baseline.append(baselines)\n",
    "    baseline.append(baselines)\n",
    "    \n",
    "    dfb = pd.concat(datab, axis=1)\n",
    "    dfb.columns = list(range(1,13))\n",
    "    \n",
    "    # dfm = pd.concat(datam, axis=1)\n",
    "    # dfm.columns = list(range(1,13))\n",
    "    \n",
    "    dfp = pd.concat(datap, axis=1)\n",
    "    dfp.columns = list(range(1,13))\n",
    "    \n",
    "    # dfmp = pd.concat(datamp, axis=1)\n",
    "    # dfmp.columns = list(range(1,13))\n",
    "    \n",
    "    dfv = pd.concat(datav, axis=1)\n",
    "    dfv.columns = list(range(1,13))\n",
    "    \n",
    "    dfpw = pd.concat(datapw, axis=1)\n",
    "    dfpw.columns = list(range(1,13))\n",
    "    \n",
    "    dfbase = pd.concat(baseline, axis=1)\n",
    "    dfbase.columns = list(range(1,13))\n",
    "    \n",
    "    dfb_aux = dfb.T\n",
    "    dfb_aux['Model'] = 'bert'\n",
    "    # dfm_aux = dfm.T\n",
    "    # dfm_aux['Model'] = 'mbert'\n",
    "    dfp_aux = dfp.T\n",
    "    dfp_aux['Model'] = 'pixel'\n",
    "    # dfmp_aux = dfmp.T\n",
    "    # dfmp_aux['Model'] = 'mpixel'\n",
    "    dfv_aux = dfv.T\n",
    "    dfv_aux['Model'] = 'vit-mae'\n",
    "    dfpw_aux = dfpw.T\n",
    "    dfpw_aux['Model'] = 'pixel-words'\n",
    "    dfbase_aux = dfbase.T\n",
    "    dfbase_aux['Model'] = 'baseline'\n",
    "    all_list = [dfb_aux, \n",
    "                dfp_aux,\n",
    "                # dfm_aux, \n",
    "                # dfmp_aux, \n",
    "                dfv_aux,\n",
    "                dfpw_aux,\n",
    "                dfbase_aux]\n",
    "    dev_df = pd.concat(all_list)\n",
    "    \n",
    "    return dev_df"
   ]
  },
  {
   "cell_type": "code",
   "execution_count": 2,
   "metadata": {
    "collapsed": false,
    "ExecuteTime": {
     "end_time": "2024-04-19T08:56:50.411811587Z",
     "start_time": "2024-04-19T08:56:50.395513111Z"
    }
   },
   "outputs": [],
   "source": [
    "def return_df(lang, seed):\n",
    "\n",
    "    datab = []\n",
    "    datam = []\n",
    "    datap = []\n",
    "    datamp = []\n",
    "    datax = []\n",
    "    datav = []\n",
    "    \n",
    "    lang = lang\n",
    "    \n",
    "    for i in range(1,13):\n",
    "        datab.append(read_pickle('bert', lang, str(i), seed)[0]['DevAcc'])\n",
    "        datam.append(read_pickle('mbert', lang, str(i), seed)[0]['DevAcc'])\n",
    "        datap.append(read_pickle('pixel', lang, str(i), seed)[0]['DevAcc'])\n",
    "        datamp.append(read_pickle('mpixel', lang, str(i), seed)[0]['DevAcc'])\n",
    "        datax.append(read_pickle('xlmr', lang, str(i), seed)[0]['DevAcc'])\n",
    "        datav.append(read_pickle('vit-mae', lang, str(i), seed)[0]['DevAcc'])\n",
    "        \n",
    "    \n",
    "    tasks = read_pickle('pixel', lang, '1', seed)[0].index\n",
    "    datasets = read_pickle('pixel', lang, '1', seed)[1]\n",
    "    baselines = {}\n",
    "    for i in range(len(tasks)):\n",
    "        data = datasets[i]\n",
    "        labels = data['targets'].value_counts()\n",
    "        majority_baseline = labels.max()/labels.sum()*100\n",
    "        baselines[tasks[i]] = majority_baseline\n",
    "            \n",
    "    baselines = pd.DataFrame.from_dict(baselines, orient='index')\n",
    "    baseline = []\n",
    "    baseline.append(baselines)\n",
    "    baseline.append(baselines)\n",
    "    baseline.append(baselines)\n",
    "    baseline.append(baselines)\n",
    "    baseline.append(baselines)\n",
    "    baseline.append(baselines)\n",
    "    baseline.append(baselines)\n",
    "    baseline.append(baselines)\n",
    "    baseline.append(baselines)\n",
    "    baseline.append(baselines)\n",
    "    baseline.append(baselines)\n",
    "    baseline.append(baselines)\n",
    "    \n",
    "    dfb = pd.concat(datab, axis=1)\n",
    "    dfb.columns = list(range(1,13))\n",
    "    \n",
    "    dfm = pd.concat(datam, axis=1)\n",
    "    dfm.columns = list(range(1,13))\n",
    "    \n",
    "    dfp = pd.concat(datap, axis=1)\n",
    "    dfp.columns = list(range(1,13))\n",
    "    \n",
    "    dfmp = pd.concat(datamp, axis=1)\n",
    "    dfmp.columns = list(range(1,13))\n",
    "    \n",
    "    dfx = pd.concat(datax, axis=1)\n",
    "    dfx.columns = list(range(1,13))\n",
    "    \n",
    "    dfv = pd.concat(datav, axis=1)\n",
    "    dfv.columns = list(range(1,13))\n",
    "    \n",
    "    dfbase = pd.concat(baseline, axis=1)\n",
    "    dfbase.columns = list(range(1,13))\n",
    "    \n",
    "    \n",
    "    dfb_aux = dfb.T\n",
    "    dfb_aux['Model'] = 'bert'\n",
    "    dfm_aux = dfm.T\n",
    "    dfm_aux['Model'] = 'mbert'\n",
    "    dfp_aux = dfp.T\n",
    "    dfp_aux['Model'] = 'pixel'\n",
    "    dfmp_aux = dfmp.T\n",
    "    dfmp_aux['Model'] = 'mpixel'\n",
    "    dfx_aux = dfx.T\n",
    "    dfx_aux['Model'] = 'xlmr'\n",
    "    dfv_aux = dfv.T\n",
    "    dfv_aux['Model'] = 'vit-mae'\n",
    "    dfbase_aux = dfbase.T\n",
    "    dfbase_aux['Model'] = 'baseline'\n",
    "    all_list = [dfb_aux, dfp_aux,\n",
    "                dfm_aux, dfmp_aux, \n",
    "                dfx_aux, dfv_aux,\n",
    "                dfbase_aux]\n",
    "    dev_df = pd.concat(all_list)\n",
    "    \n",
    "    return dev_df"
   ]
  },
  {
   "cell_type": "code",
   "outputs": [],
   "source": [
    "def return_df_visual():\n",
    "\n",
    "    datab = []\n",
    "    datap = []\n",
    "    \n",
    "    lang = \"Visual\"\n",
    "    \n",
    "    for i in range(1,13):\n",
    "        datab.append(read_pickle('bert', lang, str(i), \"1111\")[0]['DevAcc'])\n",
    "        datap.append(read_pickle('pixel', lang, str(i), \"1111\")[0]['DevAcc'])\n",
    "        \n",
    "    \n",
    "    tasks = read_pickle('pixel', lang, '1', \"1111\")[0].index\n",
    "    datasets = read_pickle('pixel', lang, '1', \"1111\")[1]\n",
    "    baselines = {}\n",
    "    for i in range(len(tasks)):\n",
    "        data = datasets[i]\n",
    "        labels = data['targets'].value_counts()\n",
    "        majority_baseline = labels.max()/labels.sum()*100\n",
    "        baselines[tasks[i]] = majority_baseline\n",
    "            \n",
    "    baselines = pd.DataFrame.from_dict(baselines, orient='index')\n",
    "    baseline = []\n",
    "    baseline.append(baselines)\n",
    "    baseline.append(baselines)\n",
    "    baseline.append(baselines)\n",
    "    baseline.append(baselines)\n",
    "    baseline.append(baselines)\n",
    "    baseline.append(baselines)\n",
    "    baseline.append(baselines)\n",
    "    baseline.append(baselines)\n",
    "    baseline.append(baselines)\n",
    "    baseline.append(baselines)\n",
    "    baseline.append(baselines)\n",
    "    baseline.append(baselines)\n",
    "    \n",
    "    dfb = pd.concat(datab, axis=1)\n",
    "    dfb.columns = list(range(1,13))\n",
    "    \n",
    "    dfp = pd.concat(datap, axis=1)\n",
    "    dfp.columns = list(range(1,13))\n",
    "    \n",
    "    dfbase = pd.concat(baseline, axis=1)\n",
    "    dfbase.columns = list(range(1,13))\n",
    "    \n",
    "    \n",
    "    dfb_aux = dfb.T\n",
    "    dfb_aux['Model'] = 'bert'\n",
    "    dfp_aux = dfp.T\n",
    "    dfp_aux['Model'] = 'pixel'\n",
    "    dfbase_aux = dfbase.T\n",
    "    dfbase_aux['Model'] = 'baseline'\n",
    "    all_list = [dfb_aux, dfp_aux,\n",
    "                dfbase_aux]\n",
    "    dev_df = pd.concat(all_list)\n",
    "    \n",
    "    return dev_df"
   ],
   "metadata": {
    "collapsed": false,
    "ExecuteTime": {
     "end_time": "2024-04-24T14:52:37.884309294Z",
     "start_time": "2024-04-24T14:52:37.819377255Z"
    }
   },
   "execution_count": 4
  },
  {
   "cell_type": "code",
   "execution_count": 8,
   "metadata": {
    "collapsed": false,
    "ExecuteTime": {
     "end_time": "2024-04-19T08:57:28.836547950Z",
     "start_time": "2024-04-19T08:57:28.822589140Z"
    }
   },
   "outputs": [],
   "source": [
    "def return_df_pixel_hindi(lang, seed):\n",
    "\n",
    "    datab = []\n",
    "    datam = []\n",
    "    datap = []\n",
    "    datamp = []\n",
    "    datax = []\n",
    "    datav = []\n",
    "    dataph = []\n",
    "    \n",
    "    lang = lang\n",
    "    \n",
    "    for i in range(1,13):\n",
    "        datab.append(read_pickle('bert', lang, str(i), seed)[0]['DevAcc'])\n",
    "        datam.append(read_pickle('mbert', lang, str(i), seed)[0]['DevAcc'])\n",
    "        datap.append(read_pickle('pixel', lang, str(i), seed)[0]['DevAcc'])\n",
    "        datamp.append(read_pickle('mpixel', lang, str(i), seed)[0]['DevAcc'])\n",
    "        datax.append(read_pickle('xlmr', lang, str(i), seed)[0]['DevAcc'])\n",
    "        datav.append(read_pickle('vit-mae', lang, str(i), seed)[0]['DevAcc'])\n",
    "        dataph.append(read_pickle('pixel-hindi', lang, str(i), seed)[0]['DevAcc'])\n",
    "        \n",
    "    \n",
    "    tasks = read_pickle('pixel', lang, '1', seed)[0].index\n",
    "    datasets = read_pickle('pixel', lang, '1', seed)[1]\n",
    "    baselines = {}\n",
    "    for i in range(len(tasks)):\n",
    "        data = datasets[i]\n",
    "        labels = data['targets'].value_counts()\n",
    "        majority_baseline = labels.max()/labels.sum()*100\n",
    "        baselines[tasks[i]] = majority_baseline\n",
    "            \n",
    "    baselines = pd.DataFrame.from_dict(baselines, orient='index')\n",
    "    baseline = []\n",
    "    baseline.append(baselines)\n",
    "    baseline.append(baselines)\n",
    "    baseline.append(baselines)\n",
    "    baseline.append(baselines)\n",
    "    baseline.append(baselines)\n",
    "    baseline.append(baselines)\n",
    "    baseline.append(baselines)\n",
    "    baseline.append(baselines)\n",
    "    baseline.append(baselines)\n",
    "    baseline.append(baselines)\n",
    "    baseline.append(baselines)\n",
    "    baseline.append(baselines)\n",
    "    \n",
    "    dfb = pd.concat(datab, axis=1)\n",
    "    dfb.columns = list(range(1,13))\n",
    "    \n",
    "    dfm = pd.concat(datam, axis=1)\n",
    "    dfm.columns = list(range(1,13))\n",
    "    \n",
    "    dfp = pd.concat(datap, axis=1)\n",
    "    dfp.columns = list(range(1,13))\n",
    "    \n",
    "    dfmp = pd.concat(datamp, axis=1)\n",
    "    dfmp.columns = list(range(1,13))\n",
    "    \n",
    "    dfx = pd.concat(datax, axis=1)\n",
    "    dfx.columns = list(range(1,13))\n",
    "    \n",
    "    dfv = pd.concat(datav, axis=1)\n",
    "    dfv.columns = list(range(1,13))\n",
    "    \n",
    "    dfph = pd.concat(dataph, axis=1)\n",
    "    dfph.columns = list(range(1,13))\n",
    "    \n",
    "    dfbase = pd.concat(baseline, axis=1)\n",
    "    dfbase.columns = list(range(1,13))\n",
    "    \n",
    "    \n",
    "    dfb_aux = dfb.T\n",
    "    dfb_aux['Model'] = 'bert'\n",
    "    dfm_aux = dfm.T\n",
    "    dfm_aux['Model'] = 'mbert'\n",
    "    dfp_aux = dfp.T\n",
    "    dfp_aux['Model'] = 'pixel'\n",
    "    dfmp_aux = dfmp.T\n",
    "    dfmp_aux['Model'] = 'mpixel'\n",
    "    dfx_aux = dfx.T\n",
    "    dfx_aux['Model'] = 'xlmr'\n",
    "    dfv_aux = dfv.T\n",
    "    dfv_aux['Model'] = 'vit-mae'\n",
    "    dfph_aux = dfph.T\n",
    "    dfph_aux['Model'] = 'pixel-hindi'\n",
    "    dfbase_aux = dfbase.T\n",
    "    dfbase_aux['Model'] = 'baseline'\n",
    "    all_list = [dfb_aux, dfp_aux,\n",
    "                dfm_aux, dfmp_aux, \n",
    "                dfx_aux, dfv_aux,\n",
    "                dfph_aux, dfbase_aux]\n",
    "    dev_df = pd.concat(all_list)\n",
    "    \n",
    "    return dev_df"
   ]
  },
  {
   "cell_type": "code",
   "execution_count": 11,
   "metadata": {
    "collapsed": false,
    "ExecuteTime": {
     "end_time": "2024-04-19T09:52:45.402498610Z",
     "start_time": "2024-04-19T09:52:45.380072980Z"
    }
   },
   "outputs": [],
   "source": [
    "def return_df_seeds(lang, seed):\n",
    "\n",
    "    datab = []\n",
    "    datam = []\n",
    "    datap = []\n",
    "    datamp = []\n",
    "    datax = []\n",
    "    datav = []\n",
    "    \n",
    "    lang = lang\n",
    "    \n",
    "    for i in range(1,13):\n",
    "        # datab.append(read_pickle('bert', lang, str(i), seed)[0]['DevAcc'])\n",
    "        # datam.append(read_pickle('mbert', lang, str(i), seed)[0]['DevAcc'])\n",
    "        datap.append(read_pickle('pixel', lang, str(i), seed)[0]['DevAcc'])\n",
    "        # datamp.append(read_pickle('mpixel', lang, str(i), seed)[0]['DevAcc'])\n",
    "        # datax.append(read_pickle('xlmr', lang, str(i), seed)[0]['DevAcc'])\n",
    "        # datav.append(read_pickle('vit-mae', lang, str(i), seed)[0]['DevAcc'])\n",
    "        \n",
    "    \n",
    "    tasks = read_pickle('pixel', lang, '1', seed)[0].index\n",
    "    datasets = read_pickle('pixel', lang, '1', seed)[1]\n",
    "    baselines = {}\n",
    "    for i in range(len(tasks)):\n",
    "        data = datasets[i]\n",
    "        labels = data['targets'].value_counts()\n",
    "        majority_baseline = labels.max()/labels.sum()*100\n",
    "        baselines[tasks[i]] = majority_baseline\n",
    "            \n",
    "    baselines = pd.DataFrame.from_dict(baselines, orient='index')\n",
    "    baseline = []\n",
    "    baseline.append(baselines)\n",
    "    baseline.append(baselines)\n",
    "    baseline.append(baselines)\n",
    "    baseline.append(baselines)\n",
    "    baseline.append(baselines)\n",
    "    baseline.append(baselines)\n",
    "    baseline.append(baselines)\n",
    "    baseline.append(baselines)\n",
    "    baseline.append(baselines)\n",
    "    baseline.append(baselines)\n",
    "    baseline.append(baselines)\n",
    "    baseline.append(baselines)\n",
    "    \n",
    "    # dfb = pd.concat(datab, axis=1)\n",
    "    # dfb.columns = list(range(1,13))\n",
    "    # \n",
    "    # dfm = pd.concat(datam, axis=1)\n",
    "    # dfm.columns = list(range(1,13))\n",
    "    # \n",
    "    dfp = pd.concat(datap, axis=1)\n",
    "    dfp.columns = list(range(1,13))\n",
    "    \n",
    "    # dfmp = pd.concat(datamp, axis=1)\n",
    "    # dfmp.columns = list(range(1,13))\n",
    "    # \n",
    "    # dfx = pd.concat(datax, axis=1)\n",
    "    # dfx.columns = list(range(1,13))\n",
    "    # \n",
    "    # dfv = pd.concat(datav, axis=1)\n",
    "    # dfv.columns = list(range(1,13))\n",
    "    \n",
    "    dfbase = pd.concat(baseline, axis=1)\n",
    "    dfbase.columns = list(range(1,13))\n",
    "    \n",
    "    \n",
    "    # dfb_aux = dfb.T\n",
    "    # dfb_aux['Model'] = 'bert'\n",
    "    # dfm_aux = dfm.T\n",
    "    # dfm_aux['Model'] = 'mbert'\n",
    "    dfp_aux = dfp.T\n",
    "    dfp_aux['Model'] = 'pixel'\n",
    "    # dfmp_aux = dfmp.T\n",
    "    # dfmp_aux['Model'] = 'mpixel'\n",
    "    # dfx_aux = dfx.T\n",
    "    # dfx_aux['Model'] = 'xlmr'\n",
    "    # dfv_aux = dfv.T\n",
    "    # dfv_aux['Model'] = 'vit-mae'\n",
    "    dfbase_aux = dfbase.T\n",
    "    dfbase_aux['Model'] = 'baseline'\n",
    "    all_list = [\n",
    "                # dfb_aux, \n",
    "                dfp_aux]\n",
    "                # dfm_aux, dfmp_aux, \n",
    "                # dfx_aux, dfv_aux,\n",
    "                # dfbase_aux]\n",
    "    dev_df = pd.concat(all_list)\n",
    "    \n",
    "    return dev_df"
   ]
  },
  {
   "cell_type": "code",
   "execution_count": 18,
   "metadata": {
    "collapsed": false,
    "ExecuteTime": {
     "end_time": "2024-04-19T09:53:35.790899758Z",
     "start_time": "2024-04-19T09:53:35.742504568Z"
    }
   },
   "outputs": [],
   "source": [
    "def return_df_seeds_models(lang):\n",
    "    seed = 1111\n",
    "    datab = []\n",
    "    datam = []\n",
    "    datap_1 = []\n",
    "    datap_2 = []\n",
    "    datap_3 = []\n",
    "    datamp = []\n",
    "    datax = []\n",
    "    datav = []\n",
    "    \n",
    "    lang = lang\n",
    "    \n",
    "    for i in range(1,13):\n",
    "        datab.append(read_pickle('bert', lang, str(i), seed)[0]['DevAcc'])\n",
    "        datam.append(read_pickle('mbert', lang, str(i), seed)[0]['DevAcc'])\n",
    "        \n",
    "        datap_1.append(read_pickle('pixel', lang, str(i), seed)[0]['DevAcc'])\n",
    "        datap_2.append(read_pickle('pixel', lang, str(i), \"8446\")[0]['DevAcc'])\n",
    "        datap_3.append(read_pickle('pixel', lang, str(i), \"32873\")[0]['DevAcc'])\n",
    "        \n",
    "        datamp.append(read_pickle('mpixel', lang, str(i), seed)[0]['DevAcc'])\n",
    "        datax.append(read_pickle('xlmr', lang, str(i), seed)[0]['DevAcc'])\n",
    "        datav.append(read_pickle('vit-mae', lang, str(i), seed)[0]['DevAcc'])\n",
    "        \n",
    "    \n",
    "    tasks = read_pickle('pixel', lang, '1', seed)[0].index\n",
    "    datasets = read_pickle('pixel', lang, '1', seed)[1]\n",
    "    baselines = {}\n",
    "    for i in range(len(tasks)):\n",
    "        data = datasets[i]\n",
    "        labels = data['targets'].value_counts()\n",
    "        majority_baseline = labels.max()/labels.sum()*100\n",
    "        baselines[tasks[i]] = majority_baseline\n",
    "            \n",
    "    baselines = pd.DataFrame.from_dict(baselines, orient='index')\n",
    "    baseline = []\n",
    "    baseline.append(baselines)\n",
    "    baseline.append(baselines)\n",
    "    baseline.append(baselines)\n",
    "    baseline.append(baselines)\n",
    "    baseline.append(baselines)\n",
    "    baseline.append(baselines)\n",
    "    baseline.append(baselines)\n",
    "    baseline.append(baselines)\n",
    "    baseline.append(baselines)\n",
    "    baseline.append(baselines)\n",
    "    baseline.append(baselines)\n",
    "    baseline.append(baselines)\n",
    "    \n",
    "    dfb = pd.concat(datab, axis=1)\n",
    "    dfb.columns = list(range(1,13))\n",
    "\n",
    "    dfm = pd.concat(datam, axis=1)\n",
    "    dfm.columns = list(range(1,13))\n",
    "    \n",
    "    dfp_1 = pd.concat(datap_1, axis=1)\n",
    "    dfp_1.columns = list(range(1,13))\n",
    "    \n",
    "    dfp_2 = pd.concat(datap_2, axis=1)\n",
    "    dfp_2.columns = list(range(1,13))\n",
    "    \n",
    "    dfp_3 = pd.concat(datap_3, axis=1)\n",
    "    dfp_3.columns = list(range(1,13))\n",
    "    \n",
    "    dfmp = pd.concat(datamp, axis=1)\n",
    "    dfmp.columns = list(range(1,13))\n",
    "\n",
    "    dfx = pd.concat(datax, axis=1)\n",
    "    dfx.columns = list(range(1,13))\n",
    "\n",
    "    dfv = pd.concat(datav, axis=1)\n",
    "    dfv.columns = list(range(1,13))\n",
    "    \n",
    "    dfbase = pd.concat(baseline, axis=1)\n",
    "    dfbase.columns = list(range(1,13))\n",
    "    \n",
    "    \n",
    "    dfb_aux = dfb.T\n",
    "    dfb_aux['Model'] = 'bert'\n",
    "    dfm_aux = dfm.T\n",
    "    dfm_aux['Model'] = 'mbert'\n",
    "    dfp_1_aux = dfp_1.T\n",
    "    dfp_1_aux['Model'] = 'pixel'\n",
    "    dfp_2_aux = dfp_2.T\n",
    "    dfp_2_aux['Model'] = 'pixel'\n",
    "    dfp_3_aux = dfp_3.T\n",
    "    dfp_3_aux['Model'] = 'pixel'\n",
    "    dfmp_aux = dfmp.T\n",
    "    dfmp_aux['Model'] = 'mpixel'\n",
    "    dfx_aux = dfx.T\n",
    "    dfx_aux['Model'] = 'xlmr'\n",
    "    dfv_aux = dfv.T\n",
    "    dfv_aux['Model'] = 'vit-mae'\n",
    "    dfbase_aux = dfbase.T\n",
    "    dfbase_aux['Model'] = 'baseline'\n",
    "    all_list = [\n",
    "                dfb_aux, \n",
    "                dfp_1_aux,\n",
    "                dfp_2_aux,\n",
    "                dfp_3_aux,\n",
    "                dfm_aux, dfmp_aux, \n",
    "                dfx_aux, dfv_aux,\n",
    "                dfbase_aux]\n",
    "    dev_df = pd.concat(all_list)\n",
    "    \n",
    "    return dev_df"
   ]
  },
  {
   "cell_type": "code",
   "outputs": [],
   "source": [
    "def return_df_seeds_models_eng(lang):\n",
    "    seed = 1111\n",
    "    datab = []\n",
    "    # datam = []\n",
    "    datap_1 = []\n",
    "    datap_2 = []\n",
    "    datap_3 = []\n",
    "    # datamp = []\n",
    "    # datax = []\n",
    "    datav = []\n",
    "    \n",
    "    lang = lang\n",
    "    \n",
    "    for i in range(1,13):\n",
    "        datab.append(read_pickle('bert', lang, str(i), seed)[0]['DevAcc'])\n",
    "        # datam.append(read_pickle('mbert', lang, str(i), seed)[0]['DevAcc'])\n",
    "        \n",
    "        datap_1.append(read_pickle('pixel', lang, str(i), seed)[0]['DevAcc'])\n",
    "        datap_2.append(read_pickle('pixel', lang, str(i), \"8446\")[0]['DevAcc'])\n",
    "        datap_3.append(read_pickle('pixel', lang, str(i), \"32873\")[0]['DevAcc'])\n",
    "        \n",
    "        # datamp.append(read_pickle('mpixel', lang, str(i), seed)[0]['DevAcc'])\n",
    "        # datax.append(read_pickle('xlmr', lang, str(i), seed)[0]['DevAcc'])\n",
    "        datav.append(read_pickle('vit-mae', lang, str(i), seed)[0]['DevAcc'])\n",
    "        \n",
    "    \n",
    "    tasks = read_pickle('pixel', lang, '1', seed)[0].index\n",
    "    datasets = read_pickle('pixel', lang, '1', seed)[1]\n",
    "    baselines = {}\n",
    "    for i in range(len(tasks)):\n",
    "        data = datasets[i]\n",
    "        labels = data['targets'].value_counts()\n",
    "        majority_baseline = labels.max()/labels.sum()*100\n",
    "        baselines[tasks[i]] = majority_baseline\n",
    "            \n",
    "    baselines = pd.DataFrame.from_dict(baselines, orient='index')\n",
    "    baseline = []\n",
    "    baseline.append(baselines)\n",
    "    baseline.append(baselines)\n",
    "    baseline.append(baselines)\n",
    "    baseline.append(baselines)\n",
    "    baseline.append(baselines)\n",
    "    baseline.append(baselines)\n",
    "    baseline.append(baselines)\n",
    "    baseline.append(baselines)\n",
    "    baseline.append(baselines)\n",
    "    baseline.append(baselines)\n",
    "    baseline.append(baselines)\n",
    "    baseline.append(baselines)\n",
    "    \n",
    "    dfb = pd.concat(datab, axis=1)\n",
    "    dfb.columns = list(range(1,13))\n",
    "\n",
    "    # dfm = pd.concat(datam, axis=1)\n",
    "    # dfm.columns = list(range(1,13))\n",
    "    \n",
    "    dfp_1 = pd.concat(datap_1, axis=1)\n",
    "    dfp_1.columns = list(range(1,13))\n",
    "    \n",
    "    dfp_2 = pd.concat(datap_2, axis=1)\n",
    "    dfp_2.columns = list(range(1,13))\n",
    "    \n",
    "    dfp_3 = pd.concat(datap_3, axis=1)\n",
    "    dfp_3.columns = list(range(1,13))\n",
    "    \n",
    "    # dfmp = pd.concat(datamp, axis=1)\n",
    "    # dfmp.columns = list(range(1,13))\n",
    "    # \n",
    "    # dfx = pd.concat(datax, axis=1)\n",
    "    # dfx.columns = list(range(1,13))\n",
    "\n",
    "    dfv = pd.concat(datav, axis=1)\n",
    "    dfv.columns = list(range(1,13))\n",
    "    \n",
    "    dfbase = pd.concat(baseline, axis=1)\n",
    "    dfbase.columns = list(range(1,13))\n",
    "    \n",
    "    \n",
    "    dfb_aux = dfb.T\n",
    "    dfb_aux['Model'] = 'bert'\n",
    "    # dfm_aux = dfm.T\n",
    "    # dfm_aux['Model'] = 'mbert'\n",
    "    dfp_1_aux = dfp_1.T\n",
    "    dfp_1_aux['Model'] = 'pixel'\n",
    "    dfp_2_aux = dfp_2.T\n",
    "    dfp_2_aux['Model'] = 'pixel'\n",
    "    dfp_3_aux = dfp_3.T\n",
    "    dfp_3_aux['Model'] = 'pixel'\n",
    "    # dfmp_aux = dfmp.T\n",
    "    # dfmp_aux['Model'] = 'mpixel'\n",
    "    # dfx_aux = dfx.T\n",
    "    # dfx_aux['Model'] = 'xlmr'\n",
    "    dfv_aux = dfv.T\n",
    "    dfv_aux['Model'] = 'vit-mae'\n",
    "    dfbase_aux = dfbase.T\n",
    "    dfbase_aux['Model'] = 'baseline'\n",
    "    all_list = [\n",
    "                dfb_aux, \n",
    "                dfp_1_aux,\n",
    "                dfp_2_aux,\n",
    "                dfp_3_aux,\n",
    "                # dfm_aux, dfmp_aux, \n",
    "                # dfx_aux, \n",
    "                dfv_aux,\n",
    "                dfbase_aux]\n",
    "    dev_df = pd.concat(all_list)\n",
    "    \n",
    "    return dev_df"
   ],
   "metadata": {
    "collapsed": false,
    "ExecuteTime": {
     "end_time": "2024-04-19T09:58:17.155429374Z",
     "start_time": "2024-04-19T09:58:17.110640285Z"
    }
   },
   "execution_count": 28
  },
  {
   "cell_type": "code",
   "execution_count": 19,
   "metadata": {
    "collapsed": false,
    "ExecuteTime": {
     "end_time": "2024-04-19T09:53:37.068370725Z",
     "start_time": "2024-04-19T09:53:37.060917072Z"
    }
   },
   "outputs": [],
   "source": [
    "language = \"Hindi\""
   ]
  },
  {
   "cell_type": "code",
   "execution_count": 10,
   "metadata": {
    "collapsed": false,
    "ExecuteTime": {
     "end_time": "2024-04-19T08:57:37.564975191Z",
     "start_time": "2024-04-19T08:57:34.543749180Z"
    }
   },
   "outputs": [
    {
     "data": {
      "text/plain": "Text(0.5, 0, 'Layer')"
     },
     "execution_count": 10,
     "metadata": {},
     "output_type": "execute_result"
    },
    {
     "data": {
      "text/plain": "<Figure size 640x480 with 1 Axes>",
      "image/png": "[encoded data removed]"
     },
     "metadata": {},
     "output_type": "display_data"
    }
   ],
   "source": [
    "dev_df = return_df_pixel_hindi(language, \"1111\")\n",
    "\n",
    "ax = sns.lineplot(data=dev_df, x=dev_df.index, y=dev_df.columns[6], hue='Model')\n",
    "ax.set_xticks(range(1, 13))\n",
    "# ax.set_yticks(range(0,101,10))\n",
    "ax.set_xlabel('Layer')"
   ]
  },
  {
   "cell_type": "code",
   "execution_count": 12,
   "metadata": {
    "executionInfo": {
     "elapsed": 331,
     "status": "ok",
     "timestamp": 1695734010463,
     "user": {
      "displayName": "Kushal Tatariya",
      "userId": "02875399616543221813"
     },
     "user_tz": -120
    },
    "id": "fSCUQEfTtTez",
    "ExecuteTime": {
     "end_time": "2024-04-19T09:52:54.270380154Z",
     "start_time": "2024-04-19T09:52:53.782975600Z"
    }
   },
   "outputs": [],
   "source": [
    "dev_df_1111 = return_df_seeds(language, '1111')\n",
    "dev_df_1111['Seed'] = '1111'"
   ]
  },
  {
   "cell_type": "code",
   "execution_count": 13,
   "metadata": {
    "collapsed": false,
    "ExecuteTime": {
     "end_time": "2024-04-19T09:52:55.336420177Z",
     "start_time": "2024-04-19T09:52:54.846263210Z"
    }
   },
   "outputs": [],
   "source": [
    "dev_df_8446 = return_df_seeds(language, '8446')\n",
    "dev_df_8446['Seed'] = '8446'"
   ]
  },
  {
   "cell_type": "code",
   "execution_count": 14,
   "metadata": {
    "collapsed": false,
    "ExecuteTime": {
     "end_time": "2024-04-19T09:52:56.635262934Z",
     "start_time": "2024-04-19T09:52:56.088404168Z"
    }
   },
   "outputs": [],
   "source": [
    "dev_df_32873 = return_df_seeds(language, '32873')\n",
    "dev_df_32873['Seed'] = '32873'"
   ]
  },
  {
   "cell_type": "code",
   "execution_count": 15,
   "metadata": {
    "collapsed": false,
    "ExecuteTime": {
     "end_time": "2024-04-19T09:52:57.401878764Z",
     "start_time": "2024-04-19T09:52:57.369616990Z"
    }
   },
   "outputs": [
    {
     "data": {
      "text/plain": "    Hi_Tense  Hi_SubjNumber  Hi_ObjNumber  Hi_Aspect  Hi_Mood  Hi_Voice  \\\n1      72.24          68.13         79.23      90.98    98.72     91.74   \n2      72.32          68.13         79.23      90.98    98.72     91.74   \n3      72.32          69.47         79.10      90.98    98.72     91.74   \n4      72.47          68.67         79.10      90.98    98.72     91.74   \n5      73.00          71.33         79.23      90.98    98.72     91.74   \n6      73.16          70.53         79.10      91.49    98.72     91.74   \n7      73.08          70.67         79.23      91.27    98.72     91.74   \n8      75.13          72.00         79.10      91.13    98.72     91.74   \n9      74.07          71.60         79.10      91.27    98.72     91.74   \n10     75.97          72.13         79.10      91.20    98.72     91.74   \n11     75.89          71.60         79.10      91.27    98.72     91.86   \n12     75.21          71.87         79.10      91.63    98.72     91.92   \n1      72.78          68.80         79.10      90.98    98.72     91.74   \n2      72.85          70.00         79.10      90.98    98.72     91.74   \n3      72.55          69.07         79.10      90.98    98.72     91.74   \n4      72.62          68.53         79.23      90.98    98.72     91.74   \n5      73.31          68.80         79.23      90.98    98.72     91.74   \n6      73.61          70.40         79.23      91.13    98.72     91.74   \n7      75.29          69.73         79.23      91.13    98.72     91.74   \n8      75.89          70.13         79.10      91.13    98.72     91.74   \n9      76.20          71.60         79.10      91.20    98.72     91.74   \n10     75.89          71.33         79.10      91.27    98.72     91.74   \n11     76.20          71.60         79.10      91.20    98.72     91.86   \n12     76.05          71.07         79.10      91.41    98.72     91.86   \n1      72.85          69.20         79.10      90.98    98.72     91.74   \n2      73.00          70.27         79.23      90.98    98.72     91.74   \n3      72.47          70.53         79.10      90.98    98.72     91.74   \n4      72.47          69.47         79.10      90.98    98.72     91.74   \n5      73.23          71.87         79.37      90.98    98.72     91.74   \n6      73.69          71.07         79.10      90.98    98.72     91.74   \n7      74.37          71.60         79.10      90.98    98.72     91.74   \n8      74.68          71.07         79.10      91.05    98.72     91.74   \n9      74.75          70.80         79.10      91.05    98.72     91.74   \n10     75.29          70.40         79.10      91.27    98.72     91.74   \n11     76.20          71.07         79.10      91.27    98.72     91.86   \n12     76.20          69.87         79.10      91.27    98.72     91.86   \n\n    Hi_VerbForm  Hi_PronType  Hi_SubjGender  Hi_ObjGender  Model   Seed  \n1         73.57        66.92          66.92         66.92  pixel   1111  \n2         73.87        67.33          67.33         67.33  pixel   1111  \n3         73.87        67.50          67.50         67.50  pixel   1111  \n4         73.87        67.16          67.16         67.16  pixel   1111  \n5         74.11        67.25          67.25         67.25  pixel   1111  \n6         74.05        67.25          67.25         67.25  pixel   1111  \n7         74.05        67.50          67.50         67.50  pixel   1111  \n8         73.99        67.74          67.74         67.74  pixel   1111  \n9         73.99        67.50          67.50         67.50  pixel   1111  \n10        73.87        67.66          67.66         67.66  pixel   1111  \n11        74.35        68.16          68.16         68.16  pixel   1111  \n12        74.11        68.49          68.49         68.49  pixel   1111  \n1         73.57        66.83          66.83         66.83  pixel   8446  \n2         74.05        66.83          66.83         66.83  pixel   8446  \n3         73.69        66.92          66.92         66.92  pixel   8446  \n4         73.81        66.92          66.92         66.92  pixel   8446  \n5         73.99        67.00          67.00         67.00  pixel   8446  \n6         74.17        67.33          67.33         67.33  pixel   8446  \n7         74.29        67.33          67.33         67.33  pixel   8446  \n8         74.53        67.83          67.83         67.83  pixel   8446  \n9         74.41        67.50          67.50         67.50  pixel   8446  \n10        74.23        68.16          68.16         68.16  pixel   8446  \n11        74.65        67.91          67.91         67.91  pixel   8446  \n12        74.59        69.24          69.24         69.24  pixel   8446  \n1         73.63        66.92          66.92         66.92  pixel  32873  \n2         74.05        67.00          67.00         67.00  pixel  32873  \n3         73.69        67.58          67.58         67.58  pixel  32873  \n4         73.99        67.00          67.00         67.00  pixel  32873  \n5         74.23        67.33          67.33         67.33  pixel  32873  \n6         73.93        67.25          67.25         67.25  pixel  32873  \n7         74.59        67.33          67.33         67.33  pixel  32873  \n8         74.41        67.74          67.74         67.74  pixel  32873  \n9         74.17        67.41          67.41         67.41  pixel  32873  \n10        74.53        67.91          67.91         67.91  pixel  32873  \n11        74.65        67.74          67.74         67.74  pixel  32873  \n12        74.53        68.16          68.16         68.16  pixel  32873  ",
      "text/html": "<div>\n<style scoped>\n    .dataframe tbody tr th:only-of-type {\n        vertical-align: middle;\n    }\n\n    .dataframe tbody tr th {\n        vertical-align: top;\n    }\n\n    .dataframe thead th {\n        text-align: right;\n    }\n</style>\n<table border=\"1\" class=\"dataframe\">\n  <thead>\n    <tr style=\"text-align: right;\">\n      <th></th>\n      <th>Hi_Tense</th>\n      <th>Hi_SubjNumber</th>\n      <th>Hi_ObjNumber</th>\n      <th>Hi_Aspect</th>\n      <th>Hi_Mood</th>\n      <th>Hi_Voice</th>\n      <th>Hi_VerbForm</th>\n      <th>Hi_PronType</th>\n      <th>Hi_SubjGender</th>\n      <th>Hi_ObjGender</th>\n      <th>Model</th>\n      <th>Seed</th>\n    </tr>\n  </thead>\n  <tbody>\n    <tr>\n      <th>1</th>\n      <td>72.24</td>\n      <td>68.13</td>\n      <td>79.23</td>\n      <td>90.98</td>\n      <td>98.72</td>\n      <td>91.74</td>\n      <td>73.57</td>\n      <td>66.92</td>\n      <td>66.92</td>\n      <td>66.92</td>\n      <td>pixel</td>\n      <td>1111</td>\n    </tr>\n    <tr>\n      <th>2</th>\n      <td>72.32</td>\n      <td>68.13</td>\n      <td>79.23</td>\n      <td>90.98</td>\n      <td>98.72</td>\n      <td>91.74</td>\n      <td>73.87</td>\n      <td>67.33</td>\n      <td>67.33</td>\n      <td>67.33</td>\n      <td>pixel</td>\n      <td>1111</td>\n    </tr>\n    <tr>\n      <th>3</th>\n      <td>72.32</td>\n      <td>69.47</td>\n      <td>79.10</td>\n      <td>90.98</td>\n      <td>98.72</td>\n      <td>91.74</td>\n      <td>73.87</td>\n      <td>67.50</td>\n      <td>67.50</td>\n      <td>67.50</td>\n      <td>pixel</td>\n      <td>1111</td>\n    </tr>\n    <tr>\n      <th>4</th>\n      <td>72.47</td>\n      <td>68.67</td>\n      <td>79.10</td>\n      <td>90.98</td>\n      <td>98.72</td>\n      <td>91.74</td>\n      <td>73.87</td>\n      <td>67.16</td>\n      <td>67.16</td>\n      <td>67.16</td>\n      <td>pixel</td>\n      <td>1111</td>\n    </tr>\n    <tr>\n      <th>5</th>\n      <td>73.00</td>\n      <td>71.33</td>\n      <td>79.23</td>\n      <td>90.98</td>\n      <td>98.72</td>\n      <td>91.74</td>\n      <td>74.11</td>\n      <td>67.25</td>\n      <td>67.25</td>\n      <td>67.25</td>\n      <td>pixel</td>\n      <td>1111</td>\n    </tr>\n    <tr>\n      <th>6</th>\n      <td>73.16</td>\n      <td>70.53</td>\n      <td>79.10</td>\n      <td>91.49</td>\n      <td>98.72</td>\n      <td>91.74</td>\n      <td>74.05</td>\n      <td>67.25</td>\n      <td>67.25</td>\n      <td>67.25</td>\n      <td>pixel</td>\n      <td>1111</td>\n    </tr>\n    <tr>\n      <th>7</th>\n      <td>73.08</td>\n      <td>70.67</td>\n      <td>79.23</td>\n      <td>91.27</td>\n      <td>98.72</td>\n      <td>91.74</td>\n      <td>74.05</td>\n      <td>67.50</td>\n      <td>67.50</td>\n      <td>67.50</td>\n      <td>pixel</td>\n      <td>1111</td>\n    </tr>\n    <tr>\n      <th>8</th>\n      <td>75.13</td>\n      <td>72.00</td>\n      <td>79.10</td>\n      <td>91.13</td>\n      <td>98.72</td>\n      <td>91.74</td>\n      <td>73.99</td>\n      <td>67.74</td>\n      <td>67.74</td>\n      <td>67.74</td>\n      <td>pixel</td>\n      <td>1111</td>\n    </tr>\n    <tr>\n      <th>9</th>\n      <td>74.07</td>\n      <td>71.60</td>\n      <td>79.10</td>\n      <td>91.27</td>\n      <td>98.72</td>\n      <td>91.74</td>\n      <td>73.99</td>\n      <td>67.50</td>\n      <td>67.50</td>\n      <td>67.50</td>\n      <td>pixel</td>\n      <td>1111</td>\n    </tr>\n    <tr>\n      <th>10</th>\n      <td>75.97</td>\n      <td>72.13</td>\n      <td>79.10</td>\n      <td>91.20</td>\n      <td>98.72</td>\n      <td>91.74</td>\n      <td>73.87</td>\n      <td>67.66</td>\n      <td>67.66</td>\n      <td>67.66</td>\n      <td>pixel</td>\n      <td>1111</td>\n    </tr>\n    <tr>\n      <th>11</th>\n      <td>75.89</td>\n      <td>71.60</td>\n      <td>79.10</td>\n      <td>91.27</td>\n      <td>98.72</td>\n      <td>91.86</td>\n      <td>74.35</td>\n      <td>68.16</td>\n      <td>68.16</td>\n      <td>68.16</td>\n      <td>pixel</td>\n      <td>1111</td>\n    </tr>\n    <tr>\n      <th>12</th>\n      <td>75.21</td>\n      <td>71.87</td>\n      <td>79.10</td>\n      <td>91.63</td>\n      <td>98.72</td>\n      <td>91.92</td>\n      <td>74.11</td>\n      <td>68.49</td>\n      <td>68.49</td>\n      <td>68.49</td>\n      <td>pixel</td>\n      <td>1111</td>\n    </tr>\n    <tr>\n      <th>1</th>\n      <td>72.78</td>\n      <td>68.80</td>\n      <td>79.10</td>\n      <td>90.98</td>\n      <td>98.72</td>\n      <td>91.74</td>\n      <td>73.57</td>\n      <td>66.83</td>\n      <td>66.83</td>\n      <td>66.83</td>\n      <td>pixel</td>\n      <td>8446</td>\n    </tr>\n    <tr>\n      <th>2</th>\n      <td>72.85</td>\n      <td>70.00</td>\n      <td>79.10</td>\n      <td>90.98</td>\n      <td>98.72</td>\n      <td>91.74</td>\n      <td>74.05</td>\n      <td>66.83</td>\n      <td>66.83</td>\n      <td>66.83</td>\n      <td>pixel</td>\n      <td>8446</td>\n    </tr>\n    <tr>\n      <th>3</th>\n      <td>72.55</td>\n      <td>69.07</td>\n      <td>79.10</td>\n      <td>90.98</td>\n      <td>98.72</td>\n      <td>91.74</td>\n      <td>73.69</td>\n      <td>66.92</td>\n      <td>66.92</td>\n      <td>66.92</td>\n      <td>pixel</td>\n      <td>8446</td>\n    </tr>\n    <tr>\n      <th>4</th>\n      <td>72.62</td>\n      <td>68.53</td>\n      <td>79.23</td>\n      <td>90.98</td>\n      <td>98.72</td>\n      <td>91.74</td>\n      <td>73.81</td>\n      <td>66.92</td>\n      <td>66.92</td>\n      <td>66.92</td>\n      <td>pixel</td>\n      <td>8446</td>\n    </tr>\n    <tr>\n      <th>5</th>\n      <td>73.31</td>\n      <td>68.80</td>\n      <td>79.23</td>\n      <td>90.98</td>\n      <td>98.72</td>\n      <td>91.74</td>\n      <td>73.99</td>\n      <td>67.00</td>\n      <td>67.00</td>\n      <td>67.00</td>\n      <td>pixel</td>\n      <td>8446</td>\n    </tr>\n    <tr>\n      <th>6</th>\n      <td>73.61</td>\n      <td>70.40</td>\n      <td>79.23</td>\n      <td>91.13</td>\n      <td>98.72</td>\n      <td>91.74</td>\n      <td>74.17</td>\n      <td>67.33</td>\n      <td>67.33</td>\n      <td>67.33</td>\n      <td>pixel</td>\n      <td>8446</td>\n    </tr>\n    <tr>\n      <th>7</th>\n      <td>75.29</td>\n      <td>69.73</td>\n      <td>79.23</td>\n      <td>91.13</td>\n      <td>98.72</td>\n      <td>91.74</td>\n      <td>74.29</td>\n      <td>67.33</td>\n      <td>67.33</td>\n      <td>67.33</td>\n      <td>pixel</td>\n      <td>8446</td>\n    </tr>\n    <tr>\n      <th>8</th>\n      <td>75.89</td>\n      <td>70.13</td>\n      <td>79.10</td>\n      <td>91.13</td>\n      <td>98.72</td>\n      <td>91.74</td>\n      <td>74.53</td>\n      <td>67.83</td>\n      <td>67.83</td>\n      <td>67.83</td>\n      <td>pixel</td>\n      <td>8446</td>\n    </tr>\n    <tr>\n      <th>9</th>\n      <td>76.20</td>\n      <td>71.60</td>\n      <td>79.10</td>\n      <td>91.20</td>\n      <td>98.72</td>\n      <td>91.74</td>\n      <td>74.41</td>\n      <td>67.50</td>\n      <td>67.50</td>\n      <td>67.50</td>\n      <td>pixel</td>\n      <td>8446</td>\n    </tr>\n    <tr>\n      <th>10</th>\n      <td>75.89</td>\n      <td>71.33</td>\n      <td>79.10</td>\n      <td>91.27</td>\n      <td>98.72</td>\n      <td>91.74</td>\n      <td>74.23</td>\n      <td>68.16</td>\n      <td>68.16</td>\n      <td>68.16</td>\n      <td>pixel</td>\n      <td>8446</td>\n    </tr>\n    <tr>\n      <th>11</th>\n      <td>76.20</td>\n      <td>71.60</td>\n      <td>79.10</td>\n      <td>91.20</td>\n      <td>98.72</td>\n      <td>91.86</td>\n      <td>74.65</td>\n      <td>67.91</td>\n      <td>67.91</td>\n      <td>67.91</td>\n      <td>pixel</td>\n      <td>8446</td>\n    </tr>\n    <tr>\n      <th>12</th>\n      <td>76.05</td>\n      <td>71.07</td>\n      <td>79.10</td>\n      <td>91.41</td>\n      <td>98.72</td>\n      <td>91.86</td>\n      <td>74.59</td>\n      <td>69.24</td>\n      <td>69.24</td>\n      <td>69.24</td>\n      <td>pixel</td>\n      <td>8446</td>\n    </tr>\n    <tr>\n      <th>1</th>\n      <td>72.85</td>\n      <td>69.20</td>\n      <td>79.10</td>\n      <td>90.98</td>\n      <td>98.72</td>\n      <td>91.74</td>\n      <td>73.63</td>\n      <td>66.92</td>\n      <td>66.92</td>\n      <td>66.92</td>\n      <td>pixel</td>\n      <td>32873</td>\n    </tr>\n    <tr>\n      <th>2</th>\n      <td>73.00</td>\n      <td>70.27</td>\n      <td>79.23</td>\n      <td>90.98</td>\n      <td>98.72</td>\n      <td>91.74</td>\n      <td>74.05</td>\n      <td>67.00</td>\n      <td>67.00</td>\n      <td>67.00</td>\n      <td>pixel</td>\n      <td>32873</td>\n    </tr>\n    <tr>\n      <th>3</th>\n      <td>72.47</td>\n      <td>70.53</td>\n      <td>79.10</td>\n      <td>90.98</td>\n      <td>98.72</td>\n      <td>91.74</td>\n      <td>73.69</td>\n      <td>67.58</td>\n      <td>67.58</td>\n      <td>67.58</td>\n      <td>pixel</td>\n      <td>32873</td>\n    </tr>\n    <tr>\n      <th>4</th>\n      <td>72.47</td>\n      <td>69.47</td>\n      <td>79.10</td>\n      <td>90.98</td>\n      <td>98.72</td>\n      <td>91.74</td>\n      <td>73.99</td>\n      <td>67.00</td>\n      <td>67.00</td>\n      <td>67.00</td>\n      <td>pixel</td>\n      <td>32873</td>\n    </tr>\n    <tr>\n      <th>5</th>\n      <td>73.23</td>\n      <td>71.87</td>\n      <td>79.37</td>\n      <td>90.98</td>\n      <td>98.72</td>\n      <td>91.74</td>\n      <td>74.23</td>\n      <td>67.33</td>\n      <td>67.33</td>\n      <td>67.33</td>\n      <td>pixel</td>\n      <td>32873</td>\n    </tr>\n    <tr>\n      <th>6</th>\n      <td>73.69</td>\n      <td>71.07</td>\n      <td>79.10</td>\n      <td>90.98</td>\n      <td>98.72</td>\n      <td>91.74</td>\n      <td>73.93</td>\n      <td>67.25</td>\n      <td>67.25</td>\n      <td>67.25</td>\n      <td>pixel</td>\n      <td>32873</td>\n    </tr>\n    <tr>\n      <th>7</th>\n      <td>74.37</td>\n      <td>71.60</td>\n      <td>79.10</td>\n      <td>90.98</td>\n      <td>98.72</td>\n      <td>91.74</td>\n      <td>74.59</td>\n      <td>67.33</td>\n      <td>67.33</td>\n      <td>67.33</td>\n      <td>pixel</td>\n      <td>32873</td>\n    </tr>\n    <tr>\n      <th>8</th>\n      <td>74.68</td>\n      <td>71.07</td>\n      <td>79.10</td>\n      <td>91.05</td>\n      <td>98.72</td>\n      <td>91.74</td>\n      <td>74.41</td>\n      <td>67.74</td>\n      <td>67.74</td>\n      <td>67.74</td>\n      <td>pixel</td>\n      <td>32873</td>\n    </tr>\n    <tr>\n      <th>9</th>\n      <td>74.75</td>\n      <td>70.80</td>\n      <td>79.10</td>\n      <td>91.05</td>\n      <td>98.72</td>\n      <td>91.74</td>\n      <td>74.17</td>\n      <td>67.41</td>\n      <td>67.41</td>\n      <td>67.41</td>\n      <td>pixel</td>\n      <td>32873</td>\n    </tr>\n    <tr>\n      <th>10</th>\n      <td>75.29</td>\n      <td>70.40</td>\n      <td>79.10</td>\n      <td>91.27</td>\n      <td>98.72</td>\n      <td>91.74</td>\n      <td>74.53</td>\n      <td>67.91</td>\n      <td>67.91</td>\n      <td>67.91</td>\n      <td>pixel</td>\n      <td>32873</td>\n    </tr>\n    <tr>\n      <th>11</th>\n      <td>76.20</td>\n      <td>71.07</td>\n      <td>79.10</td>\n      <td>91.27</td>\n      <td>98.72</td>\n      <td>91.86</td>\n      <td>74.65</td>\n      <td>67.74</td>\n      <td>67.74</td>\n      <td>67.74</td>\n      <td>pixel</td>\n      <td>32873</td>\n    </tr>\n    <tr>\n      <th>12</th>\n      <td>76.20</td>\n      <td>69.87</td>\n      <td>79.10</td>\n      <td>91.27</td>\n      <td>98.72</td>\n      <td>91.86</td>\n      <td>74.53</td>\n      <td>68.16</td>\n      <td>68.16</td>\n      <td>68.16</td>\n      <td>pixel</td>\n      <td>32873</td>\n    </tr>\n  </tbody>\n</table>\n</div>"
     },
     "execution_count": 15,
     "metadata": {},
     "output_type": "execute_result"
    }
   ],
   "source": [
    "df_seeds = pd.concat([dev_df_1111, dev_df_8446, dev_df_32873])\n",
    "df_seeds"
   ]
  },
  {
   "cell_type": "code",
   "outputs": [],
   "source": [
    "dev_df = return_df_visual()"
   ],
   "metadata": {
    "collapsed": false,
    "ExecuteTime": {
     "end_time": "2024-04-24T14:54:01.610944692Z",
     "start_time": "2024-04-24T14:54:01.135576130Z"
    }
   },
   "execution_count": 6
  },
  {
   "cell_type": "code",
   "execution_count": 7,
   "metadata": {
    "collapsed": false,
    "ExecuteTime": {
     "end_time": "2024-04-24T14:54:02.682140424Z",
     "start_time": "2024-04-24T14:54:02.628232506Z"
    }
   },
   "outputs": [
    {
     "ename": "NameError",
     "evalue": "name 'df_seeds' is not defined",
     "output_type": "error",
     "traceback": [
      "\u001B[0;31m---------------------------------------------------------------------------\u001B[0m",
      "\u001B[0;31mNameError\u001B[0m                                 Traceback (most recent call last)",
      "Cell \u001B[0;32mIn[7], line 1\u001B[0m\n\u001B[0;32m----> 1\u001B[0m ax \u001B[38;5;241m=\u001B[39m sns\u001B[38;5;241m.\u001B[39mlineplot(data\u001B[38;5;241m=\u001B[39m\u001B[43mdf_seeds\u001B[49m, x\u001B[38;5;241m=\u001B[39mdf_seeds\u001B[38;5;241m.\u001B[39mindex, y\u001B[38;5;241m=\u001B[39mdf_seeds\u001B[38;5;241m.\u001B[39mcolumns[\u001B[38;5;241m8\u001B[39m], hue\u001B[38;5;241m=\u001B[39m\u001B[38;5;124m'\u001B[39m\u001B[38;5;124mSeed\u001B[39m\u001B[38;5;124m'\u001B[39m)\n\u001B[1;32m      2\u001B[0m ax\u001B[38;5;241m.\u001B[39mset_xticks(\u001B[38;5;28mrange\u001B[39m(\u001B[38;5;241m1\u001B[39m,\u001B[38;5;241m13\u001B[39m))\n\u001B[1;32m      3\u001B[0m \u001B[38;5;66;03m# ax.set_yticks(range(0,101,10))\u001B[39;00m\n",
      "\u001B[0;31mNameError\u001B[0m: name 'df_seeds' is not defined"
     ]
    }
   ],
   "source": [
    "ax = sns.lineplot(data=df_seeds, x=df_seeds.index, y=df_seeds.columns[8], hue='Seed')\n",
    "ax.set_xticks(range(1,13))\n",
    "# ax.set_yticks(range(0,101,10))\n",
    "ax.set_xlabel('Layer')"
   ]
  },
  {
   "cell_type": "code",
   "execution_count": 43,
   "metadata": {
    "collapsed": false,
    "ExecuteTime": {
     "end_time": "2024-04-19T11:12:36.045778603Z",
     "start_time": "2024-04-19T11:12:27.596047111Z"
    }
   },
   "outputs": [
    {
     "data": {
      "text/plain": "       Length  WordContent  Depth  TopConstituents  BigramShift  Tense  \\\n1   97.210000        93.33  37.21            73.78        52.54  87.44   \n2   96.540000        91.72  39.99            76.72        71.37  88.40   \n3   94.760000        89.17  40.96            78.31        82.55  89.12   \n4   94.290000        86.42  42.15            80.07        84.88  89.28   \n5   93.010000        83.02  43.03            80.54        87.07  89.46   \n..        ...          ...    ...              ...          ...    ...   \n8   16.666667         0.10  17.88             5.00        50.00  50.00   \n9   16.666667         0.10  17.88             5.00        50.00  50.00   \n10  16.666667         0.10  17.88             5.00        50.00  50.00   \n11  16.666667         0.10  17.88             5.00        50.00  50.00   \n12  16.666667         0.10  17.88             5.00        50.00  50.00   \n\n    SubjNumber  ObjNumber  OddManOut  CoordinationInversion     Model  \n1        82.69      81.33      53.35                  56.47      bert  \n2        84.22      82.96      54.23                  60.73      bert  \n3        83.74      82.92      55.62                  61.73      bert  \n4        84.64      82.89      56.95                  62.34      bert  \n5        85.11      83.58      59.48                  62.74      bert  \n..         ...        ...        ...                    ...       ...  \n8        50.00      50.00      50.13                  50.00  baseline  \n9        50.00      50.00      50.13                  50.00  baseline  \n10       50.00      50.00      50.13                  50.00  baseline  \n11       50.00      50.00      50.13                  50.00  baseline  \n12       50.00      50.00      50.13                  50.00  baseline  \n\n[72 rows x 11 columns]",
      "text/html": "<div>\n<style scoped>\n    .dataframe tbody tr th:only-of-type {\n        vertical-align: middle;\n    }\n\n    .dataframe tbody tr th {\n        vertical-align: top;\n    }\n\n    .dataframe thead th {\n        text-align: right;\n    }\n</style>\n<table border=\"1\" class=\"dataframe\">\n  <thead>\n    <tr style=\"text-align: right;\">\n      <th></th>\n      <th>Length</th>\n      <th>WordContent</th>\n      <th>Depth</th>\n      <th>TopConstituents</th>\n      <th>BigramShift</th>\n      <th>Tense</th>\n      <th>SubjNumber</th>\n      <th>ObjNumber</th>\n      <th>OddManOut</th>\n      <th>CoordinationInversion</th>\n      <th>Model</th>\n    </tr>\n  </thead>\n  <tbody>\n    <tr>\n      <th>1</th>\n      <td>97.210000</td>\n      <td>93.33</td>\n      <td>37.21</td>\n      <td>73.78</td>\n      <td>52.54</td>\n      <td>87.44</td>\n      <td>82.69</td>\n      <td>81.33</td>\n      <td>53.35</td>\n      <td>56.47</td>\n      <td>bert</td>\n    </tr>\n    <tr>\n      <th>2</th>\n      <td>96.540000</td>\n      <td>91.72</td>\n      <td>39.99</td>\n      <td>76.72</td>\n      <td>71.37</td>\n      <td>88.40</td>\n      <td>84.22</td>\n      <td>82.96</td>\n      <td>54.23</td>\n      <td>60.73</td>\n      <td>bert</td>\n    </tr>\n    <tr>\n      <th>3</th>\n      <td>94.760000</td>\n      <td>89.17</td>\n      <td>40.96</td>\n      <td>78.31</td>\n      <td>82.55</td>\n      <td>89.12</td>\n      <td>83.74</td>\n      <td>82.92</td>\n      <td>55.62</td>\n      <td>61.73</td>\n      <td>bert</td>\n    </tr>\n    <tr>\n      <th>4</th>\n      <td>94.290000</td>\n      <td>86.42</td>\n      <td>42.15</td>\n      <td>80.07</td>\n      <td>84.88</td>\n      <td>89.28</td>\n      <td>84.64</td>\n      <td>82.89</td>\n      <td>56.95</td>\n      <td>62.34</td>\n      <td>bert</td>\n    </tr>\n    <tr>\n      <th>5</th>\n      <td>93.010000</td>\n      <td>83.02</td>\n      <td>43.03</td>\n      <td>80.54</td>\n      <td>87.07</td>\n      <td>89.46</td>\n      <td>85.11</td>\n      <td>83.58</td>\n      <td>59.48</td>\n      <td>62.74</td>\n      <td>bert</td>\n    </tr>\n    <tr>\n      <th>...</th>\n      <td>...</td>\n      <td>...</td>\n      <td>...</td>\n      <td>...</td>\n      <td>...</td>\n      <td>...</td>\n      <td>...</td>\n      <td>...</td>\n      <td>...</td>\n      <td>...</td>\n      <td>...</td>\n    </tr>\n    <tr>\n      <th>8</th>\n      <td>16.666667</td>\n      <td>0.10</td>\n      <td>17.88</td>\n      <td>5.00</td>\n      <td>50.00</td>\n      <td>50.00</td>\n      <td>50.00</td>\n      <td>50.00</td>\n      <td>50.13</td>\n      <td>50.00</td>\n      <td>baseline</td>\n    </tr>\n    <tr>\n      <th>9</th>\n      <td>16.666667</td>\n      <td>0.10</td>\n      <td>17.88</td>\n      <td>5.00</td>\n      <td>50.00</td>\n      <td>50.00</td>\n      <td>50.00</td>\n      <td>50.00</td>\n      <td>50.13</td>\n      <td>50.00</td>\n      <td>baseline</td>\n    </tr>\n    <tr>\n      <th>10</th>\n      <td>16.666667</td>\n      <td>0.10</td>\n      <td>17.88</td>\n      <td>5.00</td>\n      <td>50.00</td>\n      <td>50.00</td>\n      <td>50.00</td>\n      <td>50.00</td>\n      <td>50.13</td>\n      <td>50.00</td>\n      <td>baseline</td>\n    </tr>\n    <tr>\n      <th>11</th>\n      <td>16.666667</td>\n      <td>0.10</td>\n      <td>17.88</td>\n      <td>5.00</td>\n      <td>50.00</td>\n      <td>50.00</td>\n      <td>50.00</td>\n      <td>50.00</td>\n      <td>50.13</td>\n      <td>50.00</td>\n      <td>baseline</td>\n    </tr>\n    <tr>\n      <th>12</th>\n      <td>16.666667</td>\n      <td>0.10</td>\n      <td>17.88</td>\n      <td>5.00</td>\n      <td>50.00</td>\n      <td>50.00</td>\n      <td>50.00</td>\n      <td>50.00</td>\n      <td>50.13</td>\n      <td>50.00</td>\n      <td>baseline</td>\n    </tr>\n  </tbody>\n</table>\n<p>72 rows × 11 columns</p>\n</div>"
     },
     "execution_count": 43,
     "metadata": {},
     "output_type": "execute_result"
    }
   ],
   "source": [
    "language = \"English\"\n",
    "# dev_df = return_df_seeds_models(language)\n",
    "dev_df = return_df_seeds_models_eng(language)\n",
    "\n",
    "dev_df"
   ]
  },
  {
   "cell_type": "code",
   "outputs": [
    {
     "data": {
      "text/plain": "       Length  WordContent  Depth  TopConstituents  BigramShift  Tense  \\\n1   97.210000        93.33  37.21            73.78        52.54  87.44   \n2   96.540000        91.72  39.99            76.72        71.37  88.40   \n3   94.760000        89.17  40.96            78.31        82.55  89.12   \n4   94.290000        86.42  42.15            80.07        84.88  89.28   \n5   93.010000        83.02  43.03            80.54        87.07  89.46   \n6   92.280000        79.10  42.29            81.24        88.27  89.66   \n7   91.310000        75.83  42.29            81.20        89.78  89.71   \n8   90.540000        72.42  42.53            80.58        90.78  90.11   \n9   88.750000        67.95  41.04            79.65        90.82  90.32   \n10  85.770000        63.91  40.17            77.70        90.21  90.61   \n11  83.150000        62.29  39.01            76.19        89.75  90.41   \n12  81.700000        59.79  37.26            74.85        89.00  90.42   \n1   80.580000         1.62  22.79            37.16        51.22  75.55   \n2   83.580000         4.48  25.22            45.23        50.84  80.44   \n3   86.290000        15.09  27.61            49.97        52.00  85.27   \n4   89.910000        34.11  31.31            56.81        54.47  86.29   \n5   91.630000        56.99  34.22            62.87        60.21  87.27   \n6   91.790000        68.22  35.85            70.14        67.30  87.54   \n7   90.460000        71.81  37.81            73.54        70.98  88.61   \n8   91.130000        70.65  39.66            75.56        74.53  89.07   \n9   90.940000        68.82  40.38            76.44        79.31  89.02   \n10  89.190000        66.92  39.79            76.12        79.93  89.14   \n11  88.760000        65.77  39.13            75.88        79.84  88.95   \n12  87.700000        62.54  37.15            74.87        79.87  89.03   \n1   76.520000         3.86  24.05            45.17        51.06  74.00   \n2   80.930000         4.21  24.70            47.77        50.37  75.45   \n3   82.450000         5.11  24.51            50.16        50.94  76.28   \n4   83.300000         5.60  25.05            52.01        50.62  77.12   \n5   82.800000         5.67  25.18            52.36        51.23  76.85   \n6   82.330000         6.20  24.74            52.09        50.94  76.70   \n7   81.230000         5.70  24.59            53.22        50.90  76.15   \n8   81.640000         5.72  23.75            54.82        50.86  75.51   \n9   80.930000         5.54  24.66            54.49        50.96  76.03   \n10  80.870000         5.41  24.23            52.97        50.59  75.13   \n11  81.040000         4.22  24.12            52.36        50.93  75.02   \n12  78.640000         2.64  22.45            47.46        50.22  72.31   \n1   88.570000        11.40  24.52            45.83        50.24  74.00   \n2   90.290000        13.92  25.48            50.79        50.60  76.80   \n3   89.860000        15.89  25.81            51.85        50.84  79.33   \n4   90.750000        20.06  26.44            54.43        51.30  82.91   \n5   92.250000        40.27  30.42            58.71        52.20  85.00   \n6   92.530000        54.81  30.80            62.48        53.17  85.36   \n7   92.560000        56.28  31.83            63.25        53.97  85.02   \n8   92.220000        58.99  31.63            64.63        53.97  84.77   \n9   92.560000        56.73  30.77            64.51        54.64  84.51   \n10  92.650000        57.42  31.87            64.66        55.10  84.34   \n11  92.420000        57.02  31.06            64.58        54.99  84.66   \n12  92.360000        51.86  30.53            63.39        54.90  84.40   \n1   16.666667         0.10  17.88             5.00        50.00  50.00   \n2   16.666667         0.10  17.88             5.00        50.00  50.00   \n3   16.666667         0.10  17.88             5.00        50.00  50.00   \n4   16.666667         0.10  17.88             5.00        50.00  50.00   \n5   16.666667         0.10  17.88             5.00        50.00  50.00   \n6   16.666667         0.10  17.88             5.00        50.00  50.00   \n7   16.666667         0.10  17.88             5.00        50.00  50.00   \n8   16.666667         0.10  17.88             5.00        50.00  50.00   \n9   16.666667         0.10  17.88             5.00        50.00  50.00   \n10  16.666667         0.10  17.88             5.00        50.00  50.00   \n11  16.666667         0.10  17.88             5.00        50.00  50.00   \n12  16.666667         0.10  17.88             5.00        50.00  50.00   \n\n    SubjNumber  ObjNumber  OddManOut  CoordinationInversion        Model  \n1        82.69      81.33      53.35                  56.47         bert  \n2        84.22      82.96      54.23                  60.73         bert  \n3        83.74      82.92      55.62                  61.73         bert  \n4        84.64      82.89      56.95                  62.34         bert  \n5        85.11      83.58      59.48                  62.74         bert  \n6        85.96      83.82      62.51                  65.49         bert  \n7        87.83      83.65      64.21                  69.22         bert  \n8        87.56      84.09      65.48                  70.83         bert  \n9        87.63      83.52      66.51                  72.43         bert  \n10       86.84      82.63      66.93                  71.30         bert  \n11       86.30      82.11      67.30                  70.49         bert  \n12       85.61      80.98      66.17                  69.43         bert  \n1        64.28      69.39      50.31                  51.39        pixel  \n2        70.66      73.23      50.23                  51.67        pixel  \n3        76.94      77.60      50.38                  52.38        pixel  \n4        79.50      79.57      50.94                  53.72        pixel  \n5        81.03      81.02      50.63                  56.11        pixel  \n6        82.68      81.97      50.66                  58.33        pixel  \n7        85.01      83.75      51.58                  59.05        pixel  \n8        86.43      84.42      54.01                  62.55        pixel  \n9        86.84      84.58      55.47                  63.30        pixel  \n10       87.34      84.40      57.25                  64.48        pixel  \n11       87.25      84.38      57.15                  64.79        pixel  \n12       87.33      83.76      57.11                  64.81        pixel  \n1        64.12      67.32      50.28                  52.38      vit-mae  \n2        65.20      68.06      50.25                  52.19      vit-mae  \n3        66.41      68.21      50.42                  52.37      vit-mae  \n4        67.18      68.62      50.40                  52.85      vit-mae  \n5        67.59      67.93      50.79                  53.41      vit-mae  \n6        66.69      67.61      50.48                  53.58      vit-mae  \n7        66.22      66.12      50.40                  53.79      vit-mae  \n8        66.50      65.44      50.48                  53.79      vit-mae  \n9        65.83      65.49      50.48                  53.66      vit-mae  \n10       65.16      65.34      50.73                  53.94      vit-mae  \n11       64.92      65.58      50.61                  53.66      vit-mae  \n12       64.15      63.56      50.35                  53.00      vit-mae  \n1        67.22      65.15      50.33                  50.70  pixel-words  \n2        70.98      70.77      50.46                  51.20  pixel-words  \n3        72.22      73.27      50.50                  52.25  pixel-words  \n4        75.42      76.16      50.39                  53.78  pixel-words  \n5        78.00      77.77      50.52                  53.84  pixel-words  \n6        79.27      79.01      50.60                  54.91  pixel-words  \n7        79.75      79.01      50.69                  55.40  pixel-words  \n8        80.45      79.06      50.47                  57.39  pixel-words  \n9        80.33      79.13      50.47                  56.51  pixel-words  \n10       80.91      79.40      50.37                  57.14  pixel-words  \n11       80.54      78.93      50.50                  56.92  pixel-words  \n12       79.97      78.62      50.45                  57.07  pixel-words  \n1        50.00      50.00      50.13                  50.00     baseline  \n2        50.00      50.00      50.13                  50.00     baseline  \n3        50.00      50.00      50.13                  50.00     baseline  \n4        50.00      50.00      50.13                  50.00     baseline  \n5        50.00      50.00      50.13                  50.00     baseline  \n6        50.00      50.00      50.13                  50.00     baseline  \n7        50.00      50.00      50.13                  50.00     baseline  \n8        50.00      50.00      50.13                  50.00     baseline  \n9        50.00      50.00      50.13                  50.00     baseline  \n10       50.00      50.00      50.13                  50.00     baseline  \n11       50.00      50.00      50.13                  50.00     baseline  \n12       50.00      50.00      50.13                  50.00     baseline  ",
      "text/html": "<div>\n<style scoped>\n    .dataframe tbody tr th:only-of-type {\n        vertical-align: middle;\n    }\n\n    .dataframe tbody tr th {\n        vertical-align: top;\n    }\n\n    .dataframe thead th {\n        text-align: right;\n    }\n</style>\n<table border=\"1\" class=\"dataframe\">\n  <thead>\n    <tr style=\"text-align: right;\">\n      <th></th>\n      <th>Length</th>\n      <th>WordContent</th>\n      <th>Depth</th>\n      <th>TopConstituents</th>\n      <th>BigramShift</th>\n      <th>Tense</th>\n      <th>SubjNumber</th>\n      <th>ObjNumber</th>\n      <th>OddManOut</th>\n      <th>CoordinationInversion</th>\n      <th>Model</th>\n    </tr>\n  </thead>\n  <tbody>\n    <tr>\n      <th>1</th>\n      <td>97.210000</td>\n      <td>93.33</td>\n      <td>37.21</td>\n      <td>73.78</td>\n      <td>52.54</td>\n      <td>87.44</td>\n      <td>82.69</td>\n      <td>81.33</td>\n      <td>53.35</td>\n      <td>56.47</td>\n      <td>bert</td>\n    </tr>\n    <tr>\n      <th>2</th>\n      <td>96.540000</td>\n      <td>91.72</td>\n      <td>39.99</td>\n      <td>76.72</td>\n      <td>71.37</td>\n      <td>88.40</td>\n      <td>84.22</td>\n      <td>82.96</td>\n      <td>54.23</td>\n      <td>60.73</td>\n      <td>bert</td>\n    </tr>\n    <tr>\n      <th>3</th>\n      <td>94.760000</td>\n      <td>89.17</td>\n      <td>40.96</td>\n      <td>78.31</td>\n      <td>82.55</td>\n      <td>89.12</td>\n      <td>83.74</td>\n      <td>82.92</td>\n      <td>55.62</td>\n      <td>61.73</td>\n      <td>bert</td>\n    </tr>\n    <tr>\n      <th>4</th>\n      <td>94.290000</td>\n      <td>86.42</td>\n      <td>42.15</td>\n      <td>80.07</td>\n      <td>84.88</td>\n      <td>89.28</td>\n      <td>84.64</td>\n      <td>82.89</td>\n      <td>56.95</td>\n      <td>62.34</td>\n      <td>bert</td>\n    </tr>\n    <tr>\n      <th>5</th>\n      <td>93.010000</td>\n      <td>83.02</td>\n      <td>43.03</td>\n      <td>80.54</td>\n      <td>87.07</td>\n      <td>89.46</td>\n      <td>85.11</td>\n      <td>83.58</td>\n      <td>59.48</td>\n      <td>62.74</td>\n      <td>bert</td>\n    </tr>\n    <tr>\n      <th>6</th>\n      <td>92.280000</td>\n      <td>79.10</td>\n      <td>42.29</td>\n      <td>81.24</td>\n      <td>88.27</td>\n      <td>89.66</td>\n      <td>85.96</td>\n      <td>83.82</td>\n      <td>62.51</td>\n      <td>65.49</td>\n      <td>bert</td>\n    </tr>\n    <tr>\n      <th>7</th>\n      <td>91.310000</td>\n      <td>75.83</td>\n      <td>42.29</td>\n      <td>81.20</td>\n      <td>89.78</td>\n      <td>89.71</td>\n      <td>87.83</td>\n      <td>83.65</td>\n      <td>64.21</td>\n      <td>69.22</td>\n      <td>bert</td>\n    </tr>\n    <tr>\n      <th>8</th>\n      <td>90.540000</td>\n      <td>72.42</td>\n      <td>42.53</td>\n      <td>80.58</td>\n      <td>90.78</td>\n      <td>90.11</td>\n      <td>87.56</td>\n      <td>84.09</td>\n      <td>65.48</td>\n      <td>70.83</td>\n      <td>bert</td>\n    </tr>\n    <tr>\n      <th>9</th>\n      <td>88.750000</td>\n      <td>67.95</td>\n      <td>41.04</td>\n      <td>79.65</td>\n      <td>90.82</td>\n      <td>90.32</td>\n      <td>87.63</td>\n      <td>83.52</td>\n      <td>66.51</td>\n      <td>72.43</td>\n      <td>bert</td>\n    </tr>\n    <tr>\n      <th>10</th>\n      <td>85.770000</td>\n      <td>63.91</td>\n      <td>40.17</td>\n      <td>77.70</td>\n      <td>90.21</td>\n      <td>90.61</td>\n      <td>86.84</td>\n      <td>82.63</td>\n      <td>66.93</td>\n      <td>71.30</td>\n      <td>bert</td>\n    </tr>\n    <tr>\n      <th>11</th>\n      <td>83.150000</td>\n      <td>62.29</td>\n      <td>39.01</td>\n      <td>76.19</td>\n      <td>89.75</td>\n      <td>90.41</td>\n      <td>86.30</td>\n      <td>82.11</td>\n      <td>67.30</td>\n      <td>70.49</td>\n      <td>bert</td>\n    </tr>\n    <tr>\n      <th>12</th>\n      <td>81.700000</td>\n      <td>59.79</td>\n      <td>37.26</td>\n      <td>74.85</td>\n      <td>89.00</td>\n      <td>90.42</td>\n      <td>85.61</td>\n      <td>80.98</td>\n      <td>66.17</td>\n      <td>69.43</td>\n      <td>bert</td>\n    </tr>\n    <tr>\n      <th>1</th>\n      <td>80.580000</td>\n      <td>1.62</td>\n      <td>22.79</td>\n      <td>37.16</td>\n      <td>51.22</td>\n      <td>75.55</td>\n      <td>64.28</td>\n      <td>69.39</td>\n      <td>50.31</td>\n      <td>51.39</td>\n      <td>pixel</td>\n    </tr>\n    <tr>\n      <th>2</th>\n      <td>83.580000</td>\n      <td>4.48</td>\n      <td>25.22</td>\n      <td>45.23</td>\n      <td>50.84</td>\n      <td>80.44</td>\n      <td>70.66</td>\n      <td>73.23</td>\n      <td>50.23</td>\n      <td>51.67</td>\n      <td>pixel</td>\n    </tr>\n    <tr>\n      <th>3</th>\n      <td>86.290000</td>\n      <td>15.09</td>\n      <td>27.61</td>\n      <td>49.97</td>\n      <td>52.00</td>\n      <td>85.27</td>\n      <td>76.94</td>\n      <td>77.60</td>\n      <td>50.38</td>\n      <td>52.38</td>\n      <td>pixel</td>\n    </tr>\n    <tr>\n      <th>4</th>\n      <td>89.910000</td>\n      <td>34.11</td>\n      <td>31.31</td>\n      <td>56.81</td>\n      <td>54.47</td>\n      <td>86.29</td>\n      <td>79.50</td>\n      <td>79.57</td>\n      <td>50.94</td>\n      <td>53.72</td>\n      <td>pixel</td>\n    </tr>\n    <tr>\n      <th>5</th>\n      <td>91.630000</td>\n      <td>56.99</td>\n      <td>34.22</td>\n      <td>62.87</td>\n      <td>60.21</td>\n      <td>87.27</td>\n      <td>81.03</td>\n      <td>81.02</td>\n      <td>50.63</td>\n      <td>56.11</td>\n      <td>pixel</td>\n    </tr>\n    <tr>\n      <th>6</th>\n      <td>91.790000</td>\n      <td>68.22</td>\n      <td>35.85</td>\n      <td>70.14</td>\n      <td>67.30</td>\n      <td>87.54</td>\n      <td>82.68</td>\n      <td>81.97</td>\n      <td>50.66</td>\n      <td>58.33</td>\n      <td>pixel</td>\n    </tr>\n    <tr>\n      <th>7</th>\n      <td>90.460000</td>\n      <td>71.81</td>\n      <td>37.81</td>\n      <td>73.54</td>\n      <td>70.98</td>\n      <td>88.61</td>\n      <td>85.01</td>\n      <td>83.75</td>\n      <td>51.58</td>\n      <td>59.05</td>\n      <td>pixel</td>\n    </tr>\n    <tr>\n      <th>8</th>\n      <td>91.130000</td>\n      <td>70.65</td>\n      <td>39.66</td>\n      <td>75.56</td>\n      <td>74.53</td>\n      <td>89.07</td>\n      <td>86.43</td>\n      <td>84.42</td>\n      <td>54.01</td>\n      <td>62.55</td>\n      <td>pixel</td>\n    </tr>\n    <tr>\n      <th>9</th>\n      <td>90.940000</td>\n      <td>68.82</td>\n      <td>40.38</td>\n      <td>76.44</td>\n      <td>79.31</td>\n      <td>89.02</td>\n      <td>86.84</td>\n      <td>84.58</td>\n      <td>55.47</td>\n      <td>63.30</td>\n      <td>pixel</td>\n    </tr>\n    <tr>\n      <th>10</th>\n      <td>89.190000</td>\n      <td>66.92</td>\n      <td>39.79</td>\n      <td>76.12</td>\n      <td>79.93</td>\n      <td>89.14</td>\n      <td>87.34</td>\n      <td>84.40</td>\n      <td>57.25</td>\n      <td>64.48</td>\n      <td>pixel</td>\n    </tr>\n    <tr>\n      <th>11</th>\n      <td>88.760000</td>\n      <td>65.77</td>\n      <td>39.13</td>\n      <td>75.88</td>\n      <td>79.84</td>\n      <td>88.95</td>\n      <td>87.25</td>\n      <td>84.38</td>\n      <td>57.15</td>\n      <td>64.79</td>\n      <td>pixel</td>\n    </tr>\n    <tr>\n      <th>12</th>\n      <td>87.700000</td>\n      <td>62.54</td>\n      <td>37.15</td>\n      <td>74.87</td>\n      <td>79.87</td>\n      <td>89.03</td>\n      <td>87.33</td>\n      <td>83.76</td>\n      <td>57.11</td>\n      <td>64.81</td>\n      <td>pixel</td>\n    </tr>\n    <tr>\n      <th>1</th>\n      <td>76.520000</td>\n      <td>3.86</td>\n      <td>24.05</td>\n      <td>45.17</td>\n      <td>51.06</td>\n      <td>74.00</td>\n      <td>64.12</td>\n      <td>67.32</td>\n      <td>50.28</td>\n      <td>52.38</td>\n      <td>vit-mae</td>\n    </tr>\n    <tr>\n      <th>2</th>\n      <td>80.930000</td>\n      <td>4.21</td>\n      <td>24.70</td>\n      <td>47.77</td>\n      <td>50.37</td>\n      <td>75.45</td>\n      <td>65.20</td>\n      <td>68.06</td>\n      <td>50.25</td>\n      <td>52.19</td>\n      <td>vit-mae</td>\n    </tr>\n    <tr>\n      <th>3</th>\n      <td>82.450000</td>\n      <td>5.11</td>\n      <td>24.51</td>\n      <td>50.16</td>\n      <td>50.94</td>\n      <td>76.28</td>\n      <td>66.41</td>\n      <td>68.21</td>\n      <td>50.42</td>\n      <td>52.37</td>\n      <td>vit-mae</td>\n    </tr>\n    <tr>\n      <th>4</th>\n      <td>83.300000</td>\n      <td>5.60</td>\n      <td>25.05</td>\n      <td>52.01</td>\n      <td>50.62</td>\n      <td>77.12</td>\n      <td>67.18</td>\n      <td>68.62</td>\n      <td>50.40</td>\n      <td>52.85</td>\n      <td>vit-mae</td>\n    </tr>\n    <tr>\n      <th>5</th>\n      <td>82.800000</td>\n      <td>5.67</td>\n      <td>25.18</td>\n      <td>52.36</td>\n      <td>51.23</td>\n      <td>76.85</td>\n      <td>67.59</td>\n      <td>67.93</td>\n      <td>50.79</td>\n      <td>53.41</td>\n      <td>vit-mae</td>\n    </tr>\n    <tr>\n      <th>6</th>\n      <td>82.330000</td>\n      <td>6.20</td>\n      <td>24.74</td>\n      <td>52.09</td>\n      <td>50.94</td>\n      <td>76.70</td>\n      <td>66.69</td>\n      <td>67.61</td>\n      <td>50.48</td>\n      <td>53.58</td>\n      <td>vit-mae</td>\n    </tr>\n    <tr>\n      <th>7</th>\n      <td>81.230000</td>\n      <td>5.70</td>\n      <td>24.59</td>\n      <td>53.22</td>\n      <td>50.90</td>\n      <td>76.15</td>\n      <td>66.22</td>\n      <td>66.12</td>\n      <td>50.40</td>\n      <td>53.79</td>\n      <td>vit-mae</td>\n    </tr>\n    <tr>\n      <th>8</th>\n      <td>81.640000</td>\n      <td>5.72</td>\n      <td>23.75</td>\n      <td>54.82</td>\n      <td>50.86</td>\n      <td>75.51</td>\n      <td>66.50</td>\n      <td>65.44</td>\n      <td>50.48</td>\n      <td>53.79</td>\n      <td>vit-mae</td>\n    </tr>\n    <tr>\n      <th>9</th>\n      <td>80.930000</td>\n      <td>5.54</td>\n      <td>24.66</td>\n      <td>54.49</td>\n      <td>50.96</td>\n      <td>76.03</td>\n      <td>65.83</td>\n      <td>65.49</td>\n      <td>50.48</td>\n      <td>53.66</td>\n      <td>vit-mae</td>\n    </tr>\n    <tr>\n      <th>10</th>\n      <td>80.870000</td>\n      <td>5.41</td>\n      <td>24.23</td>\n      <td>52.97</td>\n      <td>50.59</td>\n      <td>75.13</td>\n      <td>65.16</td>\n      <td>65.34</td>\n      <td>50.73</td>\n      <td>53.94</td>\n      <td>vit-mae</td>\n    </tr>\n    <tr>\n      <th>11</th>\n      <td>81.040000</td>\n      <td>4.22</td>\n      <td>24.12</td>\n      <td>52.36</td>\n      <td>50.93</td>\n      <td>75.02</td>\n      <td>64.92</td>\n      <td>65.58</td>\n      <td>50.61</td>\n      <td>53.66</td>\n      <td>vit-mae</td>\n    </tr>\n    <tr>\n      <th>12</th>\n      <td>78.640000</td>\n      <td>2.64</td>\n      <td>22.45</td>\n      <td>47.46</td>\n      <td>50.22</td>\n      <td>72.31</td>\n      <td>64.15</td>\n      <td>63.56</td>\n      <td>50.35</td>\n      <td>53.00</td>\n      <td>vit-mae</td>\n    </tr>\n    <tr>\n      <th>1</th>\n      <td>88.570000</td>\n      <td>11.40</td>\n      <td>24.52</td>\n      <td>45.83</td>\n      <td>50.24</td>\n      <td>74.00</td>\n      <td>67.22</td>\n      <td>65.15</td>\n      <td>50.33</td>\n      <td>50.70</td>\n      <td>pixel-words</td>\n    </tr>\n    <tr>\n      <th>2</th>\n      <td>90.290000</td>\n      <td>13.92</td>\n      <td>25.48</td>\n      <td>50.79</td>\n      <td>50.60</td>\n      <td>76.80</td>\n      <td>70.98</td>\n      <td>70.77</td>\n      <td>50.46</td>\n      <td>51.20</td>\n      <td>pixel-words</td>\n    </tr>\n    <tr>\n      <th>3</th>\n      <td>89.860000</td>\n      <td>15.89</td>\n      <td>25.81</td>\n      <td>51.85</td>\n      <td>50.84</td>\n      <td>79.33</td>\n      <td>72.22</td>\n      <td>73.27</td>\n      <td>50.50</td>\n      <td>52.25</td>\n      <td>pixel-words</td>\n    </tr>\n    <tr>\n      <th>4</th>\n      <td>90.750000</td>\n      <td>20.06</td>\n      <td>26.44</td>\n      <td>54.43</td>\n      <td>51.30</td>\n      <td>82.91</td>\n      <td>75.42</td>\n      <td>76.16</td>\n      <td>50.39</td>\n      <td>53.78</td>\n      <td>pixel-words</td>\n    </tr>\n    <tr>\n      <th>5</th>\n      <td>92.250000</td>\n      <td>40.27</td>\n      <td>30.42</td>\n      <td>58.71</td>\n      <td>52.20</td>\n      <td>85.00</td>\n      <td>78.00</td>\n      <td>77.77</td>\n      <td>50.52</td>\n      <td>53.84</td>\n      <td>pixel-words</td>\n    </tr>\n    <tr>\n      <th>6</th>\n      <td>92.530000</td>\n      <td>54.81</td>\n      <td>30.80</td>\n      <td>62.48</td>\n      <td>53.17</td>\n      <td>85.36</td>\n      <td>79.27</td>\n      <td>79.01</td>\n      <td>50.60</td>\n      <td>54.91</td>\n      <td>pixel-words</td>\n    </tr>\n    <tr>\n      <th>7</th>\n      <td>92.560000</td>\n      <td>56.28</td>\n      <td>31.83</td>\n      <td>63.25</td>\n      <td>53.97</td>\n      <td>85.02</td>\n      <td>79.75</td>\n      <td>79.01</td>\n      <td>50.69</td>\n      <td>55.40</td>\n      <td>pixel-words</td>\n    </tr>\n    <tr>\n      <th>8</th>\n      <td>92.220000</td>\n      <td>58.99</td>\n      <td>31.63</td>\n      <td>64.63</td>\n      <td>53.97</td>\n      <td>84.77</td>\n      <td>80.45</td>\n      <td>79.06</td>\n      <td>50.47</td>\n      <td>57.39</td>\n      <td>pixel-words</td>\n    </tr>\n    <tr>\n      <th>9</th>\n      <td>92.560000</td>\n      <td>56.73</td>\n      <td>30.77</td>\n      <td>64.51</td>\n      <td>54.64</td>\n      <td>84.51</td>\n      <td>80.33</td>\n      <td>79.13</td>\n      <td>50.47</td>\n      <td>56.51</td>\n      <td>pixel-words</td>\n    </tr>\n    <tr>\n      <th>10</th>\n      <td>92.650000</td>\n      <td>57.42</td>\n      <td>31.87</td>\n      <td>64.66</td>\n      <td>55.10</td>\n      <td>84.34</td>\n      <td>80.91</td>\n      <td>79.40</td>\n      <td>50.37</td>\n      <td>57.14</td>\n      <td>pixel-words</td>\n    </tr>\n    <tr>\n      <th>11</th>\n      <td>92.420000</td>\n      <td>57.02</td>\n      <td>31.06</td>\n      <td>64.58</td>\n      <td>54.99</td>\n      <td>84.66</td>\n      <td>80.54</td>\n      <td>78.93</td>\n      <td>50.50</td>\n      <td>56.92</td>\n      <td>pixel-words</td>\n    </tr>\n    <tr>\n      <th>12</th>\n      <td>92.360000</td>\n      <td>51.86</td>\n      <td>30.53</td>\n      <td>63.39</td>\n      <td>54.90</td>\n      <td>84.40</td>\n      <td>79.97</td>\n      <td>78.62</td>\n      <td>50.45</td>\n      <td>57.07</td>\n      <td>pixel-words</td>\n    </tr>\n    <tr>\n      <th>1</th>\n      <td>16.666667</td>\n      <td>0.10</td>\n      <td>17.88</td>\n      <td>5.00</td>\n      <td>50.00</td>\n      <td>50.00</td>\n      <td>50.00</td>\n      <td>50.00</td>\n      <td>50.13</td>\n      <td>50.00</td>\n      <td>baseline</td>\n    </tr>\n    <tr>\n      <th>2</th>\n      <td>16.666667</td>\n      <td>0.10</td>\n      <td>17.88</td>\n      <td>5.00</td>\n      <td>50.00</td>\n      <td>50.00</td>\n      <td>50.00</td>\n      <td>50.00</td>\n      <td>50.13</td>\n      <td>50.00</td>\n      <td>baseline</td>\n    </tr>\n    <tr>\n      <th>3</th>\n      <td>16.666667</td>\n      <td>0.10</td>\n      <td>17.88</td>\n      <td>5.00</td>\n      <td>50.00</td>\n      <td>50.00</td>\n      <td>50.00</td>\n      <td>50.00</td>\n      <td>50.13</td>\n      <td>50.00</td>\n      <td>baseline</td>\n    </tr>\n    <tr>\n      <th>4</th>\n      <td>16.666667</td>\n      <td>0.10</td>\n      <td>17.88</td>\n      <td>5.00</td>\n      <td>50.00</td>\n      <td>50.00</td>\n      <td>50.00</td>\n      <td>50.00</td>\n      <td>50.13</td>\n      <td>50.00</td>\n      <td>baseline</td>\n    </tr>\n    <tr>\n      <th>5</th>\n      <td>16.666667</td>\n      <td>0.10</td>\n      <td>17.88</td>\n      <td>5.00</td>\n      <td>50.00</td>\n      <td>50.00</td>\n      <td>50.00</td>\n      <td>50.00</td>\n      <td>50.13</td>\n      <td>50.00</td>\n      <td>baseline</td>\n    </tr>\n    <tr>\n      <th>6</th>\n      <td>16.666667</td>\n      <td>0.10</td>\n      <td>17.88</td>\n      <td>5.00</td>\n      <td>50.00</td>\n      <td>50.00</td>\n      <td>50.00</td>\n      <td>50.00</td>\n      <td>50.13</td>\n      <td>50.00</td>\n      <td>baseline</td>\n    </tr>\n    <tr>\n      <th>7</th>\n      <td>16.666667</td>\n      <td>0.10</td>\n      <td>17.88</td>\n      <td>5.00</td>\n      <td>50.00</td>\n      <td>50.00</td>\n      <td>50.00</td>\n      <td>50.00</td>\n      <td>50.13</td>\n      <td>50.00</td>\n      <td>baseline</td>\n    </tr>\n    <tr>\n      <th>8</th>\n      <td>16.666667</td>\n      <td>0.10</td>\n      <td>17.88</td>\n      <td>5.00</td>\n      <td>50.00</td>\n      <td>50.00</td>\n      <td>50.00</td>\n      <td>50.00</td>\n      <td>50.13</td>\n      <td>50.00</td>\n      <td>baseline</td>\n    </tr>\n    <tr>\n      <th>9</th>\n      <td>16.666667</td>\n      <td>0.10</td>\n      <td>17.88</td>\n      <td>5.00</td>\n      <td>50.00</td>\n      <td>50.00</td>\n      <td>50.00</td>\n      <td>50.00</td>\n      <td>50.13</td>\n      <td>50.00</td>\n      <td>baseline</td>\n    </tr>\n    <tr>\n      <th>10</th>\n      <td>16.666667</td>\n      <td>0.10</td>\n      <td>17.88</td>\n      <td>5.00</td>\n      <td>50.00</td>\n      <td>50.00</td>\n      <td>50.00</td>\n      <td>50.00</td>\n      <td>50.13</td>\n      <td>50.00</td>\n      <td>baseline</td>\n    </tr>\n    <tr>\n      <th>11</th>\n      <td>16.666667</td>\n      <td>0.10</td>\n      <td>17.88</td>\n      <td>5.00</td>\n      <td>50.00</td>\n      <td>50.00</td>\n      <td>50.00</td>\n      <td>50.00</td>\n      <td>50.13</td>\n      <td>50.00</td>\n      <td>baseline</td>\n    </tr>\n    <tr>\n      <th>12</th>\n      <td>16.666667</td>\n      <td>0.10</td>\n      <td>17.88</td>\n      <td>5.00</td>\n      <td>50.00</td>\n      <td>50.00</td>\n      <td>50.00</td>\n      <td>50.00</td>\n      <td>50.13</td>\n      <td>50.00</td>\n      <td>baseline</td>\n    </tr>\n  </tbody>\n</table>\n</div>"
     },
     "execution_count": 14,
     "metadata": {},
     "output_type": "execute_result"
    }
   ],
   "source": [
    "dev_df = return_df_eng(seed=\"1111\")\n",
    "dev_df"
   ],
   "metadata": {
    "collapsed": false,
    "ExecuteTime": {
     "end_time": "2024-04-25T12:00:27.072207489Z",
     "start_time": "2024-04-25T12:00:17.080242035Z"
    }
   },
   "execution_count": 14
  },
  {
   "cell_type": "code",
   "execution_count": 46,
   "metadata": {
    "colab": {
     "base_uri": "https://localhost:8080/",
     "height": 451
    },
    "executionInfo": {
     "elapsed": 1763,
     "status": "ok",
     "timestamp": 1695734048806,
     "user": {
      "displayName": "Kushal Tatariya",
      "userId": "02875399616543221813"
     },
     "user_tz": -120
    },
    "id": "2Hp-xBj6wd8j",
    "outputId": "f6af4cd3-88fb-441c-d9f0-349e43a0884a",
    "ExecuteTime": {
     "end_time": "2024-04-25T12:10:07.810680902Z",
     "start_time": "2024-04-25T12:10:07.483302994Z"
    }
   },
   "outputs": [
    {
     "data": {
      "text/plain": "Text(0.5, 0, 'Layer')"
     },
     "execution_count": 46,
     "metadata": {},
     "output_type": "execute_result"
    },
    {
     "data": {
      "text/plain": "<Figure size 640x480 with 1 Axes>",
      "image/png": "[encoded data removed]"
     },
     "metadata": {},
     "output_type": "display_data"
    }
   ],
   "source": [
    "ax = sns.lineplot(data=dev_df, x=dev_df.index, y=dev_df.columns[4], hue='Model')\n",
    "ax.set_xticks(range(1,13))\n",
    "# ax.set_yticks(range(0,101,10))\n",
    "ax.set_xlabel('Layer')"
   ]
  },
  {
   "cell_type": "markdown",
   "metadata": {
    "collapsed": false
   },
   "source": [
    "## Checking the predictions"
   ]
  },
  {
   "cell_type": "code",
   "execution_count": 3,
   "metadata": {
    "ExecuteTime": {
     "end_time": "2024-02-21T17:06:44.604619417Z",
     "start_time": "2024-02-21T17:06:44.413933187Z"
    },
    "collapsed": false
   },
   "outputs": [],
   "source": [
    "from sklearn.metrics import confusion_matrix"
   ]
  },
  {
   "cell_type": "code",
   "execution_count": 88,
   "metadata": {
    "ExecuteTime": {
     "end_time": "2024-02-23T16:59:01.835569374Z",
     "start_time": "2024-02-23T16:59:01.784540574Z"
    },
    "collapsed": false
   },
   "outputs": [
    {
     "data": {
      "text/plain": [
       "0.715917745620716"
      ]
     },
     "execution_count": 88,
     "metadata": {},
     "output_type": "execute_result"
    }
   ],
   "source": [
    "results = read_pickle('pixel', 'Hindi', '1', 'mean')\n",
    "results[1][0].targets.value_counts().max()/results[1][0].targets.value_counts().sum()"
   ]
  },
  {
   "cell_type": "code",
   "execution_count": 76,
   "metadata": {
    "ExecuteTime": {
     "end_time": "2024-02-23T14:36:15.071928837Z",
     "start_time": "2024-02-23T14:36:15.054713927Z"
    },
    "collapsed": false
   },
   "outputs": [],
   "source": [
    "task = results[1][-2]"
   ]
  },
  {
   "cell_type": "code",
   "execution_count": 77,
   "metadata": {
    "ExecuteTime": {
     "end_time": "2024-02-23T14:36:15.613439065Z",
     "start_time": "2024-02-23T14:36:15.591270472Z"
    },
    "collapsed": false
   },
   "outputs": [],
   "source": [
    "df_confusion = pd.crosstab(task['targets'], task['predictions'], rownames=['Actual'], colnames=['Predicted'], margins=True)\n",
    "# df_confusion = pd.crosstab(tense['targets'], tense['predictions'])"
   ]
  },
  {
   "cell_type": "code",
   "execution_count": 78,
   "metadata": {
    "ExecuteTime": {
     "end_time": "2024-02-23T14:36:16.596957309Z",
     "start_time": "2024-02-23T14:36:16.593085096Z"
    },
    "collapsed": false
   },
   "outputs": [
    {
     "data": {
      "text/html": [
       "<div>\n",
       "<style scoped>\n",
       "    .dataframe tbody tr th:only-of-type {\n",
       "        vertical-align: middle;\n",
       "    }\n",
       "\n",
       "    .dataframe tbody tr th {\n",
       "        vertical-align: top;\n",
       "    }\n",
       "\n",
       "    .dataframe thead th {\n",
       "        text-align: right;\n",
       "    }\n",
       "</style>\n",
       "<table border=\"1\" class=\"dataframe\">\n",
       "  <thead>\n",
       "    <tr style=\"text-align: right;\">\n",
       "      <th>Predicted</th>\n",
       "      <th>0</th>\n",
       "      <th>1</th>\n",
       "      <th>All</th>\n",
       "    </tr>\n",
       "    <tr>\n",
       "      <th>Actual</th>\n",
       "      <th></th>\n",
       "      <th></th>\n",
       "      <th></th>\n",
       "    </tr>\n",
       "  </thead>\n",
       "  <tbody>\n",
       "    <tr>\n",
       "      <th>0</th>\n",
       "      <td>4626</td>\n",
       "      <td>2</td>\n",
       "      <td>4628</td>\n",
       "    </tr>\n",
       "    <tr>\n",
       "      <th>1</th>\n",
       "      <td>4785</td>\n",
       "      <td>3</td>\n",
       "      <td>4788</td>\n",
       "    </tr>\n",
       "    <tr>\n",
       "      <th>All</th>\n",
       "      <td>9411</td>\n",
       "      <td>5</td>\n",
       "      <td>9416</td>\n",
       "    </tr>\n",
       "  </tbody>\n",
       "</table>\n",
       "</div>"
      ],
      "text/plain": [
       "Predicted     0  1   All\n",
       "Actual                  \n",
       "0          4626  2  4628\n",
       "1          4785  3  4788\n",
       "All        9411  5  9416"
      ]
     },
     "execution_count": 78,
     "metadata": {},
     "output_type": "execute_result"
    }
   ],
   "source": [
    "df_confusion"
   ]
  },
  {
   "cell_type": "code",
   "execution_count": 16,
   "metadata": {
    "ExecuteTime": {
     "end_time": "2024-02-21T17:07:38.737575704Z",
     "start_time": "2024-02-21T17:07:38.729145570Z"
    },
    "collapsed": false
   },
   "outputs": [],
   "source": [
    "labels = df_confusion.to_numpy()"
   ]
  },
  {
   "cell_type": "code",
   "execution_count": 33,
   "metadata": {
    "ExecuteTime": {
     "end_time": "2024-02-21T17:13:08.575551056Z",
     "start_time": "2024-02-21T17:13:08.408113483Z"
    },
    "collapsed": false
   },
   "outputs": [
    {
     "data": {
      "text/plain": [
       "<Axes: xlabel='targets'>"
      ]
     },
     "execution_count": 33,
     "metadata": {},
     "output_type": "execute_result"
    },
    {
     "data": {
      "image/png": "[encoded data removed]",
      "text/plain": [
       "<Figure size 640x480 with 1 Axes>"
      ]
     },
     "metadata": {},
     "output_type": "display_data"
    }
   ],
   "source": [
    "# create a lineplot from df_confusion\n",
    "sns.lineplot(data=df_confusion)"
   ]
  },
  {
   "cell_type": "code",
   "execution_count": 10,
   "metadata": {
    "ExecuteTime": {
     "end_time": "2024-02-21T17:06:48.906725776Z",
     "start_time": "2024-02-21T17:06:48.703774698Z"
    },
    "collapsed": false
   },
   "outputs": [
    {
     "data": {
      "text/plain": [
       "<Axes: xlabel='Predicted', ylabel='Actual'>"
      ]
     },
     "execution_count": 10,
     "metadata": {},
     "output_type": "execute_result"
    },
    {
     "data": {
      "image/png": "[encoded data removed]",
      "text/plain": [
       "<Figure size 640x480 with 2 Axes>"
      ]
     },
     "metadata": {},
     "output_type": "display_data"
    }
   ],
   "source": [
    "sns.heatmap(df_confusion, cmap=sns.light_palette(\"seagreen\", as_cmap=True), annot=labels, fmt=\"d\")"
   ]
  },
  {
   "cell_type": "code",
   "execution_count": null,
   "metadata": {
    "collapsed": false
   },
   "outputs": [],
   "source": []
  }
 ],
 "metadata": {
  "colab": {
   "provenance": []
  },
  "kernelspec": {
   "display_name": "Python 3",
   "language": "python",
   "name": "python3"
  },
  "language_info": {
   "codemirror_mode": {
    "name": "ipython",
    "version": 3
   },
   "file_extension": ".py",
   "mimetype": "text/x-python",
   "name": "python",
   "nbconvert_exporter": "python",
   "pygments_lexer": "ipython3",
   "version": "3.11.4"
  }
 },
 "nbformat": 4,
 "nbformat_minor": 0
}
