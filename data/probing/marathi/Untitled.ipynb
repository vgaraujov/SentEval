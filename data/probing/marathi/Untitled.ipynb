{
 "cells": [
  {
   "cell_type": "code",
   "execution_count": 1,
   "id": "b0f9ecfd",
   "metadata": {
    "ExecuteTime": {
     "start_time": "2023-11-10T13:44:11.940657Z",
     "end_time": "2023-11-10T13:44:12.301756Z"
    }
   },
   "outputs": [],
   "source": [
    "from glob import glob\n",
    "import pandas as pd\n",
    "import re"
   ]
  },
  {
   "cell_type": "code",
   "execution_count": 2,
   "id": "11ca7a08",
   "metadata": {
    "ExecuteTime": {
     "start_time": "2023-11-10T13:44:12.303013Z",
     "end_time": "2023-11-10T13:44:12.305527Z"
    }
   },
   "outputs": [],
   "source": [
    "regex = re.compile(r'sorting_(.*)')"
   ]
  },
  {
   "cell_type": "code",
   "execution_count": 3,
   "id": "6e9c6b60",
   "metadata": {
    "ExecuteTime": {
     "start_time": "2023-11-10T13:44:14.489258Z",
     "end_time": "2023-11-10T13:44:14.506280Z"
    }
   },
   "outputs": [],
   "source": [
    "filenames = glob(\"*.txt\")"
   ]
  },
  {
   "cell_type": "code",
   "execution_count": 4,
   "id": "cf8742ca",
   "metadata": {
    "ExecuteTime": {
     "start_time": "2023-11-10T13:44:15.529814Z",
     "end_time": "2023-11-10T13:44:15.542882Z"
    }
   },
   "outputs": [
    {
     "data": {
      "text/plain": "['mr_ufal_no_sorting_Tense.txt',\n 'mr_ufal_no_sorting_Case.txt',\n 'mr_ufal_no_sorting_Polarity.txt',\n 'mr_ufal_no_sorting_Person.txt',\n 'mr_ufal_no_sorting_Gender.txt',\n 'mr_ufal_no_sorting_PronType.txt',\n 'mr_ufal_no_sorting_Deixis.txt',\n 'mr_ufal_no_sorting_VerbForm.txt',\n 'mr_ufal_no_sorting_Number.txt',\n 'mr_ufal_no_sorting_Aspect.txt']"
     },
     "execution_count": 4,
     "metadata": {},
     "output_type": "execute_result"
    }
   ],
   "source": [
    "filenames"
   ]
  },
  {
   "cell_type": "code",
   "execution_count": 5,
   "id": "bdad66ef",
   "metadata": {
    "ExecuteTime": {
     "start_time": "2023-11-10T13:45:31.833887Z",
     "end_time": "2023-11-10T13:45:31.839165Z"
    }
   },
   "outputs": [],
   "source": [
    "for file in filenames:\n",
    "    newfilename = regex.findall(file)[0]\n",
    "    with open(file, 'r') as f:\n",
    "        lines = f.read()\n",
    "    with open(newfilename, 'w') as f:\n",
    "        f.write(lines)"
   ]
  },
  {
   "cell_type": "code",
   "execution_count": 4,
   "id": "32346b06",
   "metadata": {
    "ExecuteTime": {
     "start_time": "2023-11-10T13:44:24.023117Z",
     "end_time": "2023-11-10T13:44:24.029664Z"
    }
   },
   "outputs": [],
   "source": []
  },
  {
   "cell_type": "code",
   "execution_count": null,
   "id": "939238ac",
   "metadata": {},
   "outputs": [],
   "source": []
  }
 ],
 "metadata": {
  "kernelspec": {
   "display_name": "Python 3 (ipykernel)",
   "language": "python",
   "name": "python3"
  },
  "language_info": {
   "codemirror_mode": {
    "name": "ipython",
    "version": 3
   },
   "file_extension": ".py",
   "mimetype": "text/x-python",
   "name": "python",
   "nbconvert_exporter": "python",
   "pygments_lexer": "ipython3",
   "version": "3.9.13"
  }
 },
 "nbformat": 4,
 "nbformat_minor": 5
}
